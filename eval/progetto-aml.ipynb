{
 "metadata": {
  "kernelspec": {
   "language": "python",
   "display_name": "Python 3",
   "name": "python3"
  },
  "language_info": {
   "name": "python",
   "version": "3.10.12",
   "mimetype": "text/x-python",
   "codemirror_mode": {
    "name": "ipython",
    "version": 3
   },
   "pygments_lexer": "ipython3",
   "nbconvert_exporter": "python",
   "file_extension": ".py"
  },
  "kaggle": {
   "accelerator": "gpu",
   "dataSources": [
    {
     "sourceType": "datasetVersion",
     "sourceId": 10270002,
     "datasetId": 6354126,
     "databundleVersionId": 10569562
    },
    {
     "sourceType": "datasetVersion",
     "sourceId": 10271842,
     "datasetId": 6355470,
     "databundleVersionId": 10571629
    },
    {
     "sourceType": "datasetVersion",
     "sourceId": 10264339,
     "datasetId": 6349994,
     "databundleVersionId": 10563001
    },
    {
     "sourceType": "datasetVersion",
     "sourceId": 10271953,
     "datasetId": 6355558,
     "databundleVersionId": 10571758
    },
    {
     "sourceType": "datasetVersion",
     "sourceId": 10277931,
     "datasetId": 6359747,
     "databundleVersionId": 10578429
    },
    {
     "sourceType": "datasetVersion",
     "sourceId": 109264,
     "datasetId": 56828,
     "databundleVersionId": 119232
    },
    {
     "sourceType": "modelInstanceVersion",
     "sourceId": 205778,
     "databundleVersionId": 10562225,
     "modelInstanceId": 175504
    }
   ],
   "dockerImageVersionId": 30823,
   "isInternetEnabled": true,
   "language": "python",
   "sourceType": "notebook",
   "isGpuEnabled": true
  }
 },
 "nbformat_minor": 4,
 "nbformat": 4,
 "cells": [
  {
   "cell_type": "markdown",
   "source": "## Download Datasets",
   "metadata": {}
  },
  {
   "cell_type": "markdown",
   "source": "### Download Cityscapes",
   "metadata": {}
  },
  {
   "cell_type": "code",
   "source": [
    "# The following code will only execute\n",
    "# successfully when compression is complete\n",
    "\n",
    "import kagglehub\n",
    "\n",
    "# Download latest version\n",
    "path = kagglehub.dataset_download(\"alessiogio/cityscapes-correctlabels\")\n",
    "\n",
    "print(\"Path to dataset files:\", path)"
   ],
   "metadata": {
    "trusted": true,
    "execution": {
     "iopub.status.busy": "2024-12-22T13:30:59.505814Z",
     "iopub.execute_input": "2024-12-22T13:30:59.506173Z",
     "iopub.status.idle": "2024-12-22T13:35:22.948900Z",
     "shell.execute_reply.started": "2024-12-22T13:30:59.506144Z",
     "shell.execute_reply": "2024-12-22T13:35:22.947832Z"
    }
   },
   "outputs": [],
   "execution_count": null
  },
  {
   "cell_type": "markdown",
   "source": "### Download Tiny Imagenet",
   "metadata": {}
  },
  {
   "cell_type": "code",
   "source": "import kagglehub\n\n# Download latest version\npath = kagglehub.dataset_download(\"akash2sharma/tiny-imagenet\")\n\nprint(\"Path to dataset files:\", path)",
   "metadata": {
    "trusted": true,
    "execution": {
     "iopub.status.busy": "2024-12-21T10:59:57.207506Z",
     "iopub.execute_input": "2024-12-21T10:59:57.207808Z",
     "iopub.status.idle": "2024-12-21T10:59:57.707500Z",
     "shell.execute_reply.started": "2024-12-21T10:59:57.207785Z",
     "shell.execute_reply": "2024-12-21T10:59:57.706618Z"
    }
   },
   "outputs": [],
   "execution_count": null
  },
  {
   "cell_type": "markdown",
   "source": "### Download fishyscapes- lost and found",
   "metadata": {}
  },
  {
   "cell_type": "code",
   "source": [
    "import kagglehub\n",
    "\n",
    "# Download latest version\n",
    "path = kagglehub.dataset_download(\"alessiogio/fs-l-and-f\")\n",
    "\n",
    "print(\"Path to dataset files:\", path)"
   ],
   "metadata": {
    "trusted": true,
    "execution": {
     "iopub.status.busy": "2024-12-22T17:22:51.289979Z",
     "iopub.execute_input": "2024-12-22T17:22:51.290415Z",
     "iopub.status.idle": "2024-12-22T17:22:57.594258Z",
     "shell.execute_reply.started": "2024-12-22T17:22:51.290383Z",
     "shell.execute_reply": "2024-12-22T17:22:57.592948Z"
    }
   },
   "outputs": [],
   "execution_count": null
  },
  {
   "cell_type": "markdown",
   "source": "### Download SMIYC Road Anomaly 21",
   "metadata": {}
  },
  {
   "cell_type": "code",
   "source": [
    "# The following code will only execute\n",
    "# successfully when compression is complete\n",
    "\n",
    "import kagglehub\n",
    "\n",
    "# Download latest version\n",
    "path = kagglehub.dataset_download(\"alessiogio/smiyc-road-anomaly-21\")\n",
    "\n",
    "print(\"Path to dataset files:\", path)"
   ],
   "metadata": {
    "trusted": true,
    "execution": {
     "iopub.status.busy": "2024-12-22T17:46:37.847998Z",
     "iopub.execute_input": "2024-12-22T17:46:37.848301Z",
     "iopub.status.idle": "2024-12-22T17:46:44.830142Z",
     "shell.execute_reply.started": "2024-12-22T17:46:37.848280Z",
     "shell.execute_reply": "2024-12-22T17:46:44.829372Z"
    }
   },
   "outputs": [],
   "execution_count": null
  },
  {
   "cell_type": "markdown",
   "source": "### Download SMIYC Road Obstacles 21",
   "metadata": {}
  },
  {
   "cell_type": "code",
   "source": [
    "# The following code will only execute\n",
    "# successfully when compression is complete\n",
    "\n",
    "import kagglehub\n",
    "\n",
    "# Download latest version\n",
    "path = kagglehub.dataset_download(\"alessiogio/smiyc-road-obstacles-21\")\n",
    "\n",
    "print(\"Path to dataset files:\", path)"
   ],
   "metadata": {
    "trusted": true,
    "execution": {
     "iopub.status.busy": "2024-12-23T10:45:33.506556Z",
     "iopub.execute_input": "2024-12-23T10:45:33.506773Z",
     "iopub.status.idle": "2024-12-23T10:45:45.334759Z",
     "shell.execute_reply.started": "2024-12-23T10:45:33.506744Z",
     "shell.execute_reply": "2024-12-23T10:45:45.333829Z"
    }
   },
   "outputs": [],
   "execution_count": null
  },
  {
   "cell_type": "markdown",
   "source": "## Git Clone",
   "metadata": {}
  },
  {
   "cell_type": "code",
   "source": "!git clone https://github.com/Nome-Provvisorio/AnomalySegmentation.git",
   "metadata": {
    "trusted": true,
    "execution": {
     "iopub.status.busy": "2024-12-23T10:55:38.578817Z",
     "iopub.execute_input": "2024-12-23T10:55:38.579198Z",
     "iopub.status.idle": "2024-12-23T10:55:42.354824Z",
     "shell.execute_reply.started": "2024-12-23T10:55:38.579166Z",
     "shell.execute_reply": "2024-12-23T10:55:42.353989Z"
    }
   },
   "outputs": [],
   "execution_count": null
  },
  {
   "cell_type": "code",
   "source": "!git pull origin main",
   "metadata": {
    "trusted": true,
    "execution": {
     "iopub.status.busy": "2024-12-22T10:14:39.138456Z",
     "iopub.execute_input": "2024-12-22T10:14:39.138791Z",
     "iopub.status.idle": "2024-12-22T10:14:39.256935Z",
     "shell.execute_reply.started": "2024-12-22T10:14:39.138764Z",
     "shell.execute_reply": "2024-12-22T10:14:39.255910Z"
    }
   },
   "outputs": [],
   "execution_count": null
  },
  {
   "cell_type": "code",
   "source": [
    "!pip install visdom\n",
    "!pip install cv2\n",
    "#!pip install torch_xla\n",
    "\n",
    "#!pip install cityscapesscripts\n",
    "!pip install ood_metrics"
   ],
   "metadata": {
    "trusted": true,
    "execution": {
     "iopub.status.busy": "2024-12-23T10:55:51.043887Z",
     "iopub.execute_input": "2024-12-23T10:55:51.044172Z",
     "iopub.status.idle": "2024-12-23T10:56:07.069438Z",
     "shell.execute_reply.started": "2024-12-23T10:55:51.044151Z",
     "shell.execute_reply": "2024-12-23T10:56:07.068632Z"
    }
   },
   "outputs": [],
   "execution_count": null
  },
  {
   "metadata": {},
   "cell_type": "markdown",
   "source": "## Training"
  },
  {
   "metadata": {},
   "cell_type": "markdown",
   "source": "### Run Pretrain"
  },
  {
   "cell_type": "code",
   "source": "%cd \"/kaggle/working\"\n!python3 \"AnomalySegmentation/imagenet/main.py\" \"/kaggle/input/tiny-imagenet/tiny-imagenet-200\"",
   "metadata": {
    "trusted": true,
    "execution": {
     "iopub.status.busy": "2024-12-21T15:22:06.841245Z",
     "iopub.execute_input": "2024-12-21T15:22:06.841524Z",
     "iopub.status.idle": "2024-12-21T15:22:07.051585Z",
     "shell.execute_reply.started": "2024-12-21T15:22:06.841501Z",
     "shell.execute_reply": "2024-12-21T15:22:07.050428Z"
    }
   },
   "outputs": [],
   "execution_count": null
  },
  {
   "cell_type": "markdown",
   "source": "### Run training",
   "metadata": {}
  },
  {
   "cell_type": "code",
   "source": "%cd \"/kaggle/working/AnomalySegmentation/train\"\n!python3 \"main.py\" --savedir erfnet_training1 --datadir \"/kaggle/input/cityscapes-correctlabels/Cityscape\" --num-epochs 10 --batch-size 1 --decoder --pretrainedEncoder \"/kaggle/working/AnomalySegmentation/train/model_best.pth.tar\"",
   "metadata": {
    "trusted": true,
    "execution": {
     "iopub.status.busy": "2024-12-22T14:59:06.319164Z",
     "iopub.execute_input": "2024-12-22T14:59:06.319561Z",
     "iopub.status.idle": "2024-12-22T15:46:03.443058Z",
     "shell.execute_reply.started": "2024-12-22T14:59:06.319520Z",
     "shell.execute_reply": "2024-12-22T15:46:03.442174Z"
    }
   },
   "outputs": [],
   "execution_count": null
  },
  {
   "cell_type": "markdown",
   "source": "## Convertitore Labels",
   "metadata": {}
  },
  {
   "cell_type": "code",
   "source": "\n# python imports\nfrom __future__ import print_function, absolute_import, division\nimport os, glob, sys\n\n# cityscapes imports\nfrom cityscapesscripts.helpers.csHelpers import printError\nfrom cityscapesscripts.preparation.json2labelImg import json2labelImg\n\n# The main method\ndef main():\n    # Where to look for Cityscapes\n\n    cityscapesPath = \"/kaggle/input/cityscapes/Cityscape\"\n    # how to search for all ground truth\n    searchFine   = os.path.join( cityscapesPath , \"gtFine\"   , \"*\" , \"*\" , \"*_gt*_polygons.json\" )\n    searchCoarse = os.path.join( cityscapesPath , \"gtCoarse\" , \"*\" , \"*\" , \"*_gt*_polygons.json\" )\n\n    # search files\n    filesFine = glob.glob( searchFine )\n    filesFine.sort()\n    filesCoarse = glob.glob( searchCoarse )\n    filesCoarse.sort()\n\n    # concatenate fine and coarse\n    files = filesFine + filesCoarse\n    # files = filesFine # use this line if fine is enough for now.\n\n    # quit if we did not find anything\n    if not files:\n        printError( \"Did not find any files. Please consult the README.\" )\n\n    # a bit verbose\n    print(\"Processing {} annotation files\".format(len(files)))\n\n    # iterate through files\n    progress = 0\n    print(\"Progress: {:>3} %\".format( progress * 100 / len(files) ), end=' ')\n    for f in files:\n        # create the output filename\n        dst = f.replace( \"_polygons.json\" , \"_labelTrainIds.png\" )\n\n        # do the conversion\n        try:\n            json2labelImg( f , dst , \"trainIds\" )\n        except:\n            print(\"Failed to convert: {}\".format(f))\n            raise\n\n        # status\n        progress += 1\n        print(\"\\rProgress: {:>3} %\".format( progress * 100 / len(files) ), end=' ')\n        sys.stdout.flush()\n\n\n# call the main\nif __name__ == \"__main__\":\n    main()",
   "metadata": {
    "trusted": true
   },
   "outputs": [],
   "execution_count": null
  },
  {
   "cell_type": "markdown",
   "source": "## Evaluation",
   "metadata": {}
  },
  {
   "cell_type": "markdown",
   "source": "### Generates color images for visualization",
   "metadata": {}
  },
  {
   "cell_type": "code",
   "source": "!python3 \"/kaggle/working/AnomalySegmentation/eval/eval_cityscapes_color.py\" --datadir \"/kaggle/input/cityscapes-correctlabels/Cityscape\" --subset val --loadDir \"/kaggle/working/\" --loadWeights \"AnomalySegmentation/save/erfnet_training1/model_best.pth\" ",
   "metadata": {
    "trusted": true
   },
   "outputs": [],
   "execution_count": null
  },
  {
   "cell_type": "markdown",
   "source": "### eval_iou",
   "metadata": {}
  },
  {
   "cell_type": "code",
   "source": "!python  \"eval_iou.py\" --datadir \"datasets\\cityscapes\" --loadDir \"AnomalySegmentation\" --loadWeights \"/trained_models/model_best_log_norm.pth\" --subset val",
   "metadata": {
    "trusted": true
   },
   "outputs": [],
   "execution_count": null
  },
  {
   "cell_type": "markdown",
   "source": "### eval anomaly",
   "metadata": {}
  },
  {
   "cell_type": "code",
   "source": " !python \"evalAnomaly.py\" --input \"Validation_Dataset\\fs_static\\images\" --loadDir \"/AnomalySegmentation\" --loadWeights \"/trained_models/model_best_log_norm.pth\" --metric maxlogit",
   "metadata": {
    "trusted": true,
    "execution": {
     "iopub.status.busy": "2024-12-23T10:56:10.387130Z",
     "iopub.execute_input": "2024-12-23T10:56:10.387451Z",
     "iopub.status.idle": "2024-12-23T10:56:23.578362Z",
     "shell.execute_reply.started": "2024-12-23T10:56:10.387426Z",
     "shell.execute_reply": "2024-12-23T10:56:23.577231Z"
    }
   },
   "outputs": [],
   "execution_count": null
  }
 ]
}
