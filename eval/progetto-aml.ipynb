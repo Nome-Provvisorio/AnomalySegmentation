{
 "metadata": {
  "kernelspec": {
   "language": "python",
   "display_name": "Python 3",
   "name": "python3"
  },
  "language_info": {
   "name": "python",
   "version": "3.10.12",
   "mimetype": "text/x-python",
   "codemirror_mode": {
    "name": "ipython",
    "version": 3
   },
   "pygments_lexer": "ipython3",
   "nbconvert_exporter": "python",
   "file_extension": ".py"
  },
  "kaggle": {
   "accelerator": "gpu",
   "dataSources": [
    {
     "sourceType": "datasetVersion",
     "sourceId": 10270002,
     "datasetId": 6354126,
     "databundleVersionId": 10569562
    },
    {
     "sourceType": "datasetVersion",
     "sourceId": 10271842,
     "datasetId": 6355470,
     "databundleVersionId": 10571629
    },
    {
     "sourceType": "datasetVersion",
     "sourceId": 10264339,
     "datasetId": 6349994,
     "databundleVersionId": 10563001
    },
    {
     "sourceType": "datasetVersion",
     "sourceId": 10271953,
     "datasetId": 6355558,
     "databundleVersionId": 10571758
    },
    {
     "sourceType": "datasetVersion",
     "sourceId": 10277931,
     "datasetId": 6359747,
     "databundleVersionId": 10578429
    },
    {
     "sourceType": "datasetVersion",
     "sourceId": 109264,
     "datasetId": 56828,
     "databundleVersionId": 119232
    },
    {
     "sourceType": "modelInstanceVersion",
     "sourceId": 205778,
     "databundleVersionId": 10562225,
     "modelInstanceId": 175504
    }
   ],
   "dockerImageVersionId": 30823,
   "isInternetEnabled": true,
   "language": "python",
   "sourceType": "notebook",
   "isGpuEnabled": true
  }
 },
 "nbformat_minor": 4,
 "nbformat": 4,
 "cells": [
  {
   "cell_type": "markdown",
   "source": "## Download Datasets",
   "metadata": {}
  },
  {
   "cell_type": "markdown",
   "source": "### Download Cityscapes",
   "metadata": {}
  },
  {
   "cell_type": "code",
   "source": "# The following code will only execute\n# successfully when compression is complete\n\nimport kagglehub\n\n# Download latest version\npath = kagglehub.dataset_download(\"alessiogio/cityscapes-correctlabels\")\n\nprint(\"Path to dataset files:\", path)",
   "metadata": {
    "trusted": true,
    "execution": {
     "iopub.status.busy": "2024-12-22T13:30:59.505814Z",
     "iopub.execute_input": "2024-12-22T13:30:59.506173Z",
     "iopub.status.idle": "2024-12-22T13:35:22.948900Z",
     "shell.execute_reply.started": "2024-12-22T13:30:59.506144Z",
     "shell.execute_reply": "2024-12-22T13:35:22.947832Z"
    }
   },
   "outputs": [
    {
     "name": "stdout",
     "text": "Mounting files to /kaggle/input/cityscapes-correctlabels...\nPath to dataset files: /kaggle/input/cityscapes-correctlabels\n",
     "output_type": "stream"
    }
   ],
   "execution_count": 1
  },
  {
   "cell_type": "markdown",
   "source": "### Download Tiny Imagenet",
   "metadata": {}
  },
  {
   "cell_type": "code",
   "source": "import kagglehub\n\n# Download latest version\npath = kagglehub.dataset_download(\"akash2sharma/tiny-imagenet\")\n\nprint(\"Path to dataset files:\", path)",
   "metadata": {
    "trusted": true,
    "execution": {
     "iopub.status.busy": "2024-12-21T10:59:57.207506Z",
     "iopub.execute_input": "2024-12-21T10:59:57.207808Z",
     "iopub.status.idle": "2024-12-21T10:59:57.707500Z",
     "shell.execute_reply.started": "2024-12-21T10:59:57.207785Z",
     "shell.execute_reply": "2024-12-21T10:59:57.706618Z"
    }
   },
   "outputs": [
    {
     "name": "stdout",
     "text": "Path to dataset files: /kaggle/input/tiny-imagenet\n",
     "output_type": "stream"
    }
   ],
   "execution_count": 3
  },
  {
   "cell_type": "markdown",
   "source": "### Download fishyscapes- lost and found",
   "metadata": {}
  },
  {
   "cell_type": "code",
   "source": "import kagglehub\n\n# Download latest version\npath = kagglehub.dataset_download(\"alessiogio/fs-l-and-f\")\n\nprint(\"Path to dataset files:\", path)",
   "metadata": {
    "trusted": true,
    "execution": {
     "iopub.status.busy": "2024-12-22T17:22:51.289979Z",
     "iopub.execute_input": "2024-12-22T17:22:51.290415Z",
     "iopub.status.idle": "2024-12-22T17:22:57.594258Z",
     "shell.execute_reply.started": "2024-12-22T17:22:51.290383Z",
     "shell.execute_reply": "2024-12-22T17:22:57.592948Z"
    }
   },
   "outputs": [
    {
     "name": "stdout",
     "text": "Path to dataset files: /kaggle/input/fs-l-and-f\n",
     "output_type": "stream"
    }
   ],
   "execution_count": 2
  },
  {
   "cell_type": "markdown",
   "source": "### Download SMIYC Road Anomaly 21",
   "metadata": {}
  },
  {
   "cell_type": "code",
   "source": "# The following code will only execute\n# successfully when compression is complete\n\nimport kagglehub\n\n# Download latest version\npath = kagglehub.dataset_download(\"alessiogio/smiyc-road-anomaly-21\")\n\nprint(\"Path to dataset files:\", path)",
   "metadata": {
    "trusted": true,
    "execution": {
     "iopub.status.busy": "2024-12-22T17:46:37.847998Z",
     "iopub.execute_input": "2024-12-22T17:46:37.848301Z",
     "iopub.status.idle": "2024-12-22T17:46:44.830142Z",
     "shell.execute_reply.started": "2024-12-22T17:46:37.848280Z",
     "shell.execute_reply": "2024-12-22T17:46:44.829372Z"
    }
   },
   "outputs": [
    {
     "name": "stdout",
     "text": "Path to dataset files: /kaggle/input/smiyc-road-anomaly-21\n",
     "output_type": "stream"
    }
   ],
   "execution_count": 2
  },
  {
   "cell_type": "markdown",
   "source": "### Download SMIYC Road Obstacles 21",
   "metadata": {}
  },
  {
   "cell_type": "code",
   "source": "# The following code will only execute\n# successfully when compression is complete\n\nimport kagglehub\n\n# Download latest version\npath = kagglehub.dataset_download(\"alessiogio/smiyc-road-obstacles-21\")\n\nprint(\"Path to dataset files:\", path)",
   "metadata": {
    "trusted": true,
    "execution": {
     "iopub.status.busy": "2024-12-23T10:45:33.506556Z",
     "iopub.execute_input": "2024-12-23T10:45:33.506773Z",
     "iopub.status.idle": "2024-12-23T10:45:45.334759Z",
     "shell.execute_reply.started": "2024-12-23T10:45:33.506744Z",
     "shell.execute_reply": "2024-12-23T10:45:45.333829Z"
    }
   },
   "outputs": [
    {
     "name": "stdout",
     "text": "Path to dataset files: /kaggle/input/smiyc-road-obstacles-21\n",
     "output_type": "stream"
    }
   ],
   "execution_count": 1
  },
  {
   "cell_type": "markdown",
   "source": "## Git Clone",
   "metadata": {}
  },
  {
   "cell_type": "code",
   "source": "!git clone -b prova-2 https://github.com/Nome-Provvisorio/AnomalySegmentation.git",
   "metadata": {
    "trusted": true,
    "execution": {
     "iopub.status.busy": "2024-12-23T10:55:38.578817Z",
     "iopub.execute_input": "2024-12-23T10:55:38.579198Z",
     "iopub.status.idle": "2024-12-23T10:55:42.354824Z",
     "shell.execute_reply.started": "2024-12-23T10:55:38.579166Z",
     "shell.execute_reply": "2024-12-23T10:55:42.353989Z"
    }
   },
   "outputs": [
    {
     "name": "stdout",
     "text": "Cloning into 'AnomalySegmentation'...\nremote: Enumerating objects: 245, done.\u001B[K\nremote: Counting objects: 100% (56/56), done.\u001B[K\nremote: Compressing objects: 100% (56/56), done.\u001B[K\nremote: Total 245 (delta 38), reused 0 (delta 0), pack-reused 189 (from 1)\u001B[K\nReceiving objects: 100% (245/245), 79.75 MiB | 40.95 MiB/s, done.\nResolving deltas: 100% (148/148), done.\n",
     "output_type": "stream"
    }
   ],
   "execution_count": 1
  },
  {
   "cell_type": "code",
   "source": "!git pull origin main",
   "metadata": {
    "trusted": true,
    "execution": {
     "iopub.status.busy": "2024-12-22T10:14:39.138456Z",
     "iopub.execute_input": "2024-12-22T10:14:39.138791Z",
     "iopub.status.idle": "2024-12-22T10:14:39.256935Z",
     "shell.execute_reply.started": "2024-12-22T10:14:39.138764Z",
     "shell.execute_reply": "2024-12-22T10:14:39.255910Z"
    }
   },
   "outputs": [
    {
     "name": "stdout",
     "text": "fatal: not a git repository (or any parent up to mount point /kaggle)\nStopping at filesystem boundary (GIT_DISCOVERY_ACROSS_FILESYSTEM not set).\n",
     "output_type": "stream"
    }
   ],
   "execution_count": 3
  },
  {
   "cell_type": "code",
   "source": [
    "!pip install visdom\n",
    "!pip install cv2\n",
    "#!pip install torch_xla\n",
    "\n",
    "#!pip install cityscapesscripts\n",
    "!pip install ood_metrics"
   ],
   "metadata": {
    "trusted": true,
    "execution": {
     "iopub.status.busy": "2024-12-23T10:55:51.043887Z",
     "iopub.execute_input": "2024-12-23T10:55:51.044172Z",
     "iopub.status.idle": "2024-12-23T10:56:07.069438Z",
     "shell.execute_reply.started": "2024-12-23T10:55:51.044151Z",
     "shell.execute_reply": "2024-12-23T10:56:07.068632Z"
    },
    "ExecuteTime": {
     "end_time": "2024-12-23T11:15:37.943868Z",
     "start_time": "2024-12-23T11:15:32.910220Z"
    }
   },
   "outputs": [
    {
     "name": "stdout",
     "output_type": "stream",
     "text": [
      "Requirement already satisfied: visdom in c:\\users\\vcata\\appdata\\local\\programs\\python\\python311\\lib\\site-packages (0.2.4)\n",
      "Requirement already satisfied: numpy>=1.8 in c:\\users\\vcata\\appdata\\local\\programs\\python\\python311\\lib\\site-packages (from visdom) (1.26.3)\n",
      "Requirement already satisfied: scipy in c:\\users\\vcata\\appdata\\local\\programs\\python\\python311\\lib\\site-packages (from visdom) (1.14.1)\n",
      "Requirement already satisfied: requests in c:\\users\\vcata\\appdata\\local\\programs\\python\\python311\\lib\\site-packages (from visdom) (2.32.3)\n",
      "Requirement already satisfied: tornado in c:\\users\\vcata\\appdata\\local\\programs\\python\\python311\\lib\\site-packages (from visdom) (6.4.2)\n",
      "Requirement already satisfied: six in c:\\users\\vcata\\appdata\\local\\programs\\python\\python311\\lib\\site-packages (from visdom) (1.16.0)\n",
      "Requirement already satisfied: jsonpatch in c:\\users\\vcata\\appdata\\local\\programs\\python\\python311\\lib\\site-packages (from visdom) (1.33)\n",
      "Requirement already satisfied: websocket-client in c:\\users\\vcata\\appdata\\local\\programs\\python\\python311\\lib\\site-packages (from visdom) (1.8.0)\n",
      "Requirement already satisfied: networkx in c:\\users\\vcata\\appdata\\local\\programs\\python\\python311\\lib\\site-packages (from visdom) (3.2.1)\n",
      "Requirement already satisfied: pillow in c:\\users\\vcata\\appdata\\local\\programs\\python\\python311\\lib\\site-packages (from visdom) (10.2.0)\n",
      "Requirement already satisfied: jsonpointer>=1.9 in c:\\users\\vcata\\appdata\\local\\programs\\python\\python311\\lib\\site-packages (from jsonpatch->visdom) (3.0.0)\n",
      "Requirement already satisfied: charset-normalizer<4,>=2 in c:\\users\\vcata\\appdata\\local\\programs\\python\\python311\\lib\\site-packages (from requests->visdom) (3.4.0)\n",
      "Requirement already satisfied: idna<4,>=2.5 in c:\\users\\vcata\\appdata\\local\\programs\\python\\python311\\lib\\site-packages (from requests->visdom) (3.10)\n",
      "Requirement already satisfied: urllib3<3,>=1.21.1 in c:\\users\\vcata\\appdata\\local\\programs\\python\\python311\\lib\\site-packages (from requests->visdom) (2.2.3)\n",
      "Requirement already satisfied: certifi>=2017.4.17 in c:\\users\\vcata\\appdata\\local\\programs\\python\\python311\\lib\\site-packages (from requests->visdom) (2024.8.30)\n"
     ]
    },
    {
     "name": "stderr",
     "output_type": "stream",
     "text": [
      "\n",
      "[notice] A new release of pip is available: 23.2.1 -> 24.3.1\n",
      "[notice] To update, run: python.exe -m pip install --upgrade pip\n",
      "ERROR: Could not find a version that satisfies the requirement cv2 (from versions: none)\n",
      "ERROR: No matching distribution found for cv2\n",
      "\n",
      "[notice] A new release of pip is available: 23.2.1 -> 24.3.1\n",
      "[notice] To update, run: python.exe -m pip install --upgrade pip\n"
     ]
    },
    {
     "name": "stdout",
     "output_type": "stream",
     "text": [
      "Requirement already satisfied: ood_metrics in c:\\users\\vcata\\appdata\\local\\programs\\python\\python311\\lib\\site-packages (1.1.2)\n",
      "Requirement already satisfied: matplotlib<4.0,>=3.0 in c:\\users\\vcata\\appdata\\local\\programs\\python\\python311\\lib\\site-packages (from ood_metrics) (3.9.3)\n",
      "Requirement already satisfied: numpy<2.0,>=1.22 in c:\\users\\vcata\\appdata\\local\\programs\\python\\python311\\lib\\site-packages (from ood_metrics) (1.26.3)\n",
      "Requirement already satisfied: scikit-learn<2.0,>=1.0 in c:\\users\\vcata\\appdata\\local\\programs\\python\\python311\\lib\\site-packages (from ood_metrics) (1.5.2)\n",
      "Requirement already satisfied: contourpy>=1.0.1 in c:\\users\\vcata\\appdata\\local\\programs\\python\\python311\\lib\\site-packages (from matplotlib<4.0,>=3.0->ood_metrics) (1.3.1)\n",
      "Requirement already satisfied: cycler>=0.10 in c:\\users\\vcata\\appdata\\local\\programs\\python\\python311\\lib\\site-packages (from matplotlib<4.0,>=3.0->ood_metrics) (0.12.1)\n",
      "Requirement already satisfied: fonttools>=4.22.0 in c:\\users\\vcata\\appdata\\local\\programs\\python\\python311\\lib\\site-packages (from matplotlib<4.0,>=3.0->ood_metrics) (4.55.3)\n",
      "Requirement already satisfied: kiwisolver>=1.3.1 in c:\\users\\vcata\\appdata\\local\\programs\\python\\python311\\lib\\site-packages (from matplotlib<4.0,>=3.0->ood_metrics) (1.4.7)\n",
      "Requirement already satisfied: packaging>=20.0 in c:\\users\\vcata\\appdata\\local\\programs\\python\\python311\\lib\\site-packages (from matplotlib<4.0,>=3.0->ood_metrics) (24.2)\n",
      "Requirement already satisfied: pillow>=8 in c:\\users\\vcata\\appdata\\local\\programs\\python\\python311\\lib\\site-packages (from matplotlib<4.0,>=3.0->ood_metrics) (10.2.0)\n",
      "Requirement already satisfied: pyparsing>=2.3.1 in c:\\users\\vcata\\appdata\\local\\programs\\python\\python311\\lib\\site-packages (from matplotlib<4.0,>=3.0->ood_metrics) (3.2.0)\n",
      "Requirement already satisfied: python-dateutil>=2.7 in c:\\users\\vcata\\appdata\\local\\programs\\python\\python311\\lib\\site-packages (from matplotlib<4.0,>=3.0->ood_metrics) (2.9.0.post0)\n",
      "Requirement already satisfied: scipy>=1.6.0 in c:\\users\\vcata\\appdata\\local\\programs\\python\\python311\\lib\\site-packages (from scikit-learn<2.0,>=1.0->ood_metrics) (1.14.1)\n",
      "Requirement already satisfied: joblib>=1.2.0 in c:\\users\\vcata\\appdata\\local\\programs\\python\\python311\\lib\\site-packages (from scikit-learn<2.0,>=1.0->ood_metrics) (1.4.2)\n",
      "Requirement already satisfied: threadpoolctl>=3.1.0 in c:\\users\\vcata\\appdata\\local\\programs\\python\\python311\\lib\\site-packages (from scikit-learn<2.0,>=1.0->ood_metrics) (3.5.0)\n",
      "Requirement already satisfied: six>=1.5 in c:\\users\\vcata\\appdata\\local\\programs\\python\\python311\\lib\\site-packages (from python-dateutil>=2.7->matplotlib<4.0,>=3.0->ood_metrics) (1.16.0)\n"
     ]
    },
    {
     "name": "stderr",
     "output_type": "stream",
     "text": [
      "\n",
      "[notice] A new release of pip is available: 23.2.1 -> 24.3.1\n",
      "[notice] To update, run: python.exe -m pip install --upgrade pip\n"
     ]
    }
   ],
   "execution_count": 5
  },
  {
   "cell_type": "markdown",
   "source": "## Run Pretraining",
   "metadata": {}
  },
  {
   "cell_type": "code",
   "source": "%cd \"/kaggle/working\"\n!python3 \"AnomalySegmentation/imagenet/main.py\" \"/kaggle/input/tiny-imagenet/tiny-imagenet-200\"",
   "metadata": {
    "trusted": true,
    "execution": {
     "iopub.status.busy": "2024-12-21T15:22:06.841245Z",
     "iopub.execute_input": "2024-12-21T15:22:06.841524Z",
     "iopub.status.idle": "2024-12-21T15:22:07.051585Z",
     "shell.execute_reply.started": "2024-12-21T15:22:06.841501Z",
     "shell.execute_reply": "2024-12-21T15:22:07.050428Z"
    }
   },
   "outputs": [
    {
     "name": "stdout",
     "text": "/kaggle/working\npython3: can't open file '/kaggle/working/AnomalySegmentation/imagenet/main.py': [Errno 2] No such file or directory\n",
     "output_type": "stream"
    }
   ],
   "execution_count": 1
  },
  {
   "cell_type": "markdown",
   "source": "## Run training",
   "metadata": {}
  },
  {
   "cell_type": "code",
   "source": "%cd \"/kaggle/working/AnomalySegmentation/train\"\n!python3 \"main.py\" --savedir erfnet_training1 --datadir \"/kaggle/input/cityscapes-correctlabels/Cityscape\" --num-epochs 10 --batch-size 1 --decoder --pretrainedEncoder \"/kaggle/working/AnomalySegmentation/train/model_best.pth.tar\"",
   "metadata": {
    "trusted": true,
    "execution": {
     "iopub.status.busy": "2024-12-22T14:59:06.319164Z",
     "iopub.execute_input": "2024-12-22T14:59:06.319561Z",
     "iopub.status.idle": "2024-12-22T15:46:03.443058Z",
     "shell.execute_reply.started": "2024-12-22T14:59:06.319520Z",
     "shell.execute_reply": "2024-12-22T15:46:03.442174Z"
    }
   },
   "outputs": [
    {
     "name": "stdout",
     "text": "/kaggle/working/AnomalySegmentation/train\nmodel path is:  erfnet\nCurrent working directory: /kaggle/working/AnomalySegmentation/train\n========== DECODER TRAINING ===========\nLoading encoder pretrained in imagenet\n/kaggle/working/AnomalySegmentation/train/main.py:492: FutureWarning: You are using `torch.load` with `weights_only=False` (the current default value), which uses the default pickle module implicitly. It is possible to construct malicious pickle data which will execute arbitrary code during unpickling (See https://github.com/pytorch/pytorch/blob/main/SECURITY.md#untrusted-models for more details). In a future release, the default value for `weights_only` will be flipped to `True`. This limits the functions that could be executed during unpickling. Arbitrary objects will no longer be allowed to be loaded via this mode unless they are explicitly allowlisted by the user via `torch.serialization.add_safe_globals`. We recommend you start setting `weights_only=True` for any use case where you don't have full control of the loaded file. Please open an issue on GitHub for any issues related to this experimental feature.\n  pretrainedEnc.load_state_dict(torch.load(args.pretrainedEncoder)['state_dict'])\nTraining dataset path: /kaggle/input/cityscapes-correctlabels/Cityscape\nImages path: /kaggle/input/cityscapes-correctlabels/Cityscape/leftImg8bit/train\nLabels path: /kaggle/input/cityscapes-correctlabels/Cityscape/gtFine/train\nNumber of image files: 2975\nNumber of label files: 2975\nSample image filenames:\n/kaggle/input/cityscapes-correctlabels/Cityscape/leftImg8bit/train/aachen/aachen_000000_000019_leftImg8bit.png\n/kaggle/input/cityscapes-correctlabels/Cityscape/leftImg8bit/train/aachen/aachen_000001_000019_leftImg8bit.png\n/kaggle/input/cityscapes-correctlabels/Cityscape/leftImg8bit/train/aachen/aachen_000002_000019_leftImg8bit.png\n/kaggle/input/cityscapes-correctlabels/Cityscape/leftImg8bit/train/aachen/aachen_000003_000019_leftImg8bit.png\n/kaggle/input/cityscapes-correctlabels/Cityscape/leftImg8bit/train/aachen/aachen_000004_000019_leftImg8bit.png\nSample label filenames:\n/kaggle/input/cityscapes-correctlabels/Cityscape/gtFine/train/aachen/aachen_000000_000019_gtFine_labelTrainIds.png\n/kaggle/input/cityscapes-correctlabels/Cityscape/gtFine/train/aachen/aachen_000001_000019_gtFine_labelTrainIds.png\n/kaggle/input/cityscapes-correctlabels/Cityscape/gtFine/train/aachen/aachen_000002_000019_gtFine_labelTrainIds.png\n/kaggle/input/cityscapes-correctlabels/Cityscape/gtFine/train/aachen/aachen_000003_000019_gtFine_labelTrainIds.png\n/kaggle/input/cityscapes-correctlabels/Cityscape/gtFine/train/aachen/aachen_000004_000019_gtFine_labelTrainIds.png\nNumber of valid image-label pairs: 2975\nImages path: /kaggle/input/cityscapes-correctlabels/Cityscape/leftImg8bit/val\nLabels path: /kaggle/input/cityscapes-correctlabels/Cityscape/gtFine/val\nNumber of image files: 500\nNumber of label files: 500\nSample image filenames:\n/kaggle/input/cityscapes-correctlabels/Cityscape/leftImg8bit/val/frankfurt/frankfurt_000000_000294_leftImg8bit.png\n/kaggle/input/cityscapes-correctlabels/Cityscape/leftImg8bit/val/frankfurt/frankfurt_000000_000576_leftImg8bit.png\n/kaggle/input/cityscapes-correctlabels/Cityscape/leftImg8bit/val/frankfurt/frankfurt_000000_001016_leftImg8bit.png\n/kaggle/input/cityscapes-correctlabels/Cityscape/leftImg8bit/val/frankfurt/frankfurt_000000_001236_leftImg8bit.png\n/kaggle/input/cityscapes-correctlabels/Cityscape/leftImg8bit/val/frankfurt/frankfurt_000000_001751_leftImg8bit.png\nSample label filenames:\n/kaggle/input/cityscapes-correctlabels/Cityscape/gtFine/val/frankfurt/frankfurt_000000_000294_gtFine_labelTrainIds.png\n/kaggle/input/cityscapes-correctlabels/Cityscape/gtFine/val/frankfurt/frankfurt_000000_000576_gtFine_labelTrainIds.png\n/kaggle/input/cityscapes-correctlabels/Cityscape/gtFine/val/frankfurt/frankfurt_000000_001016_gtFine_labelTrainIds.png\n/kaggle/input/cityscapes-correctlabels/Cityscape/gtFine/val/frankfurt/frankfurt_000000_001236_gtFine_labelTrainIds.png\n/kaggle/input/cityscapes-correctlabels/Cityscape/gtFine/val/frankfurt/frankfurt_000000_001751_gtFine_labelTrainIds.png\nNumber of valid image-label pairs: 500\n<class '__main__.CrossEntropyLoss2d'>\n----- TRAINING - EPOCH 1 -----\n/usr/local/lib/python3.10/dist-packages/torch/optim/lr_scheduler.py:216: UserWarning: Detected call of `lr_scheduler.step()` before `optimizer.step()`. In PyTorch 1.1.0 and later, you should call them in the opposite order: `optimizer.step()` before `lr_scheduler.step()`.  Failure to do this will result in PyTorch skipping the first value of the learning rate schedule. See more details at https://pytorch.org/docs/stable/optim.html#how-to-adjust-learning-rate\n  warnings.warn(\n/usr/local/lib/python3.10/dist-packages/torch/optim/lr_scheduler.py:232: UserWarning: The epoch parameter in `scheduler.step()` was not necessary and is being deprecated where possible. Please use `scheduler.step()` to step the scheduler. During the deprecation, if epoch is different from None, the closed form is used instead of the new chainable form, where available. Please open an issue if you are unable to replicate your use case: https://github.com/pytorch/pytorch/issues/new/choose.\n  warnings.warn(EPOCH_DEPRECATION_WARNING, UserWarning)\nLEARNING RATE:  0.0005\nloss: 3.102 (epoch: 1, step: 0) // Avg time/img: 1.0165 s\nloss: 2.763 (epoch: 1, step: 50) // Avg time/img: 0.0902 s\nloss: 2.528 (epoch: 1, step: 100) // Avg time/img: 0.0809 s\nloss: 2.316 (epoch: 1, step: 150) // Avg time/img: 0.0778 s\nloss: 2.152 (epoch: 1, step: 200) // Avg time/img: 0.0771 s\nloss: 2.007 (epoch: 1, step: 250) // Avg time/img: 0.0759 s\nloss: 1.882 (epoch: 1, step: 300) // Avg time/img: 0.0752 s\nloss: 1.801 (epoch: 1, step: 350) // Avg time/img: 0.0746 s\nloss: 1.712 (epoch: 1, step: 400) // Avg time/img: 0.0741 s\nloss: 1.639 (epoch: 1, step: 450) // Avg time/img: 0.0738 s\nloss: 1.586 (epoch: 1, step: 500) // Avg time/img: 0.0736 s\nloss: 1.547 (epoch: 1, step: 550) // Avg time/img: 0.0734 s\nloss: 1.509 (epoch: 1, step: 600) // Avg time/img: 0.0734 s\nloss: 1.479 (epoch: 1, step: 650) // Avg time/img: 0.0732 s\nloss: 1.447 (epoch: 1, step: 700) // Avg time/img: 0.0730 s\nloss: 1.423 (epoch: 1, step: 750) // Avg time/img: 0.0729 s\nloss: 1.399 (epoch: 1, step: 800) // Avg time/img: 0.0728 s\nloss: 1.377 (epoch: 1, step: 850) // Avg time/img: 0.0727 s\nloss: 1.353 (epoch: 1, step: 900) // Avg time/img: 0.0725 s\nloss: 1.328 (epoch: 1, step: 950) // Avg time/img: 0.0725 s\nloss: 1.311 (epoch: 1, step: 1000) // Avg time/img: 0.0724 s\nloss: 1.293 (epoch: 1, step: 1050) // Avg time/img: 0.0725 s\nloss: 1.276 (epoch: 1, step: 1100) // Avg time/img: 0.0725 s\nloss: 1.259 (epoch: 1, step: 1150) // Avg time/img: 0.0724 s\nloss: 1.243 (epoch: 1, step: 1200) // Avg time/img: 0.0723 s\nloss: 1.229 (epoch: 1, step: 1250) // Avg time/img: 0.0723 s\nloss: 1.215 (epoch: 1, step: 1300) // Avg time/img: 0.0723 s\nloss: 1.203 (epoch: 1, step: 1350) // Avg time/img: 0.0722 s\nloss: 1.188 (epoch: 1, step: 1400) // Avg time/img: 0.0722 s\nloss: 1.179 (epoch: 1, step: 1450) // Avg time/img: 0.0722 s\nloss: 1.171 (epoch: 1, step: 1500) // Avg time/img: 0.0722 s\nloss: 1.155 (epoch: 1, step: 1550) // Avg time/img: 0.0722 s\nloss: 1.147 (epoch: 1, step: 1600) // Avg time/img: 0.0721 s\nloss: 1.138 (epoch: 1, step: 1650) // Avg time/img: 0.0721 s\nloss: 1.126 (epoch: 1, step: 1700) // Avg time/img: 0.0721 s\nloss: 1.118 (epoch: 1, step: 1750) // Avg time/img: 0.0720 s\nloss: 1.107 (epoch: 1, step: 1800) // Avg time/img: 0.0720 s\nloss: 1.1 (epoch: 1, step: 1850) // Avg time/img: 0.0720 s\nloss: 1.09 (epoch: 1, step: 1900) // Avg time/img: 0.0720 s\nloss: 1.083 (epoch: 1, step: 1950) // Avg time/img: 0.0720 s\nloss: 1.075 (epoch: 1, step: 2000) // Avg time/img: 0.0720 s\nloss: 1.067 (epoch: 1, step: 2050) // Avg time/img: 0.0719 s\nloss: 1.059 (epoch: 1, step: 2100) // Avg time/img: 0.0719 s\nloss: 1.055 (epoch: 1, step: 2150) // Avg time/img: 0.0719 s\nloss: 1.046 (epoch: 1, step: 2200) // Avg time/img: 0.0719 s\nloss: 1.041 (epoch: 1, step: 2250) // Avg time/img: 0.0719 s\nloss: 1.034 (epoch: 1, step: 2300) // Avg time/img: 0.0719 s\nloss: 1.027 (epoch: 1, step: 2350) // Avg time/img: 0.0719 s\nloss: 1.023 (epoch: 1, step: 2400) // Avg time/img: 0.0719 s\nloss: 1.017 (epoch: 1, step: 2450) // Avg time/img: 0.0718 s\nloss: 1.011 (epoch: 1, step: 2500) // Avg time/img: 0.0718 s\nloss: 1.005 (epoch: 1, step: 2550) // Avg time/img: 0.0718 s\nloss: 0.9983 (epoch: 1, step: 2600) // Avg time/img: 0.0718 s\nloss: 0.9935 (epoch: 1, step: 2650) // Avg time/img: 0.0718 s\nloss: 0.9892 (epoch: 1, step: 2700) // Avg time/img: 0.0718 s\nloss: 0.9833 (epoch: 1, step: 2750) // Avg time/img: 0.0718 s\nloss: 0.9787 (epoch: 1, step: 2800) // Avg time/img: 0.0718 s\nloss: 0.9744 (epoch: 1, step: 2850) // Avg time/img: 0.0718 s\nloss: 0.9702 (epoch: 1, step: 2900) // Avg time/img: 0.0718 s\nloss: 0.9655 (epoch: 1, step: 2950) // Avg time/img: 0.0718 s\n----- VALIDATING - EPOCH 1 -----\nVAL loss: 0.6553 (epoch: 1, step: 0) // Avg time/img: 0.0357 s\nVAL loss: 0.9121 (epoch: 1, step: 50) // Avg time/img: 0.0256 s\nVAL loss: 1.004 (epoch: 1, step: 100) // Avg time/img: 0.0256 s\nVAL loss: 1.003 (epoch: 1, step: 150) // Avg time/img: 0.0255 s\nVAL loss: 0.9567 (epoch: 1, step: 200) // Avg time/img: 0.0255 s\nVAL loss: 0.9225 (epoch: 1, step: 250) // Avg time/img: 0.0256 s\nVAL loss: 0.9559 (epoch: 1, step: 300) // Avg time/img: 0.0256 s\nVAL loss: 0.9591 (epoch: 1, step: 350) // Avg time/img: 0.0256 s\nVAL loss: 0.9255 (epoch: 1, step: 400) // Avg time/img: 0.0256 s\nVAL loss: 0.8817 (epoch: 1, step: 450) // Avg time/img: 0.0256 s\nEPOCH IoU on VAL set:  \u001B[0m26.55\u001B[0m %\nSaving model as best\nsave: ../save/erfnet_training1/model_best.pth (epoch: 1)\n----- TRAINING - EPOCH 2 -----\nLEARNING RATE:  0.00045476628804148113\nloss: 1.064 (epoch: 2, step: 0) // Avg time/img: 0.1171 s\nloss: 0.7339 (epoch: 2, step: 50) // Avg time/img: 0.0720 s\nloss: 0.6811 (epoch: 2, step: 100) // Avg time/img: 0.0708 s\nloss: 0.6662 (epoch: 2, step: 150) // Avg time/img: 0.0706 s\nloss: 0.6823 (epoch: 2, step: 200) // Avg time/img: 0.0705 s\nloss: 0.6955 (epoch: 2, step: 250) // Avg time/img: 0.0704 s\nloss: 0.6727 (epoch: 2, step: 300) // Avg time/img: 0.0707 s\nloss: 0.6613 (epoch: 2, step: 350) // Avg time/img: 0.0706 s\nloss: 0.6675 (epoch: 2, step: 400) // Avg time/img: 0.0705 s\nloss: 0.6669 (epoch: 2, step: 450) // Avg time/img: 0.0704 s\nloss: 0.6652 (epoch: 2, step: 500) // Avg time/img: 0.0704 s\nloss: 0.6561 (epoch: 2, step: 550) // Avg time/img: 0.0703 s\nloss: 0.6591 (epoch: 2, step: 600) // Avg time/img: 0.0703 s\nloss: 0.653 (epoch: 2, step: 650) // Avg time/img: 0.0703 s\nloss: 0.6529 (epoch: 2, step: 700) // Avg time/img: 0.0703 s\nloss: 0.6515 (epoch: 2, step: 750) // Avg time/img: 0.0704 s\nloss: 0.6533 (epoch: 2, step: 800) // Avg time/img: 0.0704 s\nloss: 0.6534 (epoch: 2, step: 850) // Avg time/img: 0.0703 s\nloss: 0.6561 (epoch: 2, step: 900) // Avg time/img: 0.0703 s\nloss: 0.6543 (epoch: 2, step: 950) // Avg time/img: 0.0703 s\nloss: 0.6516 (epoch: 2, step: 1000) // Avg time/img: 0.0702 s\nloss: 0.6506 (epoch: 2, step: 1050) // Avg time/img: 0.0702 s\nloss: 0.6509 (epoch: 2, step: 1100) // Avg time/img: 0.0702 s\nloss: 0.6475 (epoch: 2, step: 1150) // Avg time/img: 0.0703 s\nloss: 0.6434 (epoch: 2, step: 1200) // Avg time/img: 0.0702 s\nloss: 0.6416 (epoch: 2, step: 1250) // Avg time/img: 0.0702 s\nloss: 0.6404 (epoch: 2, step: 1300) // Avg time/img: 0.0702 s\nloss: 0.6427 (epoch: 2, step: 1350) // Avg time/img: 0.0702 s\nloss: 0.6408 (epoch: 2, step: 1400) // Avg time/img: 0.0702 s\nloss: 0.6427 (epoch: 2, step: 1450) // Avg time/img: 0.0702 s\nloss: 0.6444 (epoch: 2, step: 1500) // Avg time/img: 0.0702 s\nloss: 0.6422 (epoch: 2, step: 1550) // Avg time/img: 0.0702 s\nloss: 0.6405 (epoch: 2, step: 1600) // Avg time/img: 0.0702 s\nloss: 0.6379 (epoch: 2, step: 1650) // Avg time/img: 0.0702 s\nloss: 0.6343 (epoch: 2, step: 1700) // Avg time/img: 0.0702 s\nloss: 0.6318 (epoch: 2, step: 1750) // Avg time/img: 0.0702 s\nloss: 0.6283 (epoch: 2, step: 1800) // Avg time/img: 0.0702 s\nloss: 0.626 (epoch: 2, step: 1850) // Avg time/img: 0.0702 s\nloss: 0.6235 (epoch: 2, step: 1900) // Avg time/img: 0.0702 s\nloss: 0.622 (epoch: 2, step: 1950) // Avg time/img: 0.0701 s\nloss: 0.6242 (epoch: 2, step: 2000) // Avg time/img: 0.0702 s\nloss: 0.6233 (epoch: 2, step: 2050) // Avg time/img: 0.0702 s\nloss: 0.622 (epoch: 2, step: 2100) // Avg time/img: 0.0702 s\nloss: 0.6223 (epoch: 2, step: 2150) // Avg time/img: 0.0702 s\nloss: 0.6222 (epoch: 2, step: 2200) // Avg time/img: 0.0702 s\nloss: 0.6221 (epoch: 2, step: 2250) // Avg time/img: 0.0702 s\nloss: 0.621 (epoch: 2, step: 2300) // Avg time/img: 0.0702 s\nloss: 0.6199 (epoch: 2, step: 2350) // Avg time/img: 0.0701 s\nloss: 0.6187 (epoch: 2, step: 2400) // Avg time/img: 0.0702 s\nloss: 0.6187 (epoch: 2, step: 2450) // Avg time/img: 0.0702 s\nloss: 0.6176 (epoch: 2, step: 2500) // Avg time/img: 0.0702 s\nloss: 0.6176 (epoch: 2, step: 2550) // Avg time/img: 0.0702 s\nloss: 0.619 (epoch: 2, step: 2600) // Avg time/img: 0.0702 s\nloss: 0.6189 (epoch: 2, step: 2650) // Avg time/img: 0.0702 s\nloss: 0.6193 (epoch: 2, step: 2700) // Avg time/img: 0.0702 s\nloss: 0.6201 (epoch: 2, step: 2750) // Avg time/img: 0.0701 s\nloss: 0.6201 (epoch: 2, step: 2800) // Avg time/img: 0.0701 s\nloss: 0.6191 (epoch: 2, step: 2850) // Avg time/img: 0.0702 s\nloss: 0.6195 (epoch: 2, step: 2900) // Avg time/img: 0.0702 s\nloss: 0.6185 (epoch: 2, step: 2950) // Avg time/img: 0.0702 s\n----- VALIDATING - EPOCH 2 -----\nVAL loss: 0.5888 (epoch: 2, step: 0) // Avg time/img: 0.0522 s\nVAL loss: 0.669 (epoch: 2, step: 50) // Avg time/img: 0.0265 s\nVAL loss: 0.7723 (epoch: 2, step: 100) // Avg time/img: 0.0262 s\nVAL loss: 0.7713 (epoch: 2, step: 150) // Avg time/img: 0.0261 s\nVAL loss: 0.7616 (epoch: 2, step: 200) // Avg time/img: 0.0261 s\nVAL loss: 0.7401 (epoch: 2, step: 250) // Avg time/img: 0.0262 s\nVAL loss: 0.7485 (epoch: 2, step: 300) // Avg time/img: 0.0260 s\nVAL loss: 0.7426 (epoch: 2, step: 350) // Avg time/img: 0.0260 s\nVAL loss: 0.7172 (epoch: 2, step: 400) // Avg time/img: 0.0260 s\nVAL loss: 0.6867 (epoch: 2, step: 450) // Avg time/img: 0.0260 s\nEPOCH IoU on VAL set:  \u001B[0m32.61\u001B[0m %\nSaving model as best\nsave: ../save/erfnet_training1/model_best.pth (epoch: 2)\n----- TRAINING - EPOCH 3 -----\nLEARNING RATE:  0.00040902607302542923\nloss: 0.463 (epoch: 3, step: 0) // Avg time/img: 0.1183 s\nloss: 0.5581 (epoch: 3, step: 50) // Avg time/img: 0.0757 s\nloss: 0.5175 (epoch: 3, step: 100) // Avg time/img: 0.0730 s\nloss: 0.514 (epoch: 3, step: 150) // Avg time/img: 0.0720 s\nloss: 0.5298 (epoch: 3, step: 200) // Avg time/img: 0.0716 s\nloss: 0.5444 (epoch: 3, step: 250) // Avg time/img: 0.0712 s\nloss: 0.5329 (epoch: 3, step: 300) // Avg time/img: 0.0710 s\nloss: 0.547 (epoch: 3, step: 350) // Avg time/img: 0.0709 s\nloss: 0.5551 (epoch: 3, step: 400) // Avg time/img: 0.0708 s\nloss: 0.561 (epoch: 3, step: 450) // Avg time/img: 0.0710 s\nloss: 0.5552 (epoch: 3, step: 500) // Avg time/img: 0.0709 s\nloss: 0.5572 (epoch: 3, step: 550) // Avg time/img: 0.0708 s\nloss: 0.5565 (epoch: 3, step: 600) // Avg time/img: 0.0707 s\nloss: 0.555 (epoch: 3, step: 650) // Avg time/img: 0.0706 s\nloss: 0.5574 (epoch: 3, step: 700) // Avg time/img: 0.0706 s\nloss: 0.5594 (epoch: 3, step: 750) // Avg time/img: 0.0705 s\nloss: 0.5621 (epoch: 3, step: 800) // Avg time/img: 0.0705 s\nloss: 0.5601 (epoch: 3, step: 850) // Avg time/img: 0.0705 s\nloss: 0.5575 (epoch: 3, step: 900) // Avg time/img: 0.0706 s\nloss: 0.5555 (epoch: 3, step: 950) // Avg time/img: 0.0706 s\nloss: 0.5543 (epoch: 3, step: 1000) // Avg time/img: 0.0705 s\nloss: 0.5548 (epoch: 3, step: 1050) // Avg time/img: 0.0705 s\nloss: 0.5551 (epoch: 3, step: 1100) // Avg time/img: 0.0705 s\nloss: 0.5541 (epoch: 3, step: 1150) // Avg time/img: 0.0704 s\nloss: 0.552 (epoch: 3, step: 1200) // Avg time/img: 0.0704 s\nloss: 0.5482 (epoch: 3, step: 1250) // Avg time/img: 0.0704 s\nloss: 0.548 (epoch: 3, step: 1300) // Avg time/img: 0.0705 s\nloss: 0.5454 (epoch: 3, step: 1350) // Avg time/img: 0.0705 s\nloss: 0.5407 (epoch: 3, step: 1400) // Avg time/img: 0.0705 s\nloss: 0.5421 (epoch: 3, step: 1450) // Avg time/img: 0.0704 s\nloss: 0.5423 (epoch: 3, step: 1500) // Avg time/img: 0.0704 s\nloss: 0.5407 (epoch: 3, step: 1550) // Avg time/img: 0.0704 s\nloss: 0.5404 (epoch: 3, step: 1600) // Avg time/img: 0.0704 s\nloss: 0.5389 (epoch: 3, step: 1650) // Avg time/img: 0.0704 s\nloss: 0.5365 (epoch: 3, step: 1700) // Avg time/img: 0.0704 s\nloss: 0.5358 (epoch: 3, step: 1750) // Avg time/img: 0.0704 s\nloss: 0.5341 (epoch: 3, step: 1800) // Avg time/img: 0.0704 s\nloss: 0.5332 (epoch: 3, step: 1850) // Avg time/img: 0.0704 s\nloss: 0.5334 (epoch: 3, step: 1900) // Avg time/img: 0.0704 s\nloss: 0.5336 (epoch: 3, step: 1950) // Avg time/img: 0.0704 s\nloss: 0.5345 (epoch: 3, step: 2000) // Avg time/img: 0.0704 s\nloss: 0.5339 (epoch: 3, step: 2050) // Avg time/img: 0.0704 s\nloss: 0.5336 (epoch: 3, step: 2100) // Avg time/img: 0.0703 s\nloss: 0.534 (epoch: 3, step: 2150) // Avg time/img: 0.0704 s\nloss: 0.5344 (epoch: 3, step: 2200) // Avg time/img: 0.0704 s\nloss: 0.5353 (epoch: 3, step: 2250) // Avg time/img: 0.0703 s\nloss: 0.5368 (epoch: 3, step: 2300) // Avg time/img: 0.0703 s\nloss: 0.5378 (epoch: 3, step: 2350) // Avg time/img: 0.0703 s\nloss: 0.5408 (epoch: 3, step: 2400) // Avg time/img: 0.0703 s\nloss: 0.5403 (epoch: 3, step: 2450) // Avg time/img: 0.0703 s\nloss: 0.5391 (epoch: 3, step: 2500) // Avg time/img: 0.0703 s\nloss: 0.5383 (epoch: 3, step: 2550) // Avg time/img: 0.0703 s\nloss: 0.5385 (epoch: 3, step: 2600) // Avg time/img: 0.0703 s\nloss: 0.5374 (epoch: 3, step: 2650) // Avg time/img: 0.0703 s\nloss: 0.5408 (epoch: 3, step: 2700) // Avg time/img: 0.0703 s\nloss: 0.5409 (epoch: 3, step: 2750) // Avg time/img: 0.0703 s\nloss: 0.5397 (epoch: 3, step: 2800) // Avg time/img: 0.0703 s\nloss: 0.5383 (epoch: 3, step: 2850) // Avg time/img: 0.0703 s\nloss: 0.5369 (epoch: 3, step: 2900) // Avg time/img: 0.0703 s\nloss: 0.5369 (epoch: 3, step: 2950) // Avg time/img: 0.0703 s\n----- VALIDATING - EPOCH 3 -----\nVAL loss: 0.4646 (epoch: 3, step: 0) // Avg time/img: 0.0581 s\nVAL loss: 0.5943 (epoch: 3, step: 50) // Avg time/img: 0.0258 s\nVAL loss: 0.7138 (epoch: 3, step: 100) // Avg time/img: 0.0259 s\nVAL loss: 0.7034 (epoch: 3, step: 150) // Avg time/img: 0.0259 s\nVAL loss: 0.7113 (epoch: 3, step: 200) // Avg time/img: 0.0258 s\nVAL loss: 0.6908 (epoch: 3, step: 250) // Avg time/img: 0.0259 s\nVAL loss: 0.6849 (epoch: 3, step: 300) // Avg time/img: 0.0259 s\nVAL loss: 0.6705 (epoch: 3, step: 350) // Avg time/img: 0.0258 s\nVAL loss: 0.6423 (epoch: 3, step: 400) // Avg time/img: 0.0258 s\nVAL loss: 0.6126 (epoch: 3, step: 450) // Avg time/img: 0.0258 s\nEPOCH IoU on VAL set:  \u001B[0m35.79\u001B[0m %\nSaving model as best\nsave: ../save/erfnet_training1/model_best.pth (epoch: 3)\n----- TRAINING - EPOCH 4 -----\nLEARNING RATE:  0.00036270892346860996\nloss: 0.3236 (epoch: 4, step: 0) // Avg time/img: 0.1234 s\nloss: 0.4661 (epoch: 4, step: 50) // Avg time/img: 0.0719 s\nloss: 0.4935 (epoch: 4, step: 100) // Avg time/img: 0.0715 s\nloss: 0.4877 (epoch: 4, step: 150) // Avg time/img: 0.0711 s\nloss: 0.4726 (epoch: 4, step: 200) // Avg time/img: 0.0715 s\nloss: 0.4681 (epoch: 4, step: 250) // Avg time/img: 0.0714 s\nloss: 0.473 (epoch: 4, step: 300) // Avg time/img: 0.0712 s\nloss: 0.4741 (epoch: 4, step: 350) // Avg time/img: 0.0711 s\nloss: 0.4798 (epoch: 4, step: 400) // Avg time/img: 0.0711 s\nloss: 0.483 (epoch: 4, step: 450) // Avg time/img: 0.0709 s\nloss: 0.4857 (epoch: 4, step: 500) // Avg time/img: 0.0709 s\nloss: 0.4902 (epoch: 4, step: 550) // Avg time/img: 0.0708 s\nloss: 0.4865 (epoch: 4, step: 600) // Avg time/img: 0.0710 s\nloss: 0.4845 (epoch: 4, step: 650) // Avg time/img: 0.0710 s\nloss: 0.4907 (epoch: 4, step: 700) // Avg time/img: 0.0709 s\nloss: 0.4916 (epoch: 4, step: 750) // Avg time/img: 0.0709 s\nloss: 0.4894 (epoch: 4, step: 800) // Avg time/img: 0.0709 s\nloss: 0.4924 (epoch: 4, step: 850) // Avg time/img: 0.0709 s\nloss: 0.4936 (epoch: 4, step: 900) // Avg time/img: 0.0708 s\nloss: 0.493 (epoch: 4, step: 950) // Avg time/img: 0.0708 s\nloss: 0.4931 (epoch: 4, step: 1000) // Avg time/img: 0.0709 s\nloss: 0.4933 (epoch: 4, step: 1050) // Avg time/img: 0.0709 s\nloss: 0.4919 (epoch: 4, step: 1100) // Avg time/img: 0.0709 s\nloss: 0.4933 (epoch: 4, step: 1150) // Avg time/img: 0.0709 s\nloss: 0.494 (epoch: 4, step: 1200) // Avg time/img: 0.0709 s\nloss: 0.4939 (epoch: 4, step: 1250) // Avg time/img: 0.0708 s\nloss: 0.4942 (epoch: 4, step: 1300) // Avg time/img: 0.0708 s\nloss: 0.4976 (epoch: 4, step: 1350) // Avg time/img: 0.0708 s\nloss: 0.4959 (epoch: 4, step: 1400) // Avg time/img: 0.0708 s\nloss: 0.4952 (epoch: 4, step: 1450) // Avg time/img: 0.0709 s\nloss: 0.4945 (epoch: 4, step: 1500) // Avg time/img: 0.0709 s\nloss: 0.4936 (epoch: 4, step: 1550) // Avg time/img: 0.0708 s\nloss: 0.4952 (epoch: 4, step: 1600) // Avg time/img: 0.0708 s\nloss: 0.494 (epoch: 4, step: 1650) // Avg time/img: 0.0708 s\nloss: 0.4937 (epoch: 4, step: 1700) // Avg time/img: 0.0708 s\nloss: 0.4922 (epoch: 4, step: 1750) // Avg time/img: 0.0708 s\nloss: 0.4919 (epoch: 4, step: 1800) // Avg time/img: 0.0708 s\nloss: 0.4915 (epoch: 4, step: 1850) // Avg time/img: 0.0708 s\nloss: 0.4905 (epoch: 4, step: 1900) // Avg time/img: 0.0708 s\nloss: 0.4908 (epoch: 4, step: 1950) // Avg time/img: 0.0708 s\nloss: 0.4924 (epoch: 4, step: 2000) // Avg time/img: 0.0708 s\nloss: 0.4922 (epoch: 4, step: 2050) // Avg time/img: 0.0708 s\nloss: 0.4918 (epoch: 4, step: 2100) // Avg time/img: 0.0708 s\nloss: 0.4915 (epoch: 4, step: 2150) // Avg time/img: 0.0708 s\nloss: 0.493 (epoch: 4, step: 2200) // Avg time/img: 0.0707 s\nloss: 0.4937 (epoch: 4, step: 2250) // Avg time/img: 0.0708 s\nloss: 0.4929 (epoch: 4, step: 2300) // Avg time/img: 0.0708 s\nloss: 0.4922 (epoch: 4, step: 2350) // Avg time/img: 0.0708 s\nloss: 0.4915 (epoch: 4, step: 2400) // Avg time/img: 0.0708 s\nloss: 0.4902 (epoch: 4, step: 2450) // Avg time/img: 0.0708 s\nloss: 0.4897 (epoch: 4, step: 2500) // Avg time/img: 0.0708 s\nloss: 0.4893 (epoch: 4, step: 2550) // Avg time/img: 0.0708 s\nloss: 0.4912 (epoch: 4, step: 2600) // Avg time/img: 0.0708 s\nloss: 0.4901 (epoch: 4, step: 2650) // Avg time/img: 0.0708 s\nloss: 0.4903 (epoch: 4, step: 2700) // Avg time/img: 0.0708 s\nloss: 0.4912 (epoch: 4, step: 2750) // Avg time/img: 0.0708 s\nloss: 0.4919 (epoch: 4, step: 2800) // Avg time/img: 0.0708 s\nloss: 0.4921 (epoch: 4, step: 2850) // Avg time/img: 0.0708 s\nloss: 0.4913 (epoch: 4, step: 2900) // Avg time/img: 0.0708 s\nloss: 0.4909 (epoch: 4, step: 2950) // Avg time/img: 0.0708 s\n----- VALIDATING - EPOCH 4 -----\nVAL loss: 0.5428 (epoch: 4, step: 0) // Avg time/img: 0.0536 s\nVAL loss: 0.6131 (epoch: 4, step: 50) // Avg time/img: 0.0263 s\nVAL loss: 0.6975 (epoch: 4, step: 100) // Avg time/img: 0.0265 s\nVAL loss: 0.6856 (epoch: 4, step: 150) // Avg time/img: 0.0263 s\nVAL loss: 0.673 (epoch: 4, step: 200) // Avg time/img: 0.0262 s\nVAL loss: 0.6532 (epoch: 4, step: 250) // Avg time/img: 0.0261 s\nVAL loss: 0.7055 (epoch: 4, step: 300) // Avg time/img: 0.0261 s\nVAL loss: 0.7212 (epoch: 4, step: 350) // Avg time/img: 0.0261 s\nVAL loss: 0.6833 (epoch: 4, step: 400) // Avg time/img: 0.0262 s\nVAL loss: 0.647 (epoch: 4, step: 450) // Avg time/img: 0.0262 s\nEPOCH IoU on VAL set:  \u001B[0m35.65\u001B[0m %\n----- TRAINING - EPOCH 5 -----\nLEARNING RATE:  0.00031572293374467766\nloss: 0.4275 (epoch: 5, step: 0) // Avg time/img: 0.1233 s\nloss: 0.4202 (epoch: 5, step: 50) // Avg time/img: 0.0731 s\nloss: 0.4339 (epoch: 5, step: 100) // Avg time/img: 0.0726 s\nloss: 0.4395 (epoch: 5, step: 150) // Avg time/img: 0.0721 s\nloss: 0.4365 (epoch: 5, step: 200) // Avg time/img: 0.0718 s\nloss: 0.4372 (epoch: 5, step: 250) // Avg time/img: 0.0718 s\nloss: 0.4438 (epoch: 5, step: 300) // Avg time/img: 0.0723 s\nloss: 0.446 (epoch: 5, step: 350) // Avg time/img: 0.0722 s\nloss: 0.4497 (epoch: 5, step: 400) // Avg time/img: 0.0721 s\nloss: 0.4539 (epoch: 5, step: 450) // Avg time/img: 0.0720 s\nloss: 0.4558 (epoch: 5, step: 500) // Avg time/img: 0.0720 s\nloss: 0.4513 (epoch: 5, step: 550) // Avg time/img: 0.0719 s\nloss: 0.4482 (epoch: 5, step: 600) // Avg time/img: 0.0719 s\nloss: 0.4474 (epoch: 5, step: 650) // Avg time/img: 0.0719 s\nloss: 0.4466 (epoch: 5, step: 700) // Avg time/img: 0.0720 s\nloss: 0.4475 (epoch: 5, step: 750) // Avg time/img: 0.0720 s\nloss: 0.4506 (epoch: 5, step: 800) // Avg time/img: 0.0720 s\nloss: 0.4511 (epoch: 5, step: 850) // Avg time/img: 0.0720 s\nloss: 0.4552 (epoch: 5, step: 900) // Avg time/img: 0.0720 s\nloss: 0.4542 (epoch: 5, step: 950) // Avg time/img: 0.0719 s\nloss: 0.4558 (epoch: 5, step: 1000) // Avg time/img: 0.0719 s\nloss: 0.4558 (epoch: 5, step: 1050) // Avg time/img: 0.0719 s\nloss: 0.4543 (epoch: 5, step: 1100) // Avg time/img: 0.0719 s\nloss: 0.4541 (epoch: 5, step: 1150) // Avg time/img: 0.0719 s\nloss: 0.4567 (epoch: 5, step: 1200) // Avg time/img: 0.0719 s\nloss: 0.4567 (epoch: 5, step: 1250) // Avg time/img: 0.0719 s\nloss: 0.4616 (epoch: 5, step: 1300) // Avg time/img: 0.0719 s\nloss: 0.4608 (epoch: 5, step: 1350) // Avg time/img: 0.0718 s\nloss: 0.46 (epoch: 5, step: 1400) // Avg time/img: 0.0718 s\nloss: 0.4593 (epoch: 5, step: 1450) // Avg time/img: 0.0718 s\nloss: 0.46 (epoch: 5, step: 1500) // Avg time/img: 0.0718 s\nloss: 0.4579 (epoch: 5, step: 1550) // Avg time/img: 0.0719 s\nloss: 0.4581 (epoch: 5, step: 1600) // Avg time/img: 0.0719 s\nloss: 0.4574 (epoch: 5, step: 1650) // Avg time/img: 0.0719 s\nloss: 0.4569 (epoch: 5, step: 1700) // Avg time/img: 0.0719 s\nloss: 0.4568 (epoch: 5, step: 1750) // Avg time/img: 0.0719 s\nloss: 0.4584 (epoch: 5, step: 1800) // Avg time/img: 0.0719 s\nloss: 0.4592 (epoch: 5, step: 1850) // Avg time/img: 0.0719 s\nloss: 0.4592 (epoch: 5, step: 1900) // Avg time/img: 0.0719 s\nloss: 0.4585 (epoch: 5, step: 1950) // Avg time/img: 0.0719 s\nloss: 0.4585 (epoch: 5, step: 2000) // Avg time/img: 0.0719 s\nloss: 0.4576 (epoch: 5, step: 2050) // Avg time/img: 0.0719 s\nloss: 0.4564 (epoch: 5, step: 2100) // Avg time/img: 0.0719 s\nloss: 0.4564 (epoch: 5, step: 2150) // Avg time/img: 0.0719 s\nloss: 0.4564 (epoch: 5, step: 2200) // Avg time/img: 0.0719 s\nloss: 0.4558 (epoch: 5, step: 2250) // Avg time/img: 0.0719 s\nloss: 0.4556 (epoch: 5, step: 2300) // Avg time/img: 0.0719 s\nloss: 0.4563 (epoch: 5, step: 2350) // Avg time/img: 0.0719 s\nloss: 0.4566 (epoch: 5, step: 2400) // Avg time/img: 0.0719 s\nloss: 0.4591 (epoch: 5, step: 2450) // Avg time/img: 0.0719 s\nloss: 0.4573 (epoch: 5, step: 2500) // Avg time/img: 0.0719 s\nloss: 0.457 (epoch: 5, step: 2550) // Avg time/img: 0.0719 s\nloss: 0.4561 (epoch: 5, step: 2600) // Avg time/img: 0.0719 s\nloss: 0.4561 (epoch: 5, step: 2650) // Avg time/img: 0.0719 s\nloss: 0.4559 (epoch: 5, step: 2700) // Avg time/img: 0.0719 s\nloss: 0.4569 (epoch: 5, step: 2750) // Avg time/img: 0.0719 s\nloss: 0.4565 (epoch: 5, step: 2800) // Avg time/img: 0.0719 s\nloss: 0.4563 (epoch: 5, step: 2850) // Avg time/img: 0.0719 s\nloss: 0.4561 (epoch: 5, step: 2900) // Avg time/img: 0.0719 s\nloss: 0.4558 (epoch: 5, step: 2950) // Avg time/img: 0.0719 s\n----- VALIDATING - EPOCH 5 -----\nVAL loss: 0.594 (epoch: 5, step: 0) // Avg time/img: 0.0538 s\nVAL loss: 0.5403 (epoch: 5, step: 50) // Avg time/img: 0.0261 s\nVAL loss: 0.6533 (epoch: 5, step: 100) // Avg time/img: 0.0258 s\nVAL loss: 0.6425 (epoch: 5, step: 150) // Avg time/img: 0.0259 s\nVAL loss: 0.6394 (epoch: 5, step: 200) // Avg time/img: 0.0260 s\nVAL loss: 0.6258 (epoch: 5, step: 250) // Avg time/img: 0.0260 s\nVAL loss: 0.6241 (epoch: 5, step: 300) // Avg time/img: 0.0261 s\nVAL loss: 0.6171 (epoch: 5, step: 350) // Avg time/img: 0.0260 s\nVAL loss: 0.5872 (epoch: 5, step: 400) // Avg time/img: 0.0261 s\nVAL loss: 0.5578 (epoch: 5, step: 450) // Avg time/img: 0.0261 s\nEPOCH IoU on VAL set:  \u001B[0m38.04\u001B[0m %\nSaving model as best\nsave: ../save/erfnet_training1/model_best.pth (epoch: 5)\n----- TRAINING - EPOCH 6 -----\nLEARNING RATE:  0.0002679433656340733\nloss: 0.3456 (epoch: 6, step: 0) // Avg time/img: 0.0801 s\nloss: 0.4462 (epoch: 6, step: 50) // Avg time/img: 0.0709 s\nloss: 0.4381 (epoch: 6, step: 100) // Avg time/img: 0.0709 s\nloss: 0.4323 (epoch: 6, step: 150) // Avg time/img: 0.0707 s\nloss: 0.4177 (epoch: 6, step: 200) // Avg time/img: 0.0708 s\nloss: 0.4076 (epoch: 6, step: 250) // Avg time/img: 0.0706 s\nloss: 0.4021 (epoch: 6, step: 300) // Avg time/img: 0.0706 s\nloss: 0.4004 (epoch: 6, step: 350) // Avg time/img: 0.0708 s\nloss: 0.3995 (epoch: 6, step: 400) // Avg time/img: 0.0709 s\nloss: 0.3937 (epoch: 6, step: 450) // Avg time/img: 0.0708 s\nloss: 0.397 (epoch: 6, step: 500) // Avg time/img: 0.0708 s\nloss: 0.3976 (epoch: 6, step: 550) // Avg time/img: 0.0707 s\nloss: 0.4046 (epoch: 6, step: 600) // Avg time/img: 0.0707 s\nloss: 0.4074 (epoch: 6, step: 650) // Avg time/img: 0.0707 s\nloss: 0.4051 (epoch: 6, step: 700) // Avg time/img: 0.0706 s\nloss: 0.4051 (epoch: 6, step: 750) // Avg time/img: 0.0706 s\nloss: 0.4078 (epoch: 6, step: 800) // Avg time/img: 0.0708 s\nloss: 0.4077 (epoch: 6, step: 850) // Avg time/img: 0.0708 s\nloss: 0.409 (epoch: 6, step: 900) // Avg time/img: 0.0707 s\nloss: 0.4141 (epoch: 6, step: 950) // Avg time/img: 0.0707 s\nloss: 0.4137 (epoch: 6, step: 1000) // Avg time/img: 0.0707 s\nloss: 0.4151 (epoch: 6, step: 1050) // Avg time/img: 0.0707 s\nloss: 0.4157 (epoch: 6, step: 1100) // Avg time/img: 0.0706 s\nloss: 0.4169 (epoch: 6, step: 1150) // Avg time/img: 0.0706 s\nloss: 0.4182 (epoch: 6, step: 1200) // Avg time/img: 0.0707 s\nloss: 0.4191 (epoch: 6, step: 1250) // Avg time/img: 0.0707 s\nloss: 0.419 (epoch: 6, step: 1300) // Avg time/img: 0.0707 s\nloss: 0.418 (epoch: 6, step: 1350) // Avg time/img: 0.0707 s\nloss: 0.4199 (epoch: 6, step: 1400) // Avg time/img: 0.0707 s\nloss: 0.4196 (epoch: 6, step: 1450) // Avg time/img: 0.0707 s\nloss: 0.4212 (epoch: 6, step: 1500) // Avg time/img: 0.0706 s\nloss: 0.4199 (epoch: 6, step: 1550) // Avg time/img: 0.0707 s\nloss: 0.419 (epoch: 6, step: 1600) // Avg time/img: 0.0706 s\nloss: 0.417 (epoch: 6, step: 1650) // Avg time/img: 0.0707 s\nloss: 0.417 (epoch: 6, step: 1700) // Avg time/img: 0.0707 s\nloss: 0.4184 (epoch: 6, step: 1750) // Avg time/img: 0.0706 s\nloss: 0.418 (epoch: 6, step: 1800) // Avg time/img: 0.0707 s\nloss: 0.4169 (epoch: 6, step: 1850) // Avg time/img: 0.0706 s\nloss: 0.4172 (epoch: 6, step: 1900) // Avg time/img: 0.0706 s\nloss: 0.4161 (epoch: 6, step: 1950) // Avg time/img: 0.0706 s\nloss: 0.4162 (epoch: 6, step: 2000) // Avg time/img: 0.0706 s\nloss: 0.4175 (epoch: 6, step: 2050) // Avg time/img: 0.0707 s\nloss: 0.417 (epoch: 6, step: 2100) // Avg time/img: 0.0707 s\nloss: 0.4173 (epoch: 6, step: 2150) // Avg time/img: 0.0707 s\nloss: 0.418 (epoch: 6, step: 2200) // Avg time/img: 0.0707 s\nloss: 0.4184 (epoch: 6, step: 2250) // Avg time/img: 0.0707 s\nloss: 0.4188 (epoch: 6, step: 2300) // Avg time/img: 0.0707 s\nloss: 0.4174 (epoch: 6, step: 2350) // Avg time/img: 0.0707 s\nloss: 0.4172 (epoch: 6, step: 2400) // Avg time/img: 0.0707 s\nloss: 0.417 (epoch: 6, step: 2450) // Avg time/img: 0.0707 s\nloss: 0.4187 (epoch: 6, step: 2500) // Avg time/img: 0.0707 s\nloss: 0.4191 (epoch: 6, step: 2550) // Avg time/img: 0.0707 s\nloss: 0.419 (epoch: 6, step: 2600) // Avg time/img: 0.0707 s\nloss: 0.4187 (epoch: 6, step: 2650) // Avg time/img: 0.0707 s\nloss: 0.4188 (epoch: 6, step: 2700) // Avg time/img: 0.0707 s\nloss: 0.4182 (epoch: 6, step: 2750) // Avg time/img: 0.0707 s\nloss: 0.4183 (epoch: 6, step: 2800) // Avg time/img: 0.0707 s\nloss: 0.418 (epoch: 6, step: 2850) // Avg time/img: 0.0707 s\nloss: 0.4181 (epoch: 6, step: 2900) // Avg time/img: 0.0708 s\nloss: 0.4175 (epoch: 6, step: 2950) // Avg time/img: 0.0707 s\n----- VALIDATING - EPOCH 6 -----\nVAL loss: 0.6171 (epoch: 6, step: 0) // Avg time/img: 0.0536 s\nVAL loss: 0.5272 (epoch: 6, step: 50) // Avg time/img: 0.0259 s\nVAL loss: 0.6234 (epoch: 6, step: 100) // Avg time/img: 0.0257 s\nVAL loss: 0.6142 (epoch: 6, step: 150) // Avg time/img: 0.0258 s\nVAL loss: 0.6103 (epoch: 6, step: 200) // Avg time/img: 0.0258 s\nVAL loss: 0.592 (epoch: 6, step: 250) // Avg time/img: 0.0260 s\nVAL loss: 0.6248 (epoch: 6, step: 300) // Avg time/img: 0.0260 s\nVAL loss: 0.6396 (epoch: 6, step: 350) // Avg time/img: 0.0261 s\nVAL loss: 0.604 (epoch: 6, step: 400) // Avg time/img: 0.0261 s\nVAL loss: 0.5714 (epoch: 6, step: 450) // Avg time/img: 0.0261 s\nEPOCH IoU on VAL set:  \u001B[0m39.90\u001B[0m %\nSaving model as best\nsave: ../save/erfnet_training1/model_best.pth (epoch: 6)\n----- TRAINING - EPOCH 7 -----\nLEARNING RATE:  0.00021919164527704348\nloss: 0.5641 (epoch: 7, step: 0) // Avg time/img: 0.0831 s\nloss: 0.3699 (epoch: 7, step: 50) // Avg time/img: 0.0716 s\nloss: 0.3928 (epoch: 7, step: 100) // Avg time/img: 0.0719 s\nloss: 0.3868 (epoch: 7, step: 150) // Avg time/img: 0.0711 s\nloss: 0.3812 (epoch: 7, step: 200) // Avg time/img: 0.0708 s\nloss: 0.3795 (epoch: 7, step: 250) // Avg time/img: 0.0707 s\nloss: 0.3875 (epoch: 7, step: 300) // Avg time/img: 0.0706 s\nloss: 0.3866 (epoch: 7, step: 350) // Avg time/img: 0.0706 s\nloss: 0.3883 (epoch: 7, step: 400) // Avg time/img: 0.0705 s\nloss: 0.3892 (epoch: 7, step: 450) // Avg time/img: 0.0704 s\nloss: 0.3835 (epoch: 7, step: 500) // Avg time/img: 0.0707 s\nloss: 0.3871 (epoch: 7, step: 550) // Avg time/img: 0.0706 s\nloss: 0.3879 (epoch: 7, step: 600) // Avg time/img: 0.0706 s\nloss: 0.3884 (epoch: 7, step: 650) // Avg time/img: 0.0706 s\nloss: 0.3882 (epoch: 7, step: 700) // Avg time/img: 0.0706 s\nloss: 0.3858 (epoch: 7, step: 750) // Avg time/img: 0.0706 s\nloss: 0.3875 (epoch: 7, step: 800) // Avg time/img: 0.0705 s\nloss: 0.3896 (epoch: 7, step: 850) // Avg time/img: 0.0705 s\nloss: 0.3894 (epoch: 7, step: 900) // Avg time/img: 0.0705 s\nloss: 0.3898 (epoch: 7, step: 950) // Avg time/img: 0.0706 s\nloss: 0.3883 (epoch: 7, step: 1000) // Avg time/img: 0.0706 s\nloss: 0.3854 (epoch: 7, step: 1050) // Avg time/img: 0.0705 s\nloss: 0.3848 (epoch: 7, step: 1100) // Avg time/img: 0.0705 s\nloss: 0.3869 (epoch: 7, step: 1150) // Avg time/img: 0.0705 s\nloss: 0.3879 (epoch: 7, step: 1200) // Avg time/img: 0.0705 s\nloss: 0.3878 (epoch: 7, step: 1250) // Avg time/img: 0.0705 s\nloss: 0.3886 (epoch: 7, step: 1300) // Avg time/img: 0.0705 s\nloss: 0.3884 (epoch: 7, step: 1350) // Avg time/img: 0.0706 s\nloss: 0.3894 (epoch: 7, step: 1400) // Avg time/img: 0.0706 s\nloss: 0.3896 (epoch: 7, step: 1450) // Avg time/img: 0.0706 s\nloss: 0.3905 (epoch: 7, step: 1500) // Avg time/img: 0.0706 s\nloss: 0.3913 (epoch: 7, step: 1550) // Avg time/img: 0.0706 s\nloss: 0.3907 (epoch: 7, step: 1600) // Avg time/img: 0.0706 s\nloss: 0.3908 (epoch: 7, step: 1650) // Avg time/img: 0.0705 s\nloss: 0.3924 (epoch: 7, step: 1700) // Avg time/img: 0.0705 s\nloss: 0.3919 (epoch: 7, step: 1750) // Avg time/img: 0.0706 s\nloss: 0.3893 (epoch: 7, step: 1800) // Avg time/img: 0.0706 s\nloss: 0.3891 (epoch: 7, step: 1850) // Avg time/img: 0.0705 s\nloss: 0.3898 (epoch: 7, step: 1900) // Avg time/img: 0.0705 s\nloss: 0.3919 (epoch: 7, step: 1950) // Avg time/img: 0.0705 s\nloss: 0.3921 (epoch: 7, step: 2000) // Avg time/img: 0.0705 s\nloss: 0.3914 (epoch: 7, step: 2050) // Avg time/img: 0.0705 s\nloss: 0.3911 (epoch: 7, step: 2100) // Avg time/img: 0.0705 s\nloss: 0.3904 (epoch: 7, step: 2150) // Avg time/img: 0.0705 s\nloss: 0.3903 (epoch: 7, step: 2200) // Avg time/img: 0.0706 s\nloss: 0.3905 (epoch: 7, step: 2250) // Avg time/img: 0.0706 s\nloss: 0.3903 (epoch: 7, step: 2300) // Avg time/img: 0.0706 s\nloss: 0.3911 (epoch: 7, step: 2350) // Avg time/img: 0.0706 s\nloss: 0.3916 (epoch: 7, step: 2400) // Avg time/img: 0.0706 s\nloss: 0.3929 (epoch: 7, step: 2450) // Avg time/img: 0.0705 s\nloss: 0.3931 (epoch: 7, step: 2500) // Avg time/img: 0.0705 s\nloss: 0.3921 (epoch: 7, step: 2550) // Avg time/img: 0.0705 s\nloss: 0.3912 (epoch: 7, step: 2600) // Avg time/img: 0.0706 s\nloss: 0.3909 (epoch: 7, step: 2650) // Avg time/img: 0.0706 s\nloss: 0.3916 (epoch: 7, step: 2700) // Avg time/img: 0.0706 s\nloss: 0.3916 (epoch: 7, step: 2750) // Avg time/img: 0.0706 s\nloss: 0.3913 (epoch: 7, step: 2800) // Avg time/img: 0.0705 s\nloss: 0.3914 (epoch: 7, step: 2850) // Avg time/img: 0.0705 s\nloss: 0.3923 (epoch: 7, step: 2900) // Avg time/img: 0.0705 s\nloss: 0.3923 (epoch: 7, step: 2950) // Avg time/img: 0.0705 s\n----- VALIDATING - EPOCH 7 -----\nVAL loss: 0.6162 (epoch: 7, step: 0) // Avg time/img: 0.0533 s\nVAL loss: 0.4983 (epoch: 7, step: 50) // Avg time/img: 0.0259 s\nVAL loss: 0.5772 (epoch: 7, step: 100) // Avg time/img: 0.0259 s\nVAL loss: 0.5704 (epoch: 7, step: 150) // Avg time/img: 0.0259 s\nVAL loss: 0.5595 (epoch: 7, step: 200) // Avg time/img: 0.0259 s\nVAL loss: 0.5445 (epoch: 7, step: 250) // Avg time/img: 0.0258 s\nVAL loss: 0.5712 (epoch: 7, step: 300) // Avg time/img: 0.0259 s\nVAL loss: 0.5814 (epoch: 7, step: 350) // Avg time/img: 0.0259 s\nVAL loss: 0.5518 (epoch: 7, step: 400) // Avg time/img: 0.0259 s\nVAL loss: 0.5232 (epoch: 7, step: 450) // Avg time/img: 0.0259 s\nEPOCH IoU on VAL set:  \u001B[0m41.04\u001B[0m %\nSaving model as best\nsave: ../save/erfnet_training1/model_best.pth (epoch: 7)\n----- TRAINING - EPOCH 8 -----\nLEARNING RATE:  0.00016919173095082495\nloss: 0.3426 (epoch: 8, step: 0) // Avg time/img: 0.1164 s\nloss: 0.4519 (epoch: 8, step: 50) // Avg time/img: 0.0719 s\nloss: 0.4197 (epoch: 8, step: 100) // Avg time/img: 0.0714 s\nloss: 0.3953 (epoch: 8, step: 150) // Avg time/img: 0.0709 s\nloss: 0.3831 (epoch: 8, step: 200) // Avg time/img: 0.0709 s\nloss: 0.3773 (epoch: 8, step: 250) // Avg time/img: 0.0710 s\nloss: 0.3762 (epoch: 8, step: 300) // Avg time/img: 0.0708 s\nloss: 0.3795 (epoch: 8, step: 350) // Avg time/img: 0.0706 s\nloss: 0.381 (epoch: 8, step: 400) // Avg time/img: 0.0705 s\nloss: 0.3763 (epoch: 8, step: 450) // Avg time/img: 0.0705 s\nloss: 0.3744 (epoch: 8, step: 500) // Avg time/img: 0.0704 s\nloss: 0.3708 (epoch: 8, step: 550) // Avg time/img: 0.0704 s\nloss: 0.3725 (epoch: 8, step: 600) // Avg time/img: 0.0703 s\nloss: 0.3752 (epoch: 8, step: 650) // Avg time/img: 0.0705 s\nloss: 0.3752 (epoch: 8, step: 700) // Avg time/img: 0.0704 s\nloss: 0.3735 (epoch: 8, step: 750) // Avg time/img: 0.0704 s\nloss: 0.3722 (epoch: 8, step: 800) // Avg time/img: 0.0704 s\nloss: 0.3691 (epoch: 8, step: 850) // Avg time/img: 0.0703 s\nloss: 0.3672 (epoch: 8, step: 900) // Avg time/img: 0.0703 s\nloss: 0.3647 (epoch: 8, step: 950) // Avg time/img: 0.0702 s\nloss: 0.3628 (epoch: 8, step: 1000) // Avg time/img: 0.0702 s\nloss: 0.3626 (epoch: 8, step: 1050) // Avg time/img: 0.0703 s\nloss: 0.3613 (epoch: 8, step: 1100) // Avg time/img: 0.0703 s\nloss: 0.3618 (epoch: 8, step: 1150) // Avg time/img: 0.0702 s\nloss: 0.3643 (epoch: 8, step: 1200) // Avg time/img: 0.0702 s\nloss: 0.3641 (epoch: 8, step: 1250) // Avg time/img: 0.0702 s\nloss: 0.3642 (epoch: 8, step: 1300) // Avg time/img: 0.0702 s\nloss: 0.3639 (epoch: 8, step: 1350) // Avg time/img: 0.0702 s\nloss: 0.3624 (epoch: 8, step: 1400) // Avg time/img: 0.0701 s\nloss: 0.3638 (epoch: 8, step: 1450) // Avg time/img: 0.0701 s\nloss: 0.3621 (epoch: 8, step: 1500) // Avg time/img: 0.0702 s\nloss: 0.3612 (epoch: 8, step: 1550) // Avg time/img: 0.0702 s\nloss: 0.3632 (epoch: 8, step: 1600) // Avg time/img: 0.0702 s\nloss: 0.3646 (epoch: 8, step: 1650) // Avg time/img: 0.0701 s\nloss: 0.3642 (epoch: 8, step: 1700) // Avg time/img: 0.0702 s\nloss: 0.3652 (epoch: 8, step: 1750) // Avg time/img: 0.0701 s\nloss: 0.3659 (epoch: 8, step: 1800) // Avg time/img: 0.0701 s\nloss: 0.3655 (epoch: 8, step: 1850) // Avg time/img: 0.0701 s\nloss: 0.3645 (epoch: 8, step: 1900) // Avg time/img: 0.0701 s\nloss: 0.3644 (epoch: 8, step: 1950) // Avg time/img: 0.0702 s\nloss: 0.3646 (epoch: 8, step: 2000) // Avg time/img: 0.0702 s\nloss: 0.3664 (epoch: 8, step: 2050) // Avg time/img: 0.0701 s\nloss: 0.3678 (epoch: 8, step: 2100) // Avg time/img: 0.0701 s\nloss: 0.369 (epoch: 8, step: 2150) // Avg time/img: 0.0701 s\nloss: 0.368 (epoch: 8, step: 2200) // Avg time/img: 0.0701 s\nloss: 0.3674 (epoch: 8, step: 2250) // Avg time/img: 0.0701 s\nloss: 0.3666 (epoch: 8, step: 2300) // Avg time/img: 0.0701 s\nloss: 0.3659 (epoch: 8, step: 2350) // Avg time/img: 0.0701 s\nloss: 0.3655 (epoch: 8, step: 2400) // Avg time/img: 0.0701 s\nloss: 0.3656 (epoch: 8, step: 2450) // Avg time/img: 0.0701 s\nloss: 0.3657 (epoch: 8, step: 2500) // Avg time/img: 0.0701 s\nloss: 0.3641 (epoch: 8, step: 2550) // Avg time/img: 0.0701 s\nloss: 0.3641 (epoch: 8, step: 2600) // Avg time/img: 0.0701 s\nloss: 0.3644 (epoch: 8, step: 2650) // Avg time/img: 0.0701 s\nloss: 0.3647 (epoch: 8, step: 2700) // Avg time/img: 0.0701 s\nloss: 0.364 (epoch: 8, step: 2750) // Avg time/img: 0.0701 s\nloss: 0.3637 (epoch: 8, step: 2800) // Avg time/img: 0.0701 s\nloss: 0.3641 (epoch: 8, step: 2850) // Avg time/img: 0.0701 s\nloss: 0.3645 (epoch: 8, step: 2900) // Avg time/img: 0.0701 s\nloss: 0.3647 (epoch: 8, step: 2950) // Avg time/img: 0.0701 s\n----- VALIDATING - EPOCH 8 -----\nVAL loss: 0.7517 (epoch: 8, step: 0) // Avg time/img: 0.0277 s\nVAL loss: 0.4778 (epoch: 8, step: 50) // Avg time/img: 0.0254 s\nVAL loss: 0.552 (epoch: 8, step: 100) // Avg time/img: 0.0255 s\nVAL loss: 0.5531 (epoch: 8, step: 150) // Avg time/img: 0.0257 s\nVAL loss: 0.5482 (epoch: 8, step: 200) // Avg time/img: 0.0257 s\nVAL loss: 0.5344 (epoch: 8, step: 250) // Avg time/img: 0.0257 s\nVAL loss: 0.5599 (epoch: 8, step: 300) // Avg time/img: 0.0257 s\nVAL loss: 0.5682 (epoch: 8, step: 350) // Avg time/img: 0.0258 s\nVAL loss: 0.5387 (epoch: 8, step: 400) // Avg time/img: 0.0258 s\nVAL loss: 0.512 (epoch: 8, step: 450) // Avg time/img: 0.0258 s\nEPOCH IoU on VAL set:  \u001B[0m42.90\u001B[0m %\nSaving model as best\nsave: ../save/erfnet_training1/model_best.pth (epoch: 8)\n----- TRAINING - EPOCH 9 -----\nLEARNING RATE:  0.00011746189430880188\nloss: 0.4918 (epoch: 9, step: 0) // Avg time/img: 0.0811 s\nloss: 0.3458 (epoch: 9, step: 50) // Avg time/img: 0.0706 s\nloss: 0.3476 (epoch: 9, step: 100) // Avg time/img: 0.0700 s\nloss: 0.344 (epoch: 9, step: 150) // Avg time/img: 0.0701 s\nloss: 0.3479 (epoch: 9, step: 200) // Avg time/img: 0.0700 s\nloss: 0.3516 (epoch: 9, step: 250) // Avg time/img: 0.0699 s\nloss: 0.3408 (epoch: 9, step: 300) // Avg time/img: 0.0700 s\nloss: 0.3348 (epoch: 9, step: 350) // Avg time/img: 0.0702 s\nloss: 0.3343 (epoch: 9, step: 400) // Avg time/img: 0.0702 s\nloss: 0.3372 (epoch: 9, step: 450) // Avg time/img: 0.0702 s\nloss: 0.3368 (epoch: 9, step: 500) // Avg time/img: 0.0701 s\nloss: 0.3358 (epoch: 9, step: 550) // Avg time/img: 0.0701 s\nloss: 0.3374 (epoch: 9, step: 600) // Avg time/img: 0.0701 s\nloss: 0.3366 (epoch: 9, step: 650) // Avg time/img: 0.0701 s\nloss: 0.3369 (epoch: 9, step: 700) // Avg time/img: 0.0701 s\nloss: 0.3356 (epoch: 9, step: 750) // Avg time/img: 0.0700 s\nloss: 0.3333 (epoch: 9, step: 800) // Avg time/img: 0.0702 s\nloss: 0.3338 (epoch: 9, step: 850) // Avg time/img: 0.0702 s\nloss: 0.3346 (epoch: 9, step: 900) // Avg time/img: 0.0702 s\nloss: 0.3359 (epoch: 9, step: 950) // Avg time/img: 0.0702 s\nloss: 0.3343 (epoch: 9, step: 1000) // Avg time/img: 0.0701 s\nloss: 0.3371 (epoch: 9, step: 1050) // Avg time/img: 0.0701 s\nloss: 0.336 (epoch: 9, step: 1100) // Avg time/img: 0.0701 s\nloss: 0.3351 (epoch: 9, step: 1150) // Avg time/img: 0.0701 s\nloss: 0.3362 (epoch: 9, step: 1200) // Avg time/img: 0.0702 s\nloss: 0.3368 (epoch: 9, step: 1250) // Avg time/img: 0.0702 s\nloss: 0.3375 (epoch: 9, step: 1300) // Avg time/img: 0.0702 s\nloss: 0.3373 (epoch: 9, step: 1350) // Avg time/img: 0.0702 s\nloss: 0.3377 (epoch: 9, step: 1400) // Avg time/img: 0.0702 s\nloss: 0.3398 (epoch: 9, step: 1450) // Avg time/img: 0.0702 s\nloss: 0.3382 (epoch: 9, step: 1500) // Avg time/img: 0.0701 s\nloss: 0.3379 (epoch: 9, step: 1550) // Avg time/img: 0.0701 s\nloss: 0.3389 (epoch: 9, step: 1600) // Avg time/img: 0.0701 s\nloss: 0.3385 (epoch: 9, step: 1650) // Avg time/img: 0.0702 s\nloss: 0.3383 (epoch: 9, step: 1700) // Avg time/img: 0.0702 s\nloss: 0.3378 (epoch: 9, step: 1750) // Avg time/img: 0.0702 s\nloss: 0.3369 (epoch: 9, step: 1800) // Avg time/img: 0.0702 s\nloss: 0.3367 (epoch: 9, step: 1850) // Avg time/img: 0.0702 s\nloss: 0.3363 (epoch: 9, step: 1900) // Avg time/img: 0.0701 s\nloss: 0.3374 (epoch: 9, step: 1950) // Avg time/img: 0.0701 s\nloss: 0.3376 (epoch: 9, step: 2000) // Avg time/img: 0.0701 s\nloss: 0.3379 (epoch: 9, step: 2050) // Avg time/img: 0.0702 s\nloss: 0.3399 (epoch: 9, step: 2100) // Avg time/img: 0.0702 s\nloss: 0.3402 (epoch: 9, step: 2150) // Avg time/img: 0.0702 s\nloss: 0.3412 (epoch: 9, step: 2200) // Avg time/img: 0.0702 s\nloss: 0.3416 (epoch: 9, step: 2250) // Avg time/img: 0.0702 s\nloss: 0.3418 (epoch: 9, step: 2300) // Avg time/img: 0.0702 s\nloss: 0.3418 (epoch: 9, step: 2350) // Avg time/img: 0.0702 s\nloss: 0.3416 (epoch: 9, step: 2400) // Avg time/img: 0.0701 s\nloss: 0.3412 (epoch: 9, step: 2450) // Avg time/img: 0.0701 s\nloss: 0.3407 (epoch: 9, step: 2500) // Avg time/img: 0.0702 s\nloss: 0.3403 (epoch: 9, step: 2550) // Avg time/img: 0.0702 s\nloss: 0.3413 (epoch: 9, step: 2600) // Avg time/img: 0.0702 s\nloss: 0.3406 (epoch: 9, step: 2650) // Avg time/img: 0.0702 s\nloss: 0.3395 (epoch: 9, step: 2700) // Avg time/img: 0.0702 s\nloss: 0.3389 (epoch: 9, step: 2750) // Avg time/img: 0.0702 s\nloss: 0.3382 (epoch: 9, step: 2800) // Avg time/img: 0.0702 s\nloss: 0.3377 (epoch: 9, step: 2850) // Avg time/img: 0.0702 s\nloss: 0.3381 (epoch: 9, step: 2900) // Avg time/img: 0.0702 s\nloss: 0.3377 (epoch: 9, step: 2950) // Avg time/img: 0.0702 s\n----- VALIDATING - EPOCH 9 -----\nVAL loss: 0.8826 (epoch: 9, step: 0) // Avg time/img: 0.0288 s\nVAL loss: 0.494 (epoch: 9, step: 50) // Avg time/img: 0.0253 s\nVAL loss: 0.5662 (epoch: 9, step: 100) // Avg time/img: 0.0256 s\nVAL loss: 0.5602 (epoch: 9, step: 150) // Avg time/img: 0.0257 s\nVAL loss: 0.5578 (epoch: 9, step: 200) // Avg time/img: 0.0257 s\nVAL loss: 0.5448 (epoch: 9, step: 250) // Avg time/img: 0.0258 s\nVAL loss: 0.5727 (epoch: 9, step: 300) // Avg time/img: 0.0258 s\nVAL loss: 0.5808 (epoch: 9, step: 350) // Avg time/img: 0.0258 s\nVAL loss: 0.5514 (epoch: 9, step: 400) // Avg time/img: 0.0258 s\nVAL loss: 0.5211 (epoch: 9, step: 450) // Avg time/img: 0.0258 s\nEPOCH IoU on VAL set:  \u001B[0m44.06\u001B[0m %\nSaving model as best\nsave: ../save/erfnet_training1/model_best.pth (epoch: 9)\n----- TRAINING - EPOCH 10 -----\nLEARNING RATE:  6.294627058970836e-05\nloss: 0.2846 (epoch: 10, step: 0) // Avg time/img: 0.1179 s\nloss: 0.334 (epoch: 10, step: 50) // Avg time/img: 0.0738 s\nloss: 0.3143 (epoch: 10, step: 100) // Avg time/img: 0.0735 s\nloss: 0.3088 (epoch: 10, step: 150) // Avg time/img: 0.0726 s\nloss: 0.3183 (epoch: 10, step: 200) // Avg time/img: 0.0722 s\nloss: 0.316 (epoch: 10, step: 250) // Avg time/img: 0.0718 s\nloss: 0.3162 (epoch: 10, step: 300) // Avg time/img: 0.0717 s\nloss: 0.3111 (epoch: 10, step: 350) // Avg time/img: 0.0715 s\nloss: 0.3071 (epoch: 10, step: 400) // Avg time/img: 0.0715 s\nloss: 0.3085 (epoch: 10, step: 450) // Avg time/img: 0.0714 s\nloss: 0.3086 (epoch: 10, step: 500) // Avg time/img: 0.0717 s\nloss: 0.3076 (epoch: 10, step: 550) // Avg time/img: 0.0717 s\nloss: 0.3071 (epoch: 10, step: 600) // Avg time/img: 0.0716 s\nloss: 0.3069 (epoch: 10, step: 650) // Avg time/img: 0.0715 s\nloss: 0.3092 (epoch: 10, step: 700) // Avg time/img: 0.0715 s\nloss: 0.3125 (epoch: 10, step: 750) // Avg time/img: 0.0715 s\nloss: 0.3163 (epoch: 10, step: 800) // Avg time/img: 0.0715 s\nloss: 0.3171 (epoch: 10, step: 850) // Avg time/img: 0.0715 s\nloss: 0.3177 (epoch: 10, step: 900) // Avg time/img: 0.0716 s\nloss: 0.3171 (epoch: 10, step: 950) // Avg time/img: 0.0716 s\nloss: 0.3163 (epoch: 10, step: 1000) // Avg time/img: 0.0716 s\nloss: 0.3158 (epoch: 10, step: 1050) // Avg time/img: 0.0716 s\nloss: 0.3175 (epoch: 10, step: 1100) // Avg time/img: 0.0716 s\nloss: 0.3156 (epoch: 10, step: 1150) // Avg time/img: 0.0716 s\nloss: 0.3161 (epoch: 10, step: 1200) // Avg time/img: 0.0715 s\nloss: 0.3143 (epoch: 10, step: 1250) // Avg time/img: 0.0715 s\nloss: 0.3135 (epoch: 10, step: 1300) // Avg time/img: 0.0715 s\nloss: 0.3153 (epoch: 10, step: 1350) // Avg time/img: 0.0716 s\nloss: 0.3135 (epoch: 10, step: 1400) // Avg time/img: 0.0716 s\nloss: 0.3132 (epoch: 10, step: 1450) // Avg time/img: 0.0715 s\nloss: 0.3122 (epoch: 10, step: 1500) // Avg time/img: 0.0715 s\nloss: 0.3134 (epoch: 10, step: 1550) // Avg time/img: 0.0715 s\nloss: 0.3129 (epoch: 10, step: 1600) // Avg time/img: 0.0715 s\nloss: 0.3135 (epoch: 10, step: 1650) // Avg time/img: 0.0715 s\nloss: 0.3129 (epoch: 10, step: 1700) // Avg time/img: 0.0715 s\nloss: 0.3128 (epoch: 10, step: 1750) // Avg time/img: 0.0716 s\nloss: 0.3132 (epoch: 10, step: 1800) // Avg time/img: 0.0716 s\nloss: 0.3127 (epoch: 10, step: 1850) // Avg time/img: 0.0715 s\nloss: 0.3117 (epoch: 10, step: 1900) // Avg time/img: 0.0715 s\nloss: 0.3119 (epoch: 10, step: 1950) // Avg time/img: 0.0715 s\nloss: 0.3135 (epoch: 10, step: 2000) // Avg time/img: 0.0715 s\nloss: 0.3135 (epoch: 10, step: 2050) // Avg time/img: 0.0715 s\nloss: 0.3139 (epoch: 10, step: 2100) // Avg time/img: 0.0715 s\nloss: 0.3137 (epoch: 10, step: 2150) // Avg time/img: 0.0715 s\nloss: 0.3133 (epoch: 10, step: 2200) // Avg time/img: 0.0715 s\nloss: 0.313 (epoch: 10, step: 2250) // Avg time/img: 0.0715 s\nloss: 0.3126 (epoch: 10, step: 2300) // Avg time/img: 0.0715 s\nloss: 0.3127 (epoch: 10, step: 2350) // Avg time/img: 0.0715 s\nloss: 0.3129 (epoch: 10, step: 2400) // Avg time/img: 0.0715 s\nloss: 0.3127 (epoch: 10, step: 2450) // Avg time/img: 0.0715 s\nloss: 0.3129 (epoch: 10, step: 2500) // Avg time/img: 0.0715 s\nloss: 0.3131 (epoch: 10, step: 2550) // Avg time/img: 0.0715 s\nloss: 0.3131 (epoch: 10, step: 2600) // Avg time/img: 0.0715 s\nloss: 0.3127 (epoch: 10, step: 2650) // Avg time/img: 0.0715 s\nloss: 0.3127 (epoch: 10, step: 2700) // Avg time/img: 0.0715 s\nloss: 0.3132 (epoch: 10, step: 2750) // Avg time/img: 0.0715 s\nloss: 0.3146 (epoch: 10, step: 2800) // Avg time/img: 0.0715 s\nloss: 0.3144 (epoch: 10, step: 2850) // Avg time/img: 0.0715 s\nloss: 0.315 (epoch: 10, step: 2900) // Avg time/img: 0.0715 s\nloss: 0.316 (epoch: 10, step: 2950) // Avg time/img: 0.0715 s\n----- VALIDATING - EPOCH 10 -----\nVAL loss: 0.6405 (epoch: 10, step: 0) // Avg time/img: 0.0515 s\nVAL loss: 0.4489 (epoch: 10, step: 50) // Avg time/img: 0.0256 s\nVAL loss: 0.5004 (epoch: 10, step: 100) // Avg time/img: 0.0257 s\nVAL loss: 0.4952 (epoch: 10, step: 150) // Avg time/img: 0.0258 s\nVAL loss: 0.4991 (epoch: 10, step: 200) // Avg time/img: 0.0259 s\nVAL loss: 0.4902 (epoch: 10, step: 250) // Avg time/img: 0.0259 s\nVAL loss: 0.5482 (epoch: 10, step: 300) // Avg time/img: 0.0259 s\nVAL loss: 0.5604 (epoch: 10, step: 350) // Avg time/img: 0.0261 s\nVAL loss: 0.5275 (epoch: 10, step: 400) // Avg time/img: 0.0261 s\nVAL loss: 0.4981 (epoch: 10, step: 450) // Avg time/img: 0.0261 s\nEPOCH IoU on VAL set:  \u001B[0m45.67\u001B[0m %\nSaving model as best\nsave: ../save/erfnet_training1/model_best.pth (epoch: 10)\n========== TRAINING FINISHED ===========\n",
     "output_type": "stream"
    }
   ],
   "execution_count": 3
  },
  {
   "cell_type": "markdown",
   "source": "## Convertitore Labels",
   "metadata": {}
  },
  {
   "cell_type": "code",
   "source": "\n# python imports\nfrom __future__ import print_function, absolute_import, division\nimport os, glob, sys\n\n# cityscapes imports\nfrom cityscapesscripts.helpers.csHelpers import printError\nfrom cityscapesscripts.preparation.json2labelImg import json2labelImg\n\n# The main method\ndef main():\n    # Where to look for Cityscapes\n\n    cityscapesPath = \"/kaggle/input/cityscapes/Cityscape\"\n    # how to search for all ground truth\n    searchFine   = os.path.join( cityscapesPath , \"gtFine\"   , \"*\" , \"*\" , \"*_gt*_polygons.json\" )\n    searchCoarse = os.path.join( cityscapesPath , \"gtCoarse\" , \"*\" , \"*\" , \"*_gt*_polygons.json\" )\n\n    # search files\n    filesFine = glob.glob( searchFine )\n    filesFine.sort()\n    filesCoarse = glob.glob( searchCoarse )\n    filesCoarse.sort()\n\n    # concatenate fine and coarse\n    files = filesFine + filesCoarse\n    # files = filesFine # use this line if fine is enough for now.\n\n    # quit if we did not find anything\n    if not files:\n        printError( \"Did not find any files. Please consult the README.\" )\n\n    # a bit verbose\n    print(\"Processing {} annotation files\".format(len(files)))\n\n    # iterate through files\n    progress = 0\n    print(\"Progress: {:>3} %\".format( progress * 100 / len(files) ), end=' ')\n    for f in files:\n        # create the output filename\n        dst = f.replace( \"_polygons.json\" , \"_labelTrainIds.png\" )\n\n        # do the conversion\n        try:\n            json2labelImg( f , dst , \"trainIds\" )\n        except:\n            print(\"Failed to convert: {}\".format(f))\n            raise\n\n        # status\n        progress += 1\n        print(\"\\rProgress: {:>3} %\".format( progress * 100 / len(files) ), end=' ')\n        sys.stdout.flush()\n\n\n# call the main\nif __name__ == \"__main__\":\n    main()",
   "metadata": {
    "trusted": true
   },
   "outputs": [],
   "execution_count": null
  },
  {
   "cell_type": "markdown",
   "source": "## Evaluation",
   "metadata": {}
  },
  {
   "cell_type": "markdown",
   "source": "### Generates color images for visualization",
   "metadata": {}
  },
  {
   "cell_type": "code",
   "source": "!python3 \"/kaggle/working/AnomalySegmentation/eval/eval_cityscapes_color.py\" --datadir \"/kaggle/input/cityscapes-correctlabels/Cityscape\" --subset val --loadDir \"/kaggle/working/\" --loadWeights \"AnomalySegmentation/save/erfnet_training1/model_best.pth\" ",
   "metadata": {
    "trusted": true
   },
   "outputs": [],
   "execution_count": null
  },
  {
   "cell_type": "markdown",
   "source": "### eval_iou",
   "metadata": {}
  },
  {
   "cell_type": "code",
   "source": "!python3  \"/kaggle/working/AnomalySegmentation/eval/eval_iou.py\" --datadir \"/kaggle/input/cityscapes-correctlabels/Cityscape\" --subset val --loadDir \"/kaggle/working/\" --loadWeights \"AnomalySegmentation/save/erfnet_training1/model_best.pth\"",
   "metadata": {
    "trusted": true
   },
   "outputs": [],
   "execution_count": null
  },
  {
   "metadata": {
    "ExecuteTime": {
     "end_time": "2024-12-23T11:17:31.839487Z",
     "start_time": "2024-12-23T11:17:27.660681Z"
    }
   },
   "cell_type": "code",
   "source": "!pip install opencv-python\n",
   "outputs": [
    {
     "name": "stdout",
     "output_type": "stream",
     "text": [
      "Collecting opencv-python\n",
      "  Obtaining dependency information for opencv-python from https://files.pythonhosted.org/packages/ec/6c/fab8113424af5049f85717e8e527ca3773299a3c6b02506e66436e19874f/opencv_python-4.10.0.84-cp37-abi3-win_amd64.whl.metadata\n",
      "  Downloading opencv_python-4.10.0.84-cp37-abi3-win_amd64.whl.metadata (20 kB)\n",
      "Requirement already satisfied: numpy>=1.21.2 in c:\\users\\vcata\\appdata\\local\\programs\\python\\python311\\lib\\site-packages (from opencv-python) (1.26.3)\n",
      "Downloading opencv_python-4.10.0.84-cp37-abi3-win_amd64.whl (38.8 MB)\n",
      "   ---------------------------------------- 0.0/38.8 MB ? eta -:--:--\n",
      "   ---------------------------------------- 0.1/38.8 MB 1.7 MB/s eta 0:00:24\n",
      "   ---------------------------------------- 0.5/38.8 MB 5.9 MB/s eta 0:00:07\n",
      "   - -------------------------------------- 1.8/38.8 MB 14.3 MB/s eta 0:00:03\n",
      "   --- ------------------------------------ 3.1/38.8 MB 18.2 MB/s eta 0:00:02\n",
      "   ----- ---------------------------------- 5.6/38.8 MB 25.7 MB/s eta 0:00:02\n",
      "   -------- ------------------------------- 8.2/38.8 MB 30.9 MB/s eta 0:00:01\n",
      "   ----------- ---------------------------- 11.5/38.8 MB 50.1 MB/s eta 0:00:01\n",
      "   -------------- ------------------------- 14.4/38.8 MB 65.6 MB/s eta 0:00:01\n",
      "   ------------------ --------------------- 17.7/38.8 MB 72.6 MB/s eta 0:00:01\n",
      "   --------------------- ------------------ 21.0/38.8 MB 72.6 MB/s eta 0:00:01\n",
      "   ------------------------- -------------- 24.3/38.8 MB 73.1 MB/s eta 0:00:01\n",
      "   ---------------------------- ----------- 27.4/38.8 MB 73.1 MB/s eta 0:00:01\n",
      "   ------------------------------- -------- 30.7/38.8 MB 73.1 MB/s eta 0:00:01\n",
      "   ---------------------------------- ----- 33.6/38.8 MB 72.6 MB/s eta 0:00:01\n",
      "   ------------------------------------- -- 36.7/38.8 MB 65.6 MB/s eta 0:00:01\n",
      "   ---------------------------------------  38.5/38.8 MB 59.5 MB/s eta 0:00:01\n",
      "   ---------------------------------------  38.8/38.8 MB 59.5 MB/s eta 0:00:01\n",
      "   ---------------------------------------- 38.8/38.8 MB 38.4 MB/s eta 0:00:00\n",
      "Installing collected packages: opencv-python\n",
      "Successfully installed opencv-python-4.10.0.84\n"
     ]
    },
    {
     "name": "stderr",
     "output_type": "stream",
     "text": [
      "\n",
      "[notice] A new release of pip is available: 23.2.1 -> 24.3.1\n",
      "[notice] To update, run: python.exe -m pip install --upgrade pip\n"
     ]
    }
   ],
   "execution_count": 7
  },
  {
   "cell_type": "markdown",
   "source": "### eval anomaly",
   "metadata": {}
  },
  {
   "cell_type": "code",
   "source": "!python \"evalAnomaly.py\" --input 'C:/Users/vcata\\Downloads\\dataset_ObstacleTrack/images/*.*' --loadDir \"C:/Users/vcata/Desktop/Polito/AML/AnomalySegmentation\" --loadWeights \"/save/erfnet_training1/model_best.pth\" --subset val",
   "metadata": {
    "trusted": true,
    "execution": {
     "iopub.status.busy": "2024-12-23T10:56:10.387130Z",
     "iopub.execute_input": "2024-12-23T10:56:10.387451Z",
     "iopub.status.idle": "2024-12-23T10:56:23.578362Z",
     "shell.execute_reply.started": "2024-12-23T10:56:10.387426Z",
     "shell.execute_reply": "2024-12-23T10:56:23.577231Z"
    },
    "ExecuteTime": {
     "end_time": "2024-12-23T17:04:57.368168Z",
     "start_time": "2024-12-23T17:04:34.160512Z"
    }
   },
   "outputs": [
    {
     "name": "stdout",
     "output_type": "stream",
     "text": [
      "Loading model: C:/Users/vcata/Desktop/Polito/AML/AnomalySegmentationerfnet.py\n",
      "Loading weights: C:/Users/vcata/Desktop/Polito/AML/AnomalySegmentation/save/erfnet_training1/model_best.pth\n",
      "Model and weights LOADED successfully\n",
      "Elaborazione immagine: C:\\Users\\vcata\\Downloads\\dataset_ObstacleTrack\\images\\validation_1.webp\n",
      "Parent:  C:\\Users\\vcata\\Downloads\\dataset_ObstacleTrack\n",
      "Percorso iniziale della maschera: C:\\Users\\vcata\\Downloads\\dataset_ObstacleTrack\\labels_masks\\validation_1_labels_semantic.png\n",
      "Percorso immagine con ostacolo: C:\\Users\\vcata\\Downloads\\dataset_ObstacleTrack\\images\\validation_1_color.webp\n",
      "Valori iniziali nella maschera: [  0   1 255]\n",
      "Valori dopo trasformazione: [  0   1 255]\n",
      "(1080, 1920)\n",
      "Append\n",
      "Elaborazione immagine: C:\\Users\\vcata\\Downloads\\dataset_ObstacleTrack\\images\\validation_10.webp\n",
      "Parent:  C:\\Users\\vcata\\Downloads\\dataset_ObstacleTrack\n",
      "Percorso iniziale della maschera: C:\\Users\\vcata\\Downloads\\dataset_ObstacleTrack\\labels_masks\\validation_10_labels_semantic.png\n",
      "Percorso immagine con ostacolo: C:\\Users\\vcata\\Downloads\\dataset_ObstacleTrack\\images\\validation_10_color.webp\n",
      "Valori iniziali nella maschera: [  0   1 255]\n",
      "Valori dopo trasformazione: [  0   1 255]\n",
      "(1080, 1920)\n",
      "Append\n",
      "Elaborazione immagine: C:\\Users\\vcata\\Downloads\\dataset_ObstacleTrack\\images\\validation_11.webp\n",
      "Parent:  C:\\Users\\vcata\\Downloads\\dataset_ObstacleTrack\n",
      "Percorso iniziale della maschera: C:\\Users\\vcata\\Downloads\\dataset_ObstacleTrack\\labels_masks\\validation_11_labels_semantic.png\n",
      "Percorso immagine con ostacolo: C:\\Users\\vcata\\Downloads\\dataset_ObstacleTrack\\images\\validation_11_color.webp\n",
      "Valori iniziali nella maschera: [  0   1 255]\n",
      "Valori dopo trasformazione: [  0   1 255]\n",
      "(1080, 1920)\n",
      "Append\n",
      "Elaborazione immagine: C:\\Users\\vcata\\Downloads\\dataset_ObstacleTrack\\images\\validation_12.webp\n",
      "Parent:  C:\\Users\\vcata\\Downloads\\dataset_ObstacleTrack\n",
      "Percorso iniziale della maschera: C:\\Users\\vcata\\Downloads\\dataset_ObstacleTrack\\labels_masks\\validation_12_labels_semantic.png\n",
      "Percorso immagine con ostacolo: C:\\Users\\vcata\\Downloads\\dataset_ObstacleTrack\\images\\validation_12_color.webp\n",
      "Valori iniziali nella maschera: [  0   1 255]\n",
      "Valori dopo trasformazione: [  0   1 255]\n",
      "(1080, 1920)\n",
      "Append\n",
      "Elaborazione immagine: C:\\Users\\vcata\\Downloads\\dataset_ObstacleTrack\\images\\validation_13.webp\n",
      "Parent:  C:\\Users\\vcata\\Downloads\\dataset_ObstacleTrack\n",
      "Percorso iniziale della maschera: C:\\Users\\vcata\\Downloads\\dataset_ObstacleTrack\\labels_masks\\validation_13_labels_semantic.png\n",
      "Percorso immagine con ostacolo: C:\\Users\\vcata\\Downloads\\dataset_ObstacleTrack\\images\\validation_13_color.webp\n",
      "Valori iniziali nella maschera: [  0   1 255]\n",
      "Valori dopo trasformazione: [  0   1 255]\n",
      "(1080, 1920)\n",
      "Append\n",
      "Elaborazione immagine: C:\\Users\\vcata\\Downloads\\dataset_ObstacleTrack\\images\\validation_14.webp\n",
      "Parent:  C:\\Users\\vcata\\Downloads\\dataset_ObstacleTrack\n",
      "Percorso iniziale della maschera: C:\\Users\\vcata\\Downloads\\dataset_ObstacleTrack\\labels_masks\\validation_14_labels_semantic.png\n",
      "Percorso immagine con ostacolo: C:\\Users\\vcata\\Downloads\\dataset_ObstacleTrack\\images\\validation_14_color.webp\n",
      "Valori iniziali nella maschera: [  0   1 255]\n",
      "Valori dopo trasformazione: [  0   1 255]\n",
      "(1080, 1920)\n",
      "Append\n",
      "Elaborazione immagine: C:\\Users\\vcata\\Downloads\\dataset_ObstacleTrack\\images\\validation_15.webp\n",
      "Parent:  C:\\Users\\vcata\\Downloads\\dataset_ObstacleTrack\n",
      "Percorso iniziale della maschera: C:\\Users\\vcata\\Downloads\\dataset_ObstacleTrack\\labels_masks\\validation_15_labels_semantic.png\n",
      "Percorso immagine con ostacolo: C:\\Users\\vcata\\Downloads\\dataset_ObstacleTrack\\images\\validation_15_color.webp\n",
      "Valori iniziali nella maschera: [  0   1 255]\n",
      "Valori dopo trasformazione: [  0   1 255]\n",
      "(1080, 1920)\n",
      "Append\n",
      "Elaborazione immagine: C:\\Users\\vcata\\Downloads\\dataset_ObstacleTrack\\images\\validation_16.webp\n",
      "Parent:  C:\\Users\\vcata\\Downloads\\dataset_ObstacleTrack\n",
      "Percorso iniziale della maschera: C:\\Users\\vcata\\Downloads\\dataset_ObstacleTrack\\labels_masks\\validation_16_labels_semantic.png\n",
      "Percorso immagine con ostacolo: C:\\Users\\vcata\\Downloads\\dataset_ObstacleTrack\\images\\validation_16_color.webp\n",
      "Valori iniziali nella maschera: [  0   1 255]\n",
      "Valori dopo trasformazione: [  0   1 255]\n",
      "(1080, 1920)\n",
      "Append\n",
      "Elaborazione immagine: C:\\Users\\vcata\\Downloads\\dataset_ObstacleTrack\\images\\validation_17.webp\n",
      "Parent:  C:\\Users\\vcata\\Downloads\\dataset_ObstacleTrack\n",
      "Percorso iniziale della maschera: C:\\Users\\vcata\\Downloads\\dataset_ObstacleTrack\\labels_masks\\validation_17_labels_semantic.png\n",
      "Percorso immagine con ostacolo: C:\\Users\\vcata\\Downloads\\dataset_ObstacleTrack\\images\\validation_17_color.webp\n",
      "Valori iniziali nella maschera: [  0   1 255]\n",
      "Valori dopo trasformazione: [  0   1 255]\n",
      "(1080, 1920)\n",
      "Append\n",
      "Elaborazione immagine: C:\\Users\\vcata\\Downloads\\dataset_ObstacleTrack\\images\\validation_18.webp\n",
      "Parent:  C:\\Users\\vcata\\Downloads\\dataset_ObstacleTrack\n",
      "Percorso iniziale della maschera: C:\\Users\\vcata\\Downloads\\dataset_ObstacleTrack\\labels_masks\\validation_18_labels_semantic.png\n",
      "Percorso immagine con ostacolo: C:\\Users\\vcata\\Downloads\\dataset_ObstacleTrack\\images\\validation_18_color.webp\n",
      "Valori iniziali nella maschera: [  0   1 255]\n",
      "Valori dopo trasformazione: [  0   1 255]\n",
      "(1080, 1920)\n",
      "Append\n",
      "Elaborazione immagine: C:\\Users\\vcata\\Downloads\\dataset_ObstacleTrack\\images\\validation_2.webp\n",
      "Parent:  C:\\Users\\vcata\\Downloads\\dataset_ObstacleTrack\n",
      "Percorso iniziale della maschera: C:\\Users\\vcata\\Downloads\\dataset_ObstacleTrack\\labels_masks\\validation_2_labels_semantic.png\n",
      "Percorso immagine con ostacolo: C:\\Users\\vcata\\Downloads\\dataset_ObstacleTrack\\images\\validation_2_color.webp\n",
      "Valori iniziali nella maschera: [  0   1 255]\n",
      "Valori dopo trasformazione: [  0   1 255]\n",
      "(1080, 1920)\n",
      "Append\n",
      "Elaborazione immagine: C:\\Users\\vcata\\Downloads\\dataset_ObstacleTrack\\images\\validation_20.webp\n",
      "Parent:  C:\\Users\\vcata\\Downloads\\dataset_ObstacleTrack\n",
      "Percorso iniziale della maschera: C:\\Users\\vcata\\Downloads\\dataset_ObstacleTrack\\labels_masks\\validation_20_labels_semantic.png\n",
      "Percorso immagine con ostacolo: C:\\Users\\vcata\\Downloads\\dataset_ObstacleTrack\\images\\validation_20_color.webp\n",
      "Valori iniziali nella maschera: [  0   1 255]\n",
      "Valori dopo trasformazione: [  0   1 255]\n",
      "(1080, 1920)\n",
      "Append\n",
      "Elaborazione immagine: C:\\Users\\vcata\\Downloads\\dataset_ObstacleTrack\\images\\validation_3.webp\n",
      "Parent:  C:\\Users\\vcata\\Downloads\\dataset_ObstacleTrack\n",
      "Percorso iniziale della maschera: C:\\Users\\vcata\\Downloads\\dataset_ObstacleTrack\\labels_masks\\validation_3_labels_semantic.png\n",
      "Percorso immagine con ostacolo: C:\\Users\\vcata\\Downloads\\dataset_ObstacleTrack\\images\\validation_3_color.webp\n",
      "Valori iniziali nella maschera: [  0   1 255]\n",
      "Valori dopo trasformazione: [  0   1 255]\n",
      "(1080, 1920)\n",
      "Append\n",
      "Elaborazione immagine: C:\\Users\\vcata\\Downloads\\dataset_ObstacleTrack\\images\\validation_30.webp\n",
      "Parent:  C:\\Users\\vcata\\Downloads\\dataset_ObstacleTrack\n",
      "Percorso iniziale della maschera: C:\\Users\\vcata\\Downloads\\dataset_ObstacleTrack\\labels_masks\\validation_30_labels_semantic.png\n",
      "Percorso immagine con ostacolo: C:\\Users\\vcata\\Downloads\\dataset_ObstacleTrack\\images\\validation_30_color.webp\n",
      "Valori iniziali nella maschera: [  0   1 255]\n",
      "Valori dopo trasformazione: [  0   1 255]\n",
      "(1080, 1920)\n",
      "Append\n",
      "Elaborazione immagine: C:\\Users\\vcata\\Downloads\\dataset_ObstacleTrack\\images\\validation_31.webp\n",
      "Parent:  C:\\Users\\vcata\\Downloads\\dataset_ObstacleTrack\n",
      "Percorso iniziale della maschera: C:\\Users\\vcata\\Downloads\\dataset_ObstacleTrack\\labels_masks\\validation_31_labels_semantic.png\n",
      "Percorso immagine con ostacolo: C:\\Users\\vcata\\Downloads\\dataset_ObstacleTrack\\images\\validation_31_color.webp\n",
      "Valori iniziali nella maschera: [  0   1 255]\n",
      "Valori dopo trasformazione: [  0   1 255]\n",
      "(1080, 1920)\n",
      "Append\n",
      "Elaborazione immagine: C:\\Users\\vcata\\Downloads\\dataset_ObstacleTrack\\images\\validation_32.webp\n",
      "Parent:  C:\\Users\\vcata\\Downloads\\dataset_ObstacleTrack\n",
      "Percorso iniziale della maschera: C:\\Users\\vcata\\Downloads\\dataset_ObstacleTrack\\labels_masks\\validation_32_labels_semantic.png\n",
      "Percorso immagine con ostacolo: C:\\Users\\vcata\\Downloads\\dataset_ObstacleTrack\\images\\validation_32_color.webp\n",
      "Valori iniziali nella maschera: [  0   1 255]\n",
      "Valori dopo trasformazione: [  0   1 255]\n",
      "(1080, 1920)\n",
      "Append\n",
      "Elaborazione immagine: C:\\Users\\vcata\\Downloads\\dataset_ObstacleTrack\\images\\validation_33.webp\n",
      "Parent:  C:\\Users\\vcata\\Downloads\\dataset_ObstacleTrack\n",
      "Percorso iniziale della maschera: C:\\Users\\vcata\\Downloads\\dataset_ObstacleTrack\\labels_masks\\validation_33_labels_semantic.png\n",
      "Percorso immagine con ostacolo: C:\\Users\\vcata\\Downloads\\dataset_ObstacleTrack\\images\\validation_33_color.webp\n",
      "Valori iniziali nella maschera: [  0   1 255]\n",
      "Valori dopo trasformazione: [  0   1 255]\n",
      "(1080, 1920)\n",
      "Append\n",
      "Elaborazione immagine: C:\\Users\\vcata\\Downloads\\dataset_ObstacleTrack\\images\\validation_34.webp\n",
      "Parent:  C:\\Users\\vcata\\Downloads\\dataset_ObstacleTrack\n",
      "Percorso iniziale della maschera: C:\\Users\\vcata\\Downloads\\dataset_ObstacleTrack\\labels_masks\\validation_34_labels_semantic.png\n",
      "Percorso immagine con ostacolo: C:\\Users\\vcata\\Downloads\\dataset_ObstacleTrack\\images\\validation_34_color.webp\n",
      "Valori iniziali nella maschera: [  0   1 255]\n",
      "Valori dopo trasformazione: [  0   1 255]\n",
      "(1080, 1920)\n",
      "Append\n",
      "Elaborazione immagine: C:\\Users\\vcata\\Downloads\\dataset_ObstacleTrack\\images\\validation_35.webp\n",
      "Parent:  C:\\Users\\vcata\\Downloads\\dataset_ObstacleTrack\n",
      "Percorso iniziale della maschera: C:\\Users\\vcata\\Downloads\\dataset_ObstacleTrack\\labels_masks\\validation_35_labels_semantic.png\n",
      "Percorso immagine con ostacolo: C:\\Users\\vcata\\Downloads\\dataset_ObstacleTrack\\images\\validation_35_color.webp\n",
      "Valori iniziali nella maschera: [  0   1 255]\n",
      "Valori dopo trasformazione: [  0   1 255]\n",
      "(1080, 1920)\n",
      "Append\n",
      "Elaborazione immagine: C:\\Users\\vcata\\Downloads\\dataset_ObstacleTrack\\images\\validation_36.webp\n",
      "Parent:  C:\\Users\\vcata\\Downloads\\dataset_ObstacleTrack\n",
      "Percorso iniziale della maschera: C:\\Users\\vcata\\Downloads\\dataset_ObstacleTrack\\labels_masks\\validation_36_labels_semantic.png\n",
      "Percorso immagine con ostacolo: C:\\Users\\vcata\\Downloads\\dataset_ObstacleTrack\\images\\validation_36_color.webp\n",
      "Valori iniziali nella maschera: [  0   1 255]\n",
      "Valori dopo trasformazione: [  0   1 255]\n",
      "(1080, 1920)\n",
      "Append\n",
      "Elaborazione immagine: C:\\Users\\vcata\\Downloads\\dataset_ObstacleTrack\\images\\validation_37.webp\n",
      "Parent:  C:\\Users\\vcata\\Downloads\\dataset_ObstacleTrack\n",
      "Percorso iniziale della maschera: C:\\Users\\vcata\\Downloads\\dataset_ObstacleTrack\\labels_masks\\validation_37_labels_semantic.png\n",
      "Percorso immagine con ostacolo: C:\\Users\\vcata\\Downloads\\dataset_ObstacleTrack\\images\\validation_37_color.webp\n",
      "Valori iniziali nella maschera: [  0   1 255]\n",
      "Valori dopo trasformazione: [  0   1 255]\n",
      "(1080, 1920)\n",
      "Append\n",
      "Elaborazione immagine: C:\\Users\\vcata\\Downloads\\dataset_ObstacleTrack\\images\\validation_38.webp\n",
      "Parent:  C:\\Users\\vcata\\Downloads\\dataset_ObstacleTrack\n",
      "Percorso iniziale della maschera: C:\\Users\\vcata\\Downloads\\dataset_ObstacleTrack\\labels_masks\\validation_38_labels_semantic.png\n",
      "Percorso immagine con ostacolo: C:\\Users\\vcata\\Downloads\\dataset_ObstacleTrack\\images\\validation_38_color.webp\n",
      "Valori iniziali nella maschera: [  0   1 255]\n",
      "Valori dopo trasformazione: [  0   1 255]\n",
      "(1080, 1920)\n",
      "Append\n",
      "Elaborazione immagine: C:\\Users\\vcata\\Downloads\\dataset_ObstacleTrack\\images\\validation_39.webp\n",
      "Parent:  C:\\Users\\vcata\\Downloads\\dataset_ObstacleTrack\n",
      "Percorso iniziale della maschera: C:\\Users\\vcata\\Downloads\\dataset_ObstacleTrack\\labels_masks\\validation_39_labels_semantic.png\n",
      "Percorso immagine con ostacolo: C:\\Users\\vcata\\Downloads\\dataset_ObstacleTrack\\images\\validation_39_color.webp\n",
      "Valori iniziali nella maschera: [  0   1 255]\n",
      "Valori dopo trasformazione: [  0   1 255]\n",
      "(1080, 1920)\n",
      "Append\n",
      "Elaborazione immagine: C:\\Users\\vcata\\Downloads\\dataset_ObstacleTrack\\images\\validation_4.webp\n",
      "Parent:  C:\\Users\\vcata\\Downloads\\dataset_ObstacleTrack\n",
      "Percorso iniziale della maschera: C:\\Users\\vcata\\Downloads\\dataset_ObstacleTrack\\labels_masks\\validation_4_labels_semantic.png\n",
      "Percorso immagine con ostacolo: C:\\Users\\vcata\\Downloads\\dataset_ObstacleTrack\\images\\validation_4_color.webp\n",
      "Valori iniziali nella maschera: [  0   1 255]\n",
      "Valori dopo trasformazione: [  0   1 255]\n",
      "(1080, 1920)\n",
      "Append\n",
      "Elaborazione immagine: C:\\Users\\vcata\\Downloads\\dataset_ObstacleTrack\\images\\validation_40.webp\n",
      "Parent:  C:\\Users\\vcata\\Downloads\\dataset_ObstacleTrack\n",
      "Percorso iniziale della maschera: C:\\Users\\vcata\\Downloads\\dataset_ObstacleTrack\\labels_masks\\validation_40_labels_semantic.png\n",
      "Percorso immagine con ostacolo: C:\\Users\\vcata\\Downloads\\dataset_ObstacleTrack\\images\\validation_40_color.webp\n",
      "Valori iniziali nella maschera: [  0   1 255]\n",
      "Valori dopo trasformazione: [  0   1 255]\n",
      "(1080, 1920)\n",
      "Append\n",
      "Elaborazione immagine: C:\\Users\\vcata\\Downloads\\dataset_ObstacleTrack\\images\\validation_5.webp\n",
      "Parent:  C:\\Users\\vcata\\Downloads\\dataset_ObstacleTrack\n",
      "Percorso iniziale della maschera: C:\\Users\\vcata\\Downloads\\dataset_ObstacleTrack\\labels_masks\\validation_5_labels_semantic.png\n",
      "Percorso immagine con ostacolo: C:\\Users\\vcata\\Downloads\\dataset_ObstacleTrack\\images\\validation_5_color.webp\n",
      "Valori iniziali nella maschera: [  0   1 255]\n",
      "Valori dopo trasformazione: [  0   1 255]\n",
      "(1080, 1920)\n",
      "Append\n",
      "Elaborazione immagine: C:\\Users\\vcata\\Downloads\\dataset_ObstacleTrack\\images\\validation_6.webp\n",
      "Parent:  C:\\Users\\vcata\\Downloads\\dataset_ObstacleTrack\n",
      "Percorso iniziale della maschera: C:\\Users\\vcata\\Downloads\\dataset_ObstacleTrack\\labels_masks\\validation_6_labels_semantic.png\n",
      "Percorso immagine con ostacolo: C:\\Users\\vcata\\Downloads\\dataset_ObstacleTrack\\images\\validation_6_color.webp\n",
      "Valori iniziali nella maschera: [  0   1 255]\n",
      "Valori dopo trasformazione: [  0   1 255]\n",
      "(1080, 1920)\n",
      "Append\n",
      "Elaborazione immagine: C:\\Users\\vcata\\Downloads\\dataset_ObstacleTrack\\images\\validation_7.webp\n",
      "Parent:  C:\\Users\\vcata\\Downloads\\dataset_ObstacleTrack\n",
      "Percorso iniziale della maschera: C:\\Users\\vcata\\Downloads\\dataset_ObstacleTrack\\labels_masks\\validation_7_labels_semantic.png\n",
      "Percorso immagine con ostacolo: C:\\Users\\vcata\\Downloads\\dataset_ObstacleTrack\\images\\validation_7_color.webp\n",
      "Valori iniziali nella maschera: [  0   1 255]\n",
      "Valori dopo trasformazione: [  0   1 255]\n",
      "(1080, 1920)\n",
      "Append\n",
      "Elaborazione immagine: C:\\Users\\vcata\\Downloads\\dataset_ObstacleTrack\\images\\validation_8.webp\n",
      "Parent:  C:\\Users\\vcata\\Downloads\\dataset_ObstacleTrack\n",
      "Percorso iniziale della maschera: C:\\Users\\vcata\\Downloads\\dataset_ObstacleTrack\\labels_masks\\validation_8_labels_semantic.png\n",
      "Percorso immagine con ostacolo: C:\\Users\\vcata\\Downloads\\dataset_ObstacleTrack\\images\\validation_8_color.webp\n",
      "Valori iniziali nella maschera: [  0   1 255]\n",
      "Valori dopo trasformazione: [  0   1 255]\n",
      "(1080, 1920)\n",
      "Append\n",
      "Elaborazione immagine: C:\\Users\\vcata\\Downloads\\dataset_ObstacleTrack\\images\\validation_9.webp\n",
      "Parent:  C:\\Users\\vcata\\Downloads\\dataset_ObstacleTrack\n",
      "Percorso iniziale della maschera: C:\\Users\\vcata\\Downloads\\dataset_ObstacleTrack\\labels_masks\\validation_9_labels_semantic.png\n",
      "Percorso immagine con ostacolo: C:\\Users\\vcata\\Downloads\\dataset_ObstacleTrack\\images\\validation_9_color.webp\n",
      "Valori iniziali nella maschera: [  0   1 255]\n",
      "Valori dopo trasformazione: [  0   1 255]\n",
      "(1080, 1920)\n",
      "Append\n",
      "AUPRC score: 3.776280072470649\n",
      "FPR@TPR95: 99.83649260945549\n"
     ]
    },
    {
     "name": "stderr",
     "output_type": "stream",
     "text": [
      "C:\\Users\\vcata\\Desktop\\Polito\\AML\\AnomalySegmentation\\eval\\evalAnomaly.py:77: FutureWarning: You are using `torch.load` with `weights_only=False` (the current default value), which uses the default pickle module implicitly. It is possible to construct malicious pickle data which will execute arbitrary code during unpickling (See https://github.com/pytorch/pytorch/blob/main/SECURITY.md#untrusted-models for more details). In a future release, the default value for `weights_only` will be flipped to `True`. This limits the functions that could be executed during unpickling. Arbitrary objects will no longer be allowed to be loaded via this mode unless they are explicitly allowlisted by the user via `torch.serialization.add_safe_globals`. We recommend you start setting `weights_only=True` for any use case where you don't have full control of the loaded file. Please open an issue on GitHub for any issues related to this experimental feature.\n",
      "  model = load_my_state_dict(model, torch.load(weightspath, map_location=lambda storage, loc: storage))\n"
     ]
    }
   ],
   "execution_count": 19
  },
  {
   "metadata": {},
   "cell_type": "code",
   "source": [
    "import os\n",
    "directory = \"C:/Users/vcata/Downloads/dataset_ObstacleTrack/images/\"\n",
    "print(f\"Contenuto della directory: {os.listdir(directory)}\")"
   ],
   "outputs": [],
   "execution_count": null
  },
  {
   "metadata": {
    "ExecuteTime": {
     "end_time": "2024-12-23T11:58:35.023806Z",
     "start_time": "2024-12-23T11:58:35.009572Z"
    }
   },
   "cell_type": "code",
   "source": [
    "from pathlib import Path\n",
    "base_path = Path(\"C:/Users/vcata/Downloads/dataset_ObstacleTrack/images\")\n",
    "files = list(base_path.glob(\"*.webp\"))\n",
    "print(f\"File trovati con pathlib: {[str(file) for file in files]}\")"
   ],
   "outputs": [
    {
     "name": "stdout",
     "output_type": "stream",
     "text": [
      "File trovati con pathlib: ['C:\\\\Users\\\\vcata\\\\Downloads\\\\dataset_ObstacleTrack\\\\images\\\\curvy-street_carton_1.webp', 'C:\\\\Users\\\\vcata\\\\Downloads\\\\dataset_ObstacleTrack\\\\images\\\\curvy-street_carton_2.webp', 'C:\\\\Users\\\\vcata\\\\Downloads\\\\dataset_ObstacleTrack\\\\images\\\\curvy-street_carton_3.webp', 'C:\\\\Users\\\\vcata\\\\Downloads\\\\dataset_ObstacleTrack\\\\images\\\\curvy-street_carton_4.webp', 'C:\\\\Users\\\\vcata\\\\Downloads\\\\dataset_ObstacleTrack\\\\images\\\\curvy-street_carton_5.webp', 'C:\\\\Users\\\\vcata\\\\Downloads\\\\dataset_ObstacleTrack\\\\images\\\\curvy-street_carton_6.webp', 'C:\\\\Users\\\\vcata\\\\Downloads\\\\dataset_ObstacleTrack\\\\images\\\\curvy-street_dog_1.webp', 'C:\\\\Users\\\\vcata\\\\Downloads\\\\dataset_ObstacleTrack\\\\images\\\\curvy-street_dog_10.webp', 'C:\\\\Users\\\\vcata\\\\Downloads\\\\dataset_ObstacleTrack\\\\images\\\\curvy-street_dog_2.webp', 'C:\\\\Users\\\\vcata\\\\Downloads\\\\dataset_ObstacleTrack\\\\images\\\\curvy-street_dog_3.webp', 'C:\\\\Users\\\\vcata\\\\Downloads\\\\dataset_ObstacleTrack\\\\images\\\\curvy-street_dog_4.webp', 'C:\\\\Users\\\\vcata\\\\Downloads\\\\dataset_ObstacleTrack\\\\images\\\\curvy-street_dog_5.webp', 'C:\\\\Users\\\\vcata\\\\Downloads\\\\dataset_ObstacleTrack\\\\images\\\\curvy-street_dog_6.webp', 'C:\\\\Users\\\\vcata\\\\Downloads\\\\dataset_ObstacleTrack\\\\images\\\\curvy-street_dog_7.webp', 'C:\\\\Users\\\\vcata\\\\Downloads\\\\dataset_ObstacleTrack\\\\images\\\\curvy-street_dog_8.webp', 'C:\\\\Users\\\\vcata\\\\Downloads\\\\dataset_ObstacleTrack\\\\images\\\\curvy-street_dog_9.webp', 'C:\\\\Users\\\\vcata\\\\Downloads\\\\dataset_ObstacleTrack\\\\images\\\\curvy-street_inliner_hubcap_1.webp', 'C:\\\\Users\\\\vcata\\\\Downloads\\\\dataset_ObstacleTrack\\\\images\\\\curvy-street_inliner_hubcap_2.webp', 'C:\\\\Users\\\\vcata\\\\Downloads\\\\dataset_ObstacleTrack\\\\images\\\\curvy-street_inliner_hubcap_3.webp', 'C:\\\\Users\\\\vcata\\\\Downloads\\\\dataset_ObstacleTrack\\\\images\\\\curvy-street_inliner_hubcap_4.webp', 'C:\\\\Users\\\\vcata\\\\Downloads\\\\dataset_ObstacleTrack\\\\images\\\\curvy-street_inliner_hubcap_5.webp', 'C:\\\\Users\\\\vcata\\\\Downloads\\\\dataset_ObstacleTrack\\\\images\\\\curvy-street_inliner_hubcap_6.webp', 'C:\\\\Users\\\\vcata\\\\Downloads\\\\dataset_ObstacleTrack\\\\images\\\\curvy-street_inliner_hubcap_7.webp', 'C:\\\\Users\\\\vcata\\\\Downloads\\\\dataset_ObstacleTrack\\\\images\\\\curvy-street_inliner_hubcap_8.webp', 'C:\\\\Users\\\\vcata\\\\Downloads\\\\dataset_ObstacleTrack\\\\images\\\\curvy-street_inliner_hubcap_9.webp', 'C:\\\\Users\\\\vcata\\\\Downloads\\\\dataset_ObstacleTrack\\\\images\\\\curvy-street_pig_frisbee_1.webp', 'C:\\\\Users\\\\vcata\\\\Downloads\\\\dataset_ObstacleTrack\\\\images\\\\curvy-street_pig_frisbee_2.webp', 'C:\\\\Users\\\\vcata\\\\Downloads\\\\dataset_ObstacleTrack\\\\images\\\\curvy-street_pig_frisbee_3.webp', 'C:\\\\Users\\\\vcata\\\\Downloads\\\\dataset_ObstacleTrack\\\\images\\\\curvy-street_pig_frisbee_4.webp', 'C:\\\\Users\\\\vcata\\\\Downloads\\\\dataset_ObstacleTrack\\\\images\\\\curvy-street_pig_frisbee_5.webp', 'C:\\\\Users\\\\vcata\\\\Downloads\\\\dataset_ObstacleTrack\\\\images\\\\curvy-street_pig_frisbee_6.webp', 'C:\\\\Users\\\\vcata\\\\Downloads\\\\dataset_ObstacleTrack\\\\images\\\\curvy-street_skateboard_bag_1.webp', 'C:\\\\Users\\\\vcata\\\\Downloads\\\\dataset_ObstacleTrack\\\\images\\\\curvy-street_skateboard_bag_2.webp', 'C:\\\\Users\\\\vcata\\\\Downloads\\\\dataset_ObstacleTrack\\\\images\\\\curvy-street_skateboard_bag_3.webp', 'C:\\\\Users\\\\vcata\\\\Downloads\\\\dataset_ObstacleTrack\\\\images\\\\curvy-street_skateboard_bag_4.webp', 'C:\\\\Users\\\\vcata\\\\Downloads\\\\dataset_ObstacleTrack\\\\images\\\\curvy-street_skateboard_bag_5.webp', 'C:\\\\Users\\\\vcata\\\\Downloads\\\\dataset_ObstacleTrack\\\\images\\\\curvy-street_umbrella_1.webp', 'C:\\\\Users\\\\vcata\\\\Downloads\\\\dataset_ObstacleTrack\\\\images\\\\curvy-street_umbrella_2.webp', 'C:\\\\Users\\\\vcata\\\\Downloads\\\\dataset_ObstacleTrack\\\\images\\\\curvy-street_umbrella_3.webp', 'C:\\\\Users\\\\vcata\\\\Downloads\\\\dataset_ObstacleTrack\\\\images\\\\curvy-street_umbrella_4.webp', 'C:\\\\Users\\\\vcata\\\\Downloads\\\\dataset_ObstacleTrack\\\\images\\\\darkasphalt2_dog_1.webp', 'C:\\\\Users\\\\vcata\\\\Downloads\\\\dataset_ObstacleTrack\\\\images\\\\darkasphalt2_dog_14.webp', 'C:\\\\Users\\\\vcata\\\\Downloads\\\\dataset_ObstacleTrack\\\\images\\\\darkasphalt2_dog_17.webp', 'C:\\\\Users\\\\vcata\\\\Downloads\\\\dataset_ObstacleTrack\\\\images\\\\darkasphalt2_dog_2.webp', 'C:\\\\Users\\\\vcata\\\\Downloads\\\\dataset_ObstacleTrack\\\\images\\\\darkasphalt2_dog_3.webp', 'C:\\\\Users\\\\vcata\\\\Downloads\\\\dataset_ObstacleTrack\\\\images\\\\darkasphalt2_dog_4.webp', 'C:\\\\Users\\\\vcata\\\\Downloads\\\\dataset_ObstacleTrack\\\\images\\\\darkasphalt2_dog_5.webp', 'C:\\\\Users\\\\vcata\\\\Downloads\\\\dataset_ObstacleTrack\\\\images\\\\darkasphalt_axestump_2.webp', 'C:\\\\Users\\\\vcata\\\\Downloads\\\\dataset_ObstacleTrack\\\\images\\\\darkasphalt_axestump_3.webp', 'C:\\\\Users\\\\vcata\\\\Downloads\\\\dataset_ObstacleTrack\\\\images\\\\darkasphalt_axestump_6.webp', 'C:\\\\Users\\\\vcata\\\\Downloads\\\\dataset_ObstacleTrack\\\\images\\\\darkasphalt_bagB_6.webp', 'C:\\\\Users\\\\vcata\\\\Downloads\\\\dataset_ObstacleTrack\\\\images\\\\darkasphalt_bagP_1.webp', 'C:\\\\Users\\\\vcata\\\\Downloads\\\\dataset_ObstacleTrack\\\\images\\\\darkasphalt_bagP_3.webp', 'C:\\\\Users\\\\vcata\\\\Downloads\\\\dataset_ObstacleTrack\\\\images\\\\darkasphalt_bagP_5.webp', 'C:\\\\Users\\\\vcata\\\\Downloads\\\\dataset_ObstacleTrack\\\\images\\\\darkasphalt_bag_3.webp', 'C:\\\\Users\\\\vcata\\\\Downloads\\\\dataset_ObstacleTrack\\\\images\\\\darkasphalt_basket_2.webp', 'C:\\\\Users\\\\vcata\\\\Downloads\\\\dataset_ObstacleTrack\\\\images\\\\darkasphalt_basket_3.webp', 'C:\\\\Users\\\\vcata\\\\Downloads\\\\dataset_ObstacleTrack\\\\images\\\\darkasphalt_basket_6.webp', 'C:\\\\Users\\\\vcata\\\\Downloads\\\\dataset_ObstacleTrack\\\\images\\\\darkasphalt_boot_2.webp', 'C:\\\\Users\\\\vcata\\\\Downloads\\\\dataset_ObstacleTrack\\\\images\\\\darkasphalt_boot_3.webp', 'C:\\\\Users\\\\vcata\\\\Downloads\\\\dataset_ObstacleTrack\\\\images\\\\darkasphalt_bottles2_5.webp', 'C:\\\\Users\\\\vcata\\\\Downloads\\\\dataset_ObstacleTrack\\\\images\\\\darkasphalt_bottles_1.webp', 'C:\\\\Users\\\\vcata\\\\Downloads\\\\dataset_ObstacleTrack\\\\images\\\\darkasphalt_bottles_2.webp', 'C:\\\\Users\\\\vcata\\\\Downloads\\\\dataset_ObstacleTrack\\\\images\\\\darkasphalt_boxG_1.webp', 'C:\\\\Users\\\\vcata\\\\Downloads\\\\dataset_ObstacleTrack\\\\images\\\\darkasphalt_boxG_3.webp', 'C:\\\\Users\\\\vcata\\\\Downloads\\\\dataset_ObstacleTrack\\\\images\\\\darkasphalt_boxG_5.webp', 'C:\\\\Users\\\\vcata\\\\Downloads\\\\dataset_ObstacleTrack\\\\images\\\\darkasphalt_bucket_1.webp', 'C:\\\\Users\\\\vcata\\\\Downloads\\\\dataset_ObstacleTrack\\\\images\\\\darkasphalt_bucket_3.webp', 'C:\\\\Users\\\\vcata\\\\Downloads\\\\dataset_ObstacleTrack\\\\images\\\\darkasphalt_bucket_4.webp', 'C:\\\\Users\\\\vcata\\\\Downloads\\\\dataset_ObstacleTrack\\\\images\\\\darkasphalt_bucket_6.webp', 'C:\\\\Users\\\\vcata\\\\Downloads\\\\dataset_ObstacleTrack\\\\images\\\\darkasphalt_canister_2.webp', 'C:\\\\Users\\\\vcata\\\\Downloads\\\\dataset_ObstacleTrack\\\\images\\\\darkasphalt_canister_3.webp', 'C:\\\\Users\\\\vcata\\\\Downloads\\\\dataset_ObstacleTrack\\\\images\\\\darkasphalt_canister_6.webp', 'C:\\\\Users\\\\vcata\\\\Downloads\\\\dataset_ObstacleTrack\\\\images\\\\darkasphalt_cans2_5.webp', 'C:\\\\Users\\\\vcata\\\\Downloads\\\\dataset_ObstacleTrack\\\\images\\\\darkasphalt_cans_1.webp', 'C:\\\\Users\\\\vcata\\\\Downloads\\\\dataset_ObstacleTrack\\\\images\\\\darkasphalt_cans_2.webp', 'C:\\\\Users\\\\vcata\\\\Downloads\\\\dataset_ObstacleTrack\\\\images\\\\darkasphalt_helmetO_1.webp', 'C:\\\\Users\\\\vcata\\\\Downloads\\\\dataset_ObstacleTrack\\\\images\\\\darkasphalt_helmetO_2.webp', 'C:\\\\Users\\\\vcata\\\\Downloads\\\\dataset_ObstacleTrack\\\\images\\\\darkasphalt_helmetO_6.webp', 'C:\\\\Users\\\\vcata\\\\Downloads\\\\dataset_ObstacleTrack\\\\images\\\\darkasphalt_stump_1.webp', 'C:\\\\Users\\\\vcata\\\\Downloads\\\\dataset_ObstacleTrack\\\\images\\\\darkasphalt_stump_2.webp', 'C:\\\\Users\\\\vcata\\\\Downloads\\\\dataset_ObstacleTrack\\\\images\\\\darkasphalt_stump_5.webp', 'C:\\\\Users\\\\vcata\\\\Downloads\\\\dataset_ObstacleTrack\\\\images\\\\darkasphalt_watercanS_2.webp', 'C:\\\\Users\\\\vcata\\\\Downloads\\\\dataset_ObstacleTrack\\\\images\\\\darkasphalt_watercanS_5.webp', 'C:\\\\Users\\\\vcata\\\\Downloads\\\\dataset_ObstacleTrack\\\\images\\\\darkasphalt_wood_2.webp', 'C:\\\\Users\\\\vcata\\\\Downloads\\\\dataset_ObstacleTrack\\\\images\\\\darkasphalt_wood_4.webp', 'C:\\\\Users\\\\vcata\\\\Downloads\\\\dataset_ObstacleTrack\\\\images\\\\darkasphalt_wood_6.webp', 'C:\\\\Users\\\\vcata\\\\Downloads\\\\dataset_ObstacleTrack\\\\images\\\\driveway_bagO_1.webp', 'C:\\\\Users\\\\vcata\\\\Downloads\\\\dataset_ObstacleTrack\\\\images\\\\driveway_bagO_2.webp', 'C:\\\\Users\\\\vcata\\\\Downloads\\\\dataset_ObstacleTrack\\\\images\\\\driveway_bagO_3.webp', 'C:\\\\Users\\\\vcata\\\\Downloads\\\\dataset_ObstacleTrack\\\\images\\\\driveway_bagO_4.webp', 'C:\\\\Users\\\\vcata\\\\Downloads\\\\dataset_ObstacleTrack\\\\images\\\\driveway_bagO_ball_1.webp', 'C:\\\\Users\\\\vcata\\\\Downloads\\\\dataset_ObstacleTrack\\\\images\\\\driveway_bagO_ball_2.webp', 'C:\\\\Users\\\\vcata\\\\Downloads\\\\dataset_ObstacleTrack\\\\images\\\\driveway_bagO_ball_3.webp', 'C:\\\\Users\\\\vcata\\\\Downloads\\\\dataset_ObstacleTrack\\\\images\\\\driveway_ball_1.webp', 'C:\\\\Users\\\\vcata\\\\Downloads\\\\dataset_ObstacleTrack\\\\images\\\\driveway_ball_2.webp', 'C:\\\\Users\\\\vcata\\\\Downloads\\\\dataset_ObstacleTrack\\\\images\\\\driveway_ball_3.webp', 'C:\\\\Users\\\\vcata\\\\Downloads\\\\dataset_ObstacleTrack\\\\images\\\\driveway_bin_1.webp', 'C:\\\\Users\\\\vcata\\\\Downloads\\\\dataset_ObstacleTrack\\\\images\\\\driveway_bin_2.webp', 'C:\\\\Users\\\\vcata\\\\Downloads\\\\dataset_ObstacleTrack\\\\images\\\\driveway_bin_3.webp', 'C:\\\\Users\\\\vcata\\\\Downloads\\\\dataset_ObstacleTrack\\\\images\\\\driveway_bin_4.webp', 'C:\\\\Users\\\\vcata\\\\Downloads\\\\dataset_ObstacleTrack\\\\images\\\\driveway_carton_bowl_1.webp', 'C:\\\\Users\\\\vcata\\\\Downloads\\\\dataset_ObstacleTrack\\\\images\\\\driveway_carton_bowl_2.webp', 'C:\\\\Users\\\\vcata\\\\Downloads\\\\dataset_ObstacleTrack\\\\images\\\\driveway_carton_bowl_3.webp', 'C:\\\\Users\\\\vcata\\\\Downloads\\\\dataset_ObstacleTrack\\\\images\\\\driveway_dog_bin_1.webp', 'C:\\\\Users\\\\vcata\\\\Downloads\\\\dataset_ObstacleTrack\\\\images\\\\driveway_dog_bin_2.webp', 'C:\\\\Users\\\\vcata\\\\Downloads\\\\dataset_ObstacleTrack\\\\images\\\\driveway_dog_bin_3.webp', 'C:\\\\Users\\\\vcata\\\\Downloads\\\\dataset_ObstacleTrack\\\\images\\\\driveway_dog_bin_4.webp', 'C:\\\\Users\\\\vcata\\\\Downloads\\\\dataset_ObstacleTrack\\\\images\\\\driveway_dog_sleigh_1.webp', 'C:\\\\Users\\\\vcata\\\\Downloads\\\\dataset_ObstacleTrack\\\\images\\\\driveway_dog_sleigh_2.webp', 'C:\\\\Users\\\\vcata\\\\Downloads\\\\dataset_ObstacleTrack\\\\images\\\\driveway_dog_sleigh_3.webp', 'C:\\\\Users\\\\vcata\\\\Downloads\\\\dataset_ObstacleTrack\\\\images\\\\driveway_flowerpots_3_1.webp', 'C:\\\\Users\\\\vcata\\\\Downloads\\\\dataset_ObstacleTrack\\\\images\\\\driveway_flowerpots_3_2.webp', 'C:\\\\Users\\\\vcata\\\\Downloads\\\\dataset_ObstacleTrack\\\\images\\\\driveway_pig_vase_1.webp', 'C:\\\\Users\\\\vcata\\\\Downloads\\\\dataset_ObstacleTrack\\\\images\\\\driveway_pig_vase_2.webp', 'C:\\\\Users\\\\vcata\\\\Downloads\\\\dataset_ObstacleTrack\\\\images\\\\driveway_shovel_2_1.webp', 'C:\\\\Users\\\\vcata\\\\Downloads\\\\dataset_ObstacleTrack\\\\images\\\\driveway_shovel_2_2.webp', 'C:\\\\Users\\\\vcata\\\\Downloads\\\\dataset_ObstacleTrack\\\\images\\\\gravel_axestump_2.webp', 'C:\\\\Users\\\\vcata\\\\Downloads\\\\dataset_ObstacleTrack\\\\images\\\\gravel_axestump_3.webp', 'C:\\\\Users\\\\vcata\\\\Downloads\\\\dataset_ObstacleTrack\\\\images\\\\gravel_bagP_4.webp', 'C:\\\\Users\\\\vcata\\\\Downloads\\\\dataset_ObstacleTrack\\\\images\\\\gravel_bag_3.webp', 'C:\\\\Users\\\\vcata\\\\Downloads\\\\dataset_ObstacleTrack\\\\images\\\\gravel_basket_2.webp', 'C:\\\\Users\\\\vcata\\\\Downloads\\\\dataset_ObstacleTrack\\\\images\\\\gravel_basket_3.webp', 'C:\\\\Users\\\\vcata\\\\Downloads\\\\dataset_ObstacleTrack\\\\images\\\\gravel_boot_1.webp', 'C:\\\\Users\\\\vcata\\\\Downloads\\\\dataset_ObstacleTrack\\\\images\\\\gravel_boot_2.webp', 'C:\\\\Users\\\\vcata\\\\Downloads\\\\dataset_ObstacleTrack\\\\images\\\\gravel_boot_5.webp', 'C:\\\\Users\\\\vcata\\\\Downloads\\\\dataset_ObstacleTrack\\\\images\\\\gravel_bottles_5.webp', 'C:\\\\Users\\\\vcata\\\\Downloads\\\\dataset_ObstacleTrack\\\\images\\\\gravel_bottle_2.webp', 'C:\\\\Users\\\\vcata\\\\Downloads\\\\dataset_ObstacleTrack\\\\images\\\\gravel_bottle_3.webp', 'C:\\\\Users\\\\vcata\\\\Downloads\\\\dataset_ObstacleTrack\\\\images\\\\gravel_bottle_4.webp', 'C:\\\\Users\\\\vcata\\\\Downloads\\\\dataset_ObstacleTrack\\\\images\\\\gravel_boxG_2.webp', 'C:\\\\Users\\\\vcata\\\\Downloads\\\\dataset_ObstacleTrack\\\\images\\\\gravel_boxG_4.webp', 'C:\\\\Users\\\\vcata\\\\Downloads\\\\dataset_ObstacleTrack\\\\images\\\\gravel_bucket_3.webp', 'C:\\\\Users\\\\vcata\\\\Downloads\\\\dataset_ObstacleTrack\\\\images\\\\gravel_canister_1.webp', 'C:\\\\Users\\\\vcata\\\\Downloads\\\\dataset_ObstacleTrack\\\\images\\\\gravel_canister_3.webp', 'C:\\\\Users\\\\vcata\\\\Downloads\\\\dataset_ObstacleTrack\\\\images\\\\gravel_canister_4.webp', 'C:\\\\Users\\\\vcata\\\\Downloads\\\\dataset_ObstacleTrack\\\\images\\\\gravel_canister_7.webp', 'C:\\\\Users\\\\vcata\\\\Downloads\\\\dataset_ObstacleTrack\\\\images\\\\gravel_cans2_2.webp', 'C:\\\\Users\\\\vcata\\\\Downloads\\\\dataset_ObstacleTrack\\\\images\\\\gravel_cans2_5.webp', 'C:\\\\Users\\\\vcata\\\\Downloads\\\\dataset_ObstacleTrack\\\\images\\\\gravel_cans3_3.webp', 'C:\\\\Users\\\\vcata\\\\Downloads\\\\dataset_ObstacleTrack\\\\images\\\\gravel_helmetG_2.webp', 'C:\\\\Users\\\\vcata\\\\Downloads\\\\dataset_ObstacleTrack\\\\images\\\\gravel_log_2.webp', 'C:\\\\Users\\\\vcata\\\\Downloads\\\\dataset_ObstacleTrack\\\\images\\\\gravel_log_3.webp', 'C:\\\\Users\\\\vcata\\\\Downloads\\\\dataset_ObstacleTrack\\\\images\\\\gravel_log_8.webp', 'C:\\\\Users\\\\vcata\\\\Downloads\\\\dataset_ObstacleTrack\\\\images\\\\gravel_stump_1.webp', 'C:\\\\Users\\\\vcata\\\\Downloads\\\\dataset_ObstacleTrack\\\\images\\\\gravel_stump_2.webp', 'C:\\\\Users\\\\vcata\\\\Downloads\\\\dataset_ObstacleTrack\\\\images\\\\gravel_watercanB_2.webp', 'C:\\\\Users\\\\vcata\\\\Downloads\\\\dataset_ObstacleTrack\\\\images\\\\gravel_watercanB_4.webp', 'C:\\\\Users\\\\vcata\\\\Downloads\\\\dataset_ObstacleTrack\\\\images\\\\gravel_watercanB_7.webp', 'C:\\\\Users\\\\vcata\\\\Downloads\\\\dataset_ObstacleTrack\\\\images\\\\gravel_watercanS_2.webp', 'C:\\\\Users\\\\vcata\\\\Downloads\\\\dataset_ObstacleTrack\\\\images\\\\greyasphalt_axestump_2.webp', 'C:\\\\Users\\\\vcata\\\\Downloads\\\\dataset_ObstacleTrack\\\\images\\\\greyasphalt_axestump_3.webp', 'C:\\\\Users\\\\vcata\\\\Downloads\\\\dataset_ObstacleTrack\\\\images\\\\greyasphalt_axestump_4.webp', 'C:\\\\Users\\\\vcata\\\\Downloads\\\\dataset_ObstacleTrack\\\\images\\\\greyasphalt_axestump_7.webp', 'C:\\\\Users\\\\vcata\\\\Downloads\\\\dataset_ObstacleTrack\\\\images\\\\greyasphalt_bagB_5.webp', 'C:\\\\Users\\\\vcata\\\\Downloads\\\\dataset_ObstacleTrack\\\\images\\\\greyasphalt_bag_3.webp', 'C:\\\\Users\\\\vcata\\\\Downloads\\\\dataset_ObstacleTrack\\\\images\\\\greyasphalt_bag_4.webp', 'C:\\\\Users\\\\vcata\\\\Downloads\\\\dataset_ObstacleTrack\\\\images\\\\greyasphalt_basket_1.webp', 'C:\\\\Users\\\\vcata\\\\Downloads\\\\dataset_ObstacleTrack\\\\images\\\\greyasphalt_basket_3.webp', 'C:\\\\Users\\\\vcata\\\\Downloads\\\\dataset_ObstacleTrack\\\\images\\\\greyasphalt_basket_4.webp', 'C:\\\\Users\\\\vcata\\\\Downloads\\\\dataset_ObstacleTrack\\\\images\\\\greyasphalt_basket_7.webp', 'C:\\\\Users\\\\vcata\\\\Downloads\\\\dataset_ObstacleTrack\\\\images\\\\greyasphalt_boot_2.webp', 'C:\\\\Users\\\\vcata\\\\Downloads\\\\dataset_ObstacleTrack\\\\images\\\\greyasphalt_boot_3.webp', 'C:\\\\Users\\\\vcata\\\\Downloads\\\\dataset_ObstacleTrack\\\\images\\\\greyasphalt_boot_6.webp', 'C:\\\\Users\\\\vcata\\\\Downloads\\\\dataset_ObstacleTrack\\\\images\\\\greyasphalt_bottlesB_5.webp', 'C:\\\\Users\\\\vcata\\\\Downloads\\\\dataset_ObstacleTrack\\\\images\\\\greyasphalt_bottle_1.webp', 'C:\\\\Users\\\\vcata\\\\Downloads\\\\dataset_ObstacleTrack\\\\images\\\\greyasphalt_bottle_2.webp', 'C:\\\\Users\\\\vcata\\\\Downloads\\\\dataset_ObstacleTrack\\\\images\\\\greyasphalt_boxG_2.webp', 'C:\\\\Users\\\\vcata\\\\Downloads\\\\dataset_ObstacleTrack\\\\images\\\\greyasphalt_boxG_4.webp', 'C:\\\\Users\\\\vcata\\\\Downloads\\\\dataset_ObstacleTrack\\\\images\\\\greyasphalt_boxG_7.webp', 'C:\\\\Users\\\\vcata\\\\Downloads\\\\dataset_ObstacleTrack\\\\images\\\\greyasphalt_canister_2.webp', 'C:\\\\Users\\\\vcata\\\\Downloads\\\\dataset_ObstacleTrack\\\\images\\\\greyasphalt_canister_3.webp', 'C:\\\\Users\\\\vcata\\\\Downloads\\\\dataset_ObstacleTrack\\\\images\\\\greyasphalt_canister_6.webp', 'C:\\\\Users\\\\vcata\\\\Downloads\\\\dataset_ObstacleTrack\\\\images\\\\greyasphalt_cansA_1.webp', 'C:\\\\Users\\\\vcata\\\\Downloads\\\\dataset_ObstacleTrack\\\\images\\\\greyasphalt_cansB_2.webp', 'C:\\\\Users\\\\vcata\\\\Downloads\\\\dataset_ObstacleTrack\\\\images\\\\greyasphalt_dog_1.webp', 'C:\\\\Users\\\\vcata\\\\Downloads\\\\dataset_ObstacleTrack\\\\images\\\\greyasphalt_dog_2.webp', 'C:\\\\Users\\\\vcata\\\\Downloads\\\\dataset_ObstacleTrack\\\\images\\\\greyasphalt_dog_3.webp', 'C:\\\\Users\\\\vcata\\\\Downloads\\\\dataset_ObstacleTrack\\\\images\\\\greyasphalt_dog_4.webp', 'C:\\\\Users\\\\vcata\\\\Downloads\\\\dataset_ObstacleTrack\\\\images\\\\greyasphalt_dog_5.webp', 'C:\\\\Users\\\\vcata\\\\Downloads\\\\dataset_ObstacleTrack\\\\images\\\\greyasphalt_dog_6.webp', 'C:\\\\Users\\\\vcata\\\\Downloads\\\\dataset_ObstacleTrack\\\\images\\\\greyasphalt_gnome_1.webp', 'C:\\\\Users\\\\vcata\\\\Downloads\\\\dataset_ObstacleTrack\\\\images\\\\greyasphalt_gnome_2.webp', 'C:\\\\Users\\\\vcata\\\\Downloads\\\\dataset_ObstacleTrack\\\\images\\\\greyasphalt_gnome_3.webp', 'C:\\\\Users\\\\vcata\\\\Downloads\\\\dataset_ObstacleTrack\\\\images\\\\greyasphalt_gnome_4.webp', 'C:\\\\Users\\\\vcata\\\\Downloads\\\\dataset_ObstacleTrack\\\\images\\\\greyasphalt_gnome_5.webp', 'C:\\\\Users\\\\vcata\\\\Downloads\\\\dataset_ObstacleTrack\\\\images\\\\greyasphalt_gnome_6.webp', 'C:\\\\Users\\\\vcata\\\\Downloads\\\\dataset_ObstacleTrack\\\\images\\\\greyasphalt_helmetB_1.webp', 'C:\\\\Users\\\\vcata\\\\Downloads\\\\dataset_ObstacleTrack\\\\images\\\\greyasphalt_helmetB_2.webp', 'C:\\\\Users\\\\vcata\\\\Downloads\\\\dataset_ObstacleTrack\\\\images\\\\greyasphalt_helmetB_6.webp', 'C:\\\\Users\\\\vcata\\\\Downloads\\\\dataset_ObstacleTrack\\\\images\\\\greyasphalt_pig_1.webp', 'C:\\\\Users\\\\vcata\\\\Downloads\\\\dataset_ObstacleTrack\\\\images\\\\greyasphalt_pig_2.webp', 'C:\\\\Users\\\\vcata\\\\Downloads\\\\dataset_ObstacleTrack\\\\images\\\\greyasphalt_pig_3.webp', 'C:\\\\Users\\\\vcata\\\\Downloads\\\\dataset_ObstacleTrack\\\\images\\\\greyasphalt_pig_4.webp', 'C:\\\\Users\\\\vcata\\\\Downloads\\\\dataset_ObstacleTrack\\\\images\\\\greyasphalt_pig_5.webp', 'C:\\\\Users\\\\vcata\\\\Downloads\\\\dataset_ObstacleTrack\\\\images\\\\greyasphalt_pig_6.webp', 'C:\\\\Users\\\\vcata\\\\Downloads\\\\dataset_ObstacleTrack\\\\images\\\\greyasphalt_scooter_1.webp', 'C:\\\\Users\\\\vcata\\\\Downloads\\\\dataset_ObstacleTrack\\\\images\\\\greyasphalt_scooter_2.webp', 'C:\\\\Users\\\\vcata\\\\Downloads\\\\dataset_ObstacleTrack\\\\images\\\\greyasphalt_scooter_3.webp', 'C:\\\\Users\\\\vcata\\\\Downloads\\\\dataset_ObstacleTrack\\\\images\\\\greyasphalt_scooter_4.webp', 'C:\\\\Users\\\\vcata\\\\Downloads\\\\dataset_ObstacleTrack\\\\images\\\\greyasphalt_scooter_5.webp', 'C:\\\\Users\\\\vcata\\\\Downloads\\\\dataset_ObstacleTrack\\\\images\\\\greyasphalt_scooter_6.webp', 'C:\\\\Users\\\\vcata\\\\Downloads\\\\dataset_ObstacleTrack\\\\images\\\\greyasphalt_skateboard_1.webp', 'C:\\\\Users\\\\vcata\\\\Downloads\\\\dataset_ObstacleTrack\\\\images\\\\greyasphalt_skateboard_2.webp', 'C:\\\\Users\\\\vcata\\\\Downloads\\\\dataset_ObstacleTrack\\\\images\\\\greyasphalt_skateboard_3.webp', 'C:\\\\Users\\\\vcata\\\\Downloads\\\\dataset_ObstacleTrack\\\\images\\\\greyasphalt_skateboard_4.webp', 'C:\\\\Users\\\\vcata\\\\Downloads\\\\dataset_ObstacleTrack\\\\images\\\\greyasphalt_skateboard_5.webp', 'C:\\\\Users\\\\vcata\\\\Downloads\\\\dataset_ObstacleTrack\\\\images\\\\greyasphalt_skateboard_6.webp', 'C:\\\\Users\\\\vcata\\\\Downloads\\\\dataset_ObstacleTrack\\\\images\\\\greyasphalt_stump_2.webp', 'C:\\\\Users\\\\vcata\\\\Downloads\\\\dataset_ObstacleTrack\\\\images\\\\greyasphalt_stump_3.webp', 'C:\\\\Users\\\\vcata\\\\Downloads\\\\dataset_ObstacleTrack\\\\images\\\\greyasphalt_stump_6.webp', 'C:\\\\Users\\\\vcata\\\\Downloads\\\\dataset_ObstacleTrack\\\\images\\\\greyasphalt_watercanB_1.webp', 'C:\\\\Users\\\\vcata\\\\Downloads\\\\dataset_ObstacleTrack\\\\images\\\\greyasphalt_watercanB_4.webp', 'C:\\\\Users\\\\vcata\\\\Downloads\\\\dataset_ObstacleTrack\\\\images\\\\greyasphalt_watercanB_7.webp', 'C:\\\\Users\\\\vcata\\\\Downloads\\\\dataset_ObstacleTrack\\\\images\\\\greyasphalt_watercanS_2.webp', 'C:\\\\Users\\\\vcata\\\\Downloads\\\\dataset_ObstacleTrack\\\\images\\\\greyasphalt_watercanS_7.webp', 'C:\\\\Users\\\\vcata\\\\Downloads\\\\dataset_ObstacleTrack\\\\images\\\\motorway_axestump_2.webp', 'C:\\\\Users\\\\vcata\\\\Downloads\\\\dataset_ObstacleTrack\\\\images\\\\motorway_basket_1.webp', 'C:\\\\Users\\\\vcata\\\\Downloads\\\\dataset_ObstacleTrack\\\\images\\\\motorway_basket_4.webp', 'C:\\\\Users\\\\vcata\\\\Downloads\\\\dataset_ObstacleTrack\\\\images\\\\motorway_boot_1.webp', 'C:\\\\Users\\\\vcata\\\\Downloads\\\\dataset_ObstacleTrack\\\\images\\\\motorway_boot_3.webp', 'C:\\\\Users\\\\vcata\\\\Downloads\\\\dataset_ObstacleTrack\\\\images\\\\motorway_boot_6_and_bird.webp', 'C:\\\\Users\\\\vcata\\\\Downloads\\\\dataset_ObstacleTrack\\\\images\\\\motorway_bottleC_1.webp', 'C:\\\\Users\\\\vcata\\\\Downloads\\\\dataset_ObstacleTrack\\\\images\\\\motorway_bottleC_3.webp', 'C:\\\\Users\\\\vcata\\\\Downloads\\\\dataset_ObstacleTrack\\\\images\\\\motorway_bottleC_5.webp', 'C:\\\\Users\\\\vcata\\\\Downloads\\\\dataset_ObstacleTrack\\\\images\\\\motorway_bottles_1.webp', 'C:\\\\Users\\\\vcata\\\\Downloads\\\\dataset_ObstacleTrack\\\\images\\\\motorway_bottles_k.webp', 'C:\\\\Users\\\\vcata\\\\Downloads\\\\dataset_ObstacleTrack\\\\images\\\\motorway_bucket_3.webp', 'C:\\\\Users\\\\vcata\\\\Downloads\\\\dataset_ObstacleTrack\\\\images\\\\motorway_canister_3.webp', 'C:\\\\Users\\\\vcata\\\\Downloads\\\\dataset_ObstacleTrack\\\\images\\\\motorway_cans3_1.webp', 'C:\\\\Users\\\\vcata\\\\Downloads\\\\dataset_ObstacleTrack\\\\images\\\\motorway_cans3_3.webp', 'C:\\\\Users\\\\vcata\\\\Downloads\\\\dataset_ObstacleTrack\\\\images\\\\motorway_cans3_7.webp', 'C:\\\\Users\\\\vcata\\\\Downloads\\\\dataset_ObstacleTrack\\\\images\\\\motorway_cans_1.webp', 'C:\\\\Users\\\\vcata\\\\Downloads\\\\dataset_ObstacleTrack\\\\images\\\\motorway_helmetB_1.webp', 'C:\\\\Users\\\\vcata\\\\Downloads\\\\dataset_ObstacleTrack\\\\images\\\\motorway_helmetB_3.webp', 'C:\\\\Users\\\\vcata\\\\Downloads\\\\dataset_ObstacleTrack\\\\images\\\\motorway_helmetO_1.webp', 'C:\\\\Users\\\\vcata\\\\Downloads\\\\dataset_ObstacleTrack\\\\images\\\\motorway_stone_1.webp', 'C:\\\\Users\\\\vcata\\\\Downloads\\\\dataset_ObstacleTrack\\\\images\\\\motorway_stone_2.webp', 'C:\\\\Users\\\\vcata\\\\Downloads\\\\dataset_ObstacleTrack\\\\images\\\\motorway_stump_2.webp', 'C:\\\\Users\\\\vcata\\\\Downloads\\\\dataset_ObstacleTrack\\\\images\\\\motorway_stump_3.webp', 'C:\\\\Users\\\\vcata\\\\Downloads\\\\dataset_ObstacleTrack\\\\images\\\\motorway_triangle_2.webp', 'C:\\\\Users\\\\vcata\\\\Downloads\\\\dataset_ObstacleTrack\\\\images\\\\motorway_watercanB_1.webp', 'C:\\\\Users\\\\vcata\\\\Downloads\\\\dataset_ObstacleTrack\\\\images\\\\motorway_watercanS_1.webp', 'C:\\\\Users\\\\vcata\\\\Downloads\\\\dataset_ObstacleTrack\\\\images\\\\motorway_wood_2.webp', 'C:\\\\Users\\\\vcata\\\\Downloads\\\\dataset_ObstacleTrack\\\\images\\\\motorway_wood_4.webp', 'C:\\\\Users\\\\vcata\\\\Downloads\\\\dataset_ObstacleTrack\\\\images\\\\motorway_wood_7.webp', 'C:\\\\Users\\\\vcata\\\\Downloads\\\\dataset_ObstacleTrack\\\\images\\\\one-way-street_backpack2_1.webp', 'C:\\\\Users\\\\vcata\\\\Downloads\\\\dataset_ObstacleTrack\\\\images\\\\one-way-street_backpack2_2.webp', 'C:\\\\Users\\\\vcata\\\\Downloads\\\\dataset_ObstacleTrack\\\\images\\\\one-way-street_backpack2_3.webp', 'C:\\\\Users\\\\vcata\\\\Downloads\\\\dataset_ObstacleTrack\\\\images\\\\one-way-street_backpack2_4.webp', 'C:\\\\Users\\\\vcata\\\\Downloads\\\\dataset_ObstacleTrack\\\\images\\\\one-way-street_backpack2_5.webp', 'C:\\\\Users\\\\vcata\\\\Downloads\\\\dataset_ObstacleTrack\\\\images\\\\one-way-street_backpack_1.webp', 'C:\\\\Users\\\\vcata\\\\Downloads\\\\dataset_ObstacleTrack\\\\images\\\\one-way-street_backpack_2.webp', 'C:\\\\Users\\\\vcata\\\\Downloads\\\\dataset_ObstacleTrack\\\\images\\\\one-way-street_backpack_3.webp', 'C:\\\\Users\\\\vcata\\\\Downloads\\\\dataset_ObstacleTrack\\\\images\\\\one-way-street_backpack_4.webp', 'C:\\\\Users\\\\vcata\\\\Downloads\\\\dataset_ObstacleTrack\\\\images\\\\one-way-street_bagB_1.webp', 'C:\\\\Users\\\\vcata\\\\Downloads\\\\dataset_ObstacleTrack\\\\images\\\\one-way-street_bagB_2.webp', 'C:\\\\Users\\\\vcata\\\\Downloads\\\\dataset_ObstacleTrack\\\\images\\\\one-way-street_bagB_3.webp', 'C:\\\\Users\\\\vcata\\\\Downloads\\\\dataset_ObstacleTrack\\\\images\\\\one-way-street_bagB_4.webp', 'C:\\\\Users\\\\vcata\\\\Downloads\\\\dataset_ObstacleTrack\\\\images\\\\one-way-street_bagB_5.webp', 'C:\\\\Users\\\\vcata\\\\Downloads\\\\dataset_ObstacleTrack\\\\images\\\\one-way-street_bagB_6.webp', 'C:\\\\Users\\\\vcata\\\\Downloads\\\\dataset_ObstacleTrack\\\\images\\\\one-way-street_bagB_7.webp', 'C:\\\\Users\\\\vcata\\\\Downloads\\\\dataset_ObstacleTrack\\\\images\\\\one-way-street_bagB_8.webp', 'C:\\\\Users\\\\vcata\\\\Downloads\\\\dataset_ObstacleTrack\\\\images\\\\one-way-street_bagB_9.webp', 'C:\\\\Users\\\\vcata\\\\Downloads\\\\dataset_ObstacleTrack\\\\images\\\\one-way-street_cap_1.webp', 'C:\\\\Users\\\\vcata\\\\Downloads\\\\dataset_ObstacleTrack\\\\images\\\\one-way-street_cap_2.webp', 'C:\\\\Users\\\\vcata\\\\Downloads\\\\dataset_ObstacleTrack\\\\images\\\\one-way-street_cap_3.webp', 'C:\\\\Users\\\\vcata\\\\Downloads\\\\dataset_ObstacleTrack\\\\images\\\\one-way-street_cartons2_1.webp', 'C:\\\\Users\\\\vcata\\\\Downloads\\\\dataset_ObstacleTrack\\\\images\\\\one-way-street_cartons2_2.webp', 'C:\\\\Users\\\\vcata\\\\Downloads\\\\dataset_ObstacleTrack\\\\images\\\\one-way-street_cartons2_3.webp', 'C:\\\\Users\\\\vcata\\\\Downloads\\\\dataset_ObstacleTrack\\\\images\\\\one-way-street_cartons2_4.webp', 'C:\\\\Users\\\\vcata\\\\Downloads\\\\dataset_ObstacleTrack\\\\images\\\\one-way-street_cartons2_5.webp', 'C:\\\\Users\\\\vcata\\\\Downloads\\\\dataset_ObstacleTrack\\\\images\\\\one-way-street_cartons2_6.webp', 'C:\\\\Users\\\\vcata\\\\Downloads\\\\dataset_ObstacleTrack\\\\images\\\\one-way-street_cartons2_7.webp', 'C:\\\\Users\\\\vcata\\\\Downloads\\\\dataset_ObstacleTrack\\\\images\\\\one-way-street_dog_1.webp', 'C:\\\\Users\\\\vcata\\\\Downloads\\\\dataset_ObstacleTrack\\\\images\\\\one-way-street_dog_2.webp', 'C:\\\\Users\\\\vcata\\\\Downloads\\\\dataset_ObstacleTrack\\\\images\\\\one-way-street_dog_3.webp', 'C:\\\\Users\\\\vcata\\\\Downloads\\\\dataset_ObstacleTrack\\\\images\\\\one-way-street_dog_4.webp', 'C:\\\\Users\\\\vcata\\\\Downloads\\\\dataset_ObstacleTrack\\\\images\\\\one-way-street_dog_5.webp', 'C:\\\\Users\\\\vcata\\\\Downloads\\\\dataset_ObstacleTrack\\\\images\\\\one-way-street_dog_6.webp', 'C:\\\\Users\\\\vcata\\\\Downloads\\\\dataset_ObstacleTrack\\\\images\\\\one-way-street_frisbee_1.webp', 'C:\\\\Users\\\\vcata\\\\Downloads\\\\dataset_ObstacleTrack\\\\images\\\\one-way-street_frisbee_2.webp', 'C:\\\\Users\\\\vcata\\\\Downloads\\\\dataset_ObstacleTrack\\\\images\\\\one-way-street_frisbee_3.webp', 'C:\\\\Users\\\\vcata\\\\Downloads\\\\dataset_ObstacleTrack\\\\images\\\\one-way-street_frisbee_4.webp', 'C:\\\\Users\\\\vcata\\\\Downloads\\\\dataset_ObstacleTrack\\\\images\\\\one-way-street_frisbee_5.webp', 'C:\\\\Users\\\\vcata\\\\Downloads\\\\dataset_ObstacleTrack\\\\images\\\\one-way-street_frisbee_6.webp', 'C:\\\\Users\\\\vcata\\\\Downloads\\\\dataset_ObstacleTrack\\\\images\\\\one-way-street_frisbee_7.webp', 'C:\\\\Users\\\\vcata\\\\Downloads\\\\dataset_ObstacleTrack\\\\images\\\\one-way-street_frisbee_8.webp', 'C:\\\\Users\\\\vcata\\\\Downloads\\\\dataset_ObstacleTrack\\\\images\\\\one-way-street_frisbee_9.webp', 'C:\\\\Users\\\\vcata\\\\Downloads\\\\dataset_ObstacleTrack\\\\images\\\\one-way-street_inliner_1.webp', 'C:\\\\Users\\\\vcata\\\\Downloads\\\\dataset_ObstacleTrack\\\\images\\\\one-way-street_inliner_10.webp', 'C:\\\\Users\\\\vcata\\\\Downloads\\\\dataset_ObstacleTrack\\\\images\\\\one-way-street_inliner_2.webp', 'C:\\\\Users\\\\vcata\\\\Downloads\\\\dataset_ObstacleTrack\\\\images\\\\one-way-street_inliner_3.webp', 'C:\\\\Users\\\\vcata\\\\Downloads\\\\dataset_ObstacleTrack\\\\images\\\\one-way-street_inliner_4.webp', 'C:\\\\Users\\\\vcata\\\\Downloads\\\\dataset_ObstacleTrack\\\\images\\\\one-way-street_inliner_5.webp', 'C:\\\\Users\\\\vcata\\\\Downloads\\\\dataset_ObstacleTrack\\\\images\\\\one-way-street_inliner_6.webp', 'C:\\\\Users\\\\vcata\\\\Downloads\\\\dataset_ObstacleTrack\\\\images\\\\one-way-street_inliner_7.webp', 'C:\\\\Users\\\\vcata\\\\Downloads\\\\dataset_ObstacleTrack\\\\images\\\\one-way-street_inliner_8.webp', 'C:\\\\Users\\\\vcata\\\\Downloads\\\\dataset_ObstacleTrack\\\\images\\\\one-way-street_inliner_9.webp', 'C:\\\\Users\\\\vcata\\\\Downloads\\\\dataset_ObstacleTrack\\\\images\\\\one-way-street_pig_1.webp', 'C:\\\\Users\\\\vcata\\\\Downloads\\\\dataset_ObstacleTrack\\\\images\\\\one-way-street_pig_2.webp', 'C:\\\\Users\\\\vcata\\\\Downloads\\\\dataset_ObstacleTrack\\\\images\\\\one-way-street_pig_3.webp', 'C:\\\\Users\\\\vcata\\\\Downloads\\\\dataset_ObstacleTrack\\\\images\\\\one-way-street_pig_4.webp', 'C:\\\\Users\\\\vcata\\\\Downloads\\\\dataset_ObstacleTrack\\\\images\\\\one-way-street_pig_5.webp', 'C:\\\\Users\\\\vcata\\\\Downloads\\\\dataset_ObstacleTrack\\\\images\\\\one-way-street_pig_6.webp', 'C:\\\\Users\\\\vcata\\\\Downloads\\\\dataset_ObstacleTrack\\\\images\\\\one-way-street_pig_7.webp', 'C:\\\\Users\\\\vcata\\\\Downloads\\\\dataset_ObstacleTrack\\\\images\\\\one-way-street_pig_8.webp', 'C:\\\\Users\\\\vcata\\\\Downloads\\\\dataset_ObstacleTrack\\\\images\\\\one-way-street_pig_9.webp', 'C:\\\\Users\\\\vcata\\\\Downloads\\\\dataset_ObstacleTrack\\\\images\\\\one-way-street_sleigh_1.webp', 'C:\\\\Users\\\\vcata\\\\Downloads\\\\dataset_ObstacleTrack\\\\images\\\\one-way-street_sleigh_10.webp', 'C:\\\\Users\\\\vcata\\\\Downloads\\\\dataset_ObstacleTrack\\\\images\\\\one-way-street_sleigh_2.webp', 'C:\\\\Users\\\\vcata\\\\Downloads\\\\dataset_ObstacleTrack\\\\images\\\\one-way-street_sleigh_3.webp', 'C:\\\\Users\\\\vcata\\\\Downloads\\\\dataset_ObstacleTrack\\\\images\\\\one-way-street_sleigh_4.webp', 'C:\\\\Users\\\\vcata\\\\Downloads\\\\dataset_ObstacleTrack\\\\images\\\\one-way-street_sleigh_5.webp', 'C:\\\\Users\\\\vcata\\\\Downloads\\\\dataset_ObstacleTrack\\\\images\\\\one-way-street_sleigh_6.webp', 'C:\\\\Users\\\\vcata\\\\Downloads\\\\dataset_ObstacleTrack\\\\images\\\\one-way-street_sleigh_7.webp', 'C:\\\\Users\\\\vcata\\\\Downloads\\\\dataset_ObstacleTrack\\\\images\\\\one-way-street_sleigh_8.webp', 'C:\\\\Users\\\\vcata\\\\Downloads\\\\dataset_ObstacleTrack\\\\images\\\\one-way-street_sleigh_9.webp', 'C:\\\\Users\\\\vcata\\\\Downloads\\\\dataset_ObstacleTrack\\\\images\\\\paving_axestump_2.webp', 'C:\\\\Users\\\\vcata\\\\Downloads\\\\dataset_ObstacleTrack\\\\images\\\\paving_axewood_5.webp', 'C:\\\\Users\\\\vcata\\\\Downloads\\\\dataset_ObstacleTrack\\\\images\\\\paving_axewood_8.webp', 'C:\\\\Users\\\\vcata\\\\Downloads\\\\dataset_ObstacleTrack\\\\images\\\\paving_axe_2.webp', 'C:\\\\Users\\\\vcata\\\\Downloads\\\\dataset_ObstacleTrack\\\\images\\\\paving_axe_4.webp', 'C:\\\\Users\\\\vcata\\\\Downloads\\\\dataset_ObstacleTrack\\\\images\\\\paving_bag_3.webp', 'C:\\\\Users\\\\vcata\\\\Downloads\\\\dataset_ObstacleTrack\\\\images\\\\paving_bag_6.webp', 'C:\\\\Users\\\\vcata\\\\Downloads\\\\dataset_ObstacleTrack\\\\images\\\\paving_basket_3.webp', 'C:\\\\Users\\\\vcata\\\\Downloads\\\\dataset_ObstacleTrack\\\\images\\\\paving_basket_5.webp', 'C:\\\\Users\\\\vcata\\\\Downloads\\\\dataset_ObstacleTrack\\\\images\\\\paving_boot_1.webp', 'C:\\\\Users\\\\vcata\\\\Downloads\\\\dataset_ObstacleTrack\\\\images\\\\paving_boot_2.webp', 'C:\\\\Users\\\\vcata\\\\Downloads\\\\dataset_ObstacleTrack\\\\images\\\\paving_boot_7.webp', 'C:\\\\Users\\\\vcata\\\\Downloads\\\\dataset_ObstacleTrack\\\\images\\\\paving_bottlesBC_5.webp', 'C:\\\\Users\\\\vcata\\\\Downloads\\\\dataset_ObstacleTrack\\\\images\\\\paving_bottles_1.webp', 'C:\\\\Users\\\\vcata\\\\Downloads\\\\dataset_ObstacleTrack\\\\images\\\\paving_bottles_2.webp', 'C:\\\\Users\\\\vcata\\\\Downloads\\\\dataset_ObstacleTrack\\\\images\\\\paving_bucket_3.webp', 'C:\\\\Users\\\\vcata\\\\Downloads\\\\dataset_ObstacleTrack\\\\images\\\\paving_bucket_6.webp', 'C:\\\\Users\\\\vcata\\\\Downloads\\\\dataset_ObstacleTrack\\\\images\\\\paving_canister_1.webp', 'C:\\\\Users\\\\vcata\\\\Downloads\\\\dataset_ObstacleTrack\\\\images\\\\paving_canister_4.webp', 'C:\\\\Users\\\\vcata\\\\Downloads\\\\dataset_ObstacleTrack\\\\images\\\\paving_canister_8.webp', 'C:\\\\Users\\\\vcata\\\\Downloads\\\\dataset_ObstacleTrack\\\\images\\\\paving_cansPB_8.webp', 'C:\\\\Users\\\\vcata\\\\Downloads\\\\dataset_ObstacleTrack\\\\images\\\\paving_cans_2.webp', 'C:\\\\Users\\\\vcata\\\\Downloads\\\\dataset_ObstacleTrack\\\\images\\\\paving_helmetB_1.webp', 'C:\\\\Users\\\\vcata\\\\Downloads\\\\dataset_ObstacleTrack\\\\images\\\\paving_helmetB_2.webp', 'C:\\\\Users\\\\vcata\\\\Downloads\\\\dataset_ObstacleTrack\\\\images\\\\paving_helmetB_7.webp', 'C:\\\\Users\\\\vcata\\\\Downloads\\\\dataset_ObstacleTrack\\\\images\\\\paving_helmetG_1.webp', 'C:\\\\Users\\\\vcata\\\\Downloads\\\\dataset_ObstacleTrack\\\\images\\\\paving_helmetG_3.webp', 'C:\\\\Users\\\\vcata\\\\Downloads\\\\dataset_ObstacleTrack\\\\images\\\\paving_helmetG_7.webp', 'C:\\\\Users\\\\vcata\\\\Downloads\\\\dataset_ObstacleTrack\\\\images\\\\paving_stump_2.webp', 'C:\\\\Users\\\\vcata\\\\Downloads\\\\dataset_ObstacleTrack\\\\images\\\\paving_stump_7.webp', 'C:\\\\Users\\\\vcata\\\\Downloads\\\\dataset_ObstacleTrack\\\\images\\\\paving_watercanB_2.webp', 'C:\\\\Users\\\\vcata\\\\Downloads\\\\dataset_ObstacleTrack\\\\images\\\\paving_watercanB_5.webp', 'C:\\\\Users\\\\vcata\\\\Downloads\\\\dataset_ObstacleTrack\\\\images\\\\paving_watercanB_9.webp', 'C:\\\\Users\\\\vcata\\\\Downloads\\\\dataset_ObstacleTrack\\\\images\\\\paving_watercanS_2.webp', 'C:\\\\Users\\\\vcata\\\\Downloads\\\\dataset_ObstacleTrack\\\\images\\\\paving_watercanS_4.webp', 'C:\\\\Users\\\\vcata\\\\Downloads\\\\dataset_ObstacleTrack\\\\images\\\\paving_watercanS_8.webp', 'C:\\\\Users\\\\vcata\\\\Downloads\\\\dataset_ObstacleTrack\\\\images\\\\paving_wood_2.webp', 'C:\\\\Users\\\\vcata\\\\Downloads\\\\dataset_ObstacleTrack\\\\images\\\\paving_wood_3.webp', 'C:\\\\Users\\\\vcata\\\\Downloads\\\\dataset_ObstacleTrack\\\\images\\\\paving_wood_6.webp', 'C:\\\\Users\\\\vcata\\\\Downloads\\\\dataset_ObstacleTrack\\\\images\\\\snowstorm1_00_00_51.868.webp', 'C:\\\\Users\\\\vcata\\\\Downloads\\\\dataset_ObstacleTrack\\\\images\\\\snowstorm1_00_00_56.106.webp', 'C:\\\\Users\\\\vcata\\\\Downloads\\\\dataset_ObstacleTrack\\\\images\\\\snowstorm1_00_00_59.226.webp', 'C:\\\\Users\\\\vcata\\\\Downloads\\\\dataset_ObstacleTrack\\\\images\\\\snowstorm1_00_03_05.185.webp', 'C:\\\\Users\\\\vcata\\\\Downloads\\\\dataset_ObstacleTrack\\\\images\\\\snowstorm1_00_03_08.939.webp', 'C:\\\\Users\\\\vcata\\\\Downloads\\\\dataset_ObstacleTrack\\\\images\\\\snowstorm1_00_03_24.738.webp', 'C:\\\\Users\\\\vcata\\\\Downloads\\\\dataset_ObstacleTrack\\\\images\\\\snowstorm1_00_07_41.845.webp', 'C:\\\\Users\\\\vcata\\\\Downloads\\\\dataset_ObstacleTrack\\\\images\\\\snowstorm1_00_07_43.930.webp', 'C:\\\\Users\\\\vcata\\\\Downloads\\\\dataset_ObstacleTrack\\\\images\\\\snowstorm1_00_08_18.898.webp', 'C:\\\\Users\\\\vcata\\\\Downloads\\\\dataset_ObstacleTrack\\\\images\\\\snowstorm1_00_08_21.968.webp', 'C:\\\\Users\\\\vcata\\\\Downloads\\\\dataset_ObstacleTrack\\\\images\\\\snowstorm1_00_08_26.106.webp', 'C:\\\\Users\\\\vcata\\\\Downloads\\\\dataset_ObstacleTrack\\\\images\\\\snowstorm1_00_09_22.178.webp', 'C:\\\\Users\\\\vcata\\\\Downloads\\\\dataset_ObstacleTrack\\\\images\\\\snowstorm1_00_10_06.489.webp', 'C:\\\\Users\\\\vcata\\\\Downloads\\\\dataset_ObstacleTrack\\\\images\\\\snowstorm1_00_10_48.898.webp', 'C:\\\\Users\\\\vcata\\\\Downloads\\\\dataset_ObstacleTrack\\\\images\\\\snowstorm1_00_10_52.886.webp', 'C:\\\\Users\\\\vcata\\\\Downloads\\\\dataset_ObstacleTrack\\\\images\\\\snowstorm1_00_10_55.939.webp', 'C:\\\\Users\\\\vcata\\\\Downloads\\\\dataset_ObstacleTrack\\\\images\\\\snowstorm1_00_11_28.972.webp', 'C:\\\\Users\\\\vcata\\\\Downloads\\\\dataset_ObstacleTrack\\\\images\\\\snowstorm1_00_11_33.009.webp', 'C:\\\\Users\\\\vcata\\\\Downloads\\\\dataset_ObstacleTrack\\\\images\\\\snowstorm1_00_13_15.261.webp', 'C:\\\\Users\\\\vcata\\\\Downloads\\\\dataset_ObstacleTrack\\\\images\\\\snowstorm1_00_13_18.748.webp', 'C:\\\\Users\\\\vcata\\\\Downloads\\\\dataset_ObstacleTrack\\\\images\\\\snowstorm1_00_14_02.892.webp', 'C:\\\\Users\\\\vcata\\\\Downloads\\\\dataset_ObstacleTrack\\\\images\\\\snowstorm1_00_14_05.595.webp', 'C:\\\\Users\\\\vcata\\\\Downloads\\\\dataset_ObstacleTrack\\\\images\\\\snowstorm1_00_14_37.727.webp', 'C:\\\\Users\\\\vcata\\\\Downloads\\\\dataset_ObstacleTrack\\\\images\\\\snowstorm1_00_14_40.363.webp', 'C:\\\\Users\\\\vcata\\\\Downloads\\\\dataset_ObstacleTrack\\\\images\\\\snowstorm1_00_15_20.970.webp', 'C:\\\\Users\\\\vcata\\\\Downloads\\\\dataset_ObstacleTrack\\\\images\\\\snowstorm1_00_15_24.040.webp', 'C:\\\\Users\\\\vcata\\\\Downloads\\\\dataset_ObstacleTrack\\\\images\\\\snowstorm1_00_15_26.042.webp', 'C:\\\\Users\\\\vcata\\\\Downloads\\\\dataset_ObstacleTrack\\\\images\\\\snowstorm1_00_15_56.322.webp', 'C:\\\\Users\\\\vcata\\\\Downloads\\\\dataset_ObstacleTrack\\\\images\\\\snowstorm1_00_16_00.827.webp', 'C:\\\\Users\\\\vcata\\\\Downloads\\\\dataset_ObstacleTrack\\\\images\\\\snowstorm1_00_16_02.578.webp', 'C:\\\\Users\\\\vcata\\\\Downloads\\\\dataset_ObstacleTrack\\\\images\\\\snowstorm2_00_00_49.600.webp', 'C:\\\\Users\\\\vcata\\\\Downloads\\\\dataset_ObstacleTrack\\\\images\\\\snowstorm2_00_00_52.502.webp', 'C:\\\\Users\\\\vcata\\\\Downloads\\\\dataset_ObstacleTrack\\\\images\\\\snowstorm2_00_01_35.045.webp', 'C:\\\\Users\\\\vcata\\\\Downloads\\\\dataset_ObstacleTrack\\\\images\\\\snowstorm2_00_01_38.181.webp', 'C:\\\\Users\\\\vcata\\\\Downloads\\\\dataset_ObstacleTrack\\\\images\\\\snowstorm2_00_01_39.950.webp', 'C:\\\\Users\\\\vcata\\\\Downloads\\\\dataset_ObstacleTrack\\\\images\\\\snowstorm2_00_02_27.047.webp', 'C:\\\\Users\\\\vcata\\\\Downloads\\\\dataset_ObstacleTrack\\\\images\\\\snowstorm2_00_02_30.667.webp', 'C:\\\\Users\\\\vcata\\\\Downloads\\\\dataset_ObstacleTrack\\\\images\\\\snowstorm2_00_02_32.753.webp', 'C:\\\\Users\\\\vcata\\\\Downloads\\\\dataset_ObstacleTrack\\\\images\\\\snowstorm2_00_03_09.556.webp', 'C:\\\\Users\\\\vcata\\\\Downloads\\\\dataset_ObstacleTrack\\\\images\\\\snowstorm2_00_03_13.443.webp', 'C:\\\\Users\\\\vcata\\\\Downloads\\\\dataset_ObstacleTrack\\\\images\\\\snowstorm2_00_04_07.881.webp', 'C:\\\\Users\\\\vcata\\\\Downloads\\\\dataset_ObstacleTrack\\\\images\\\\snowstorm2_00_04_12.152.webp', 'C:\\\\Users\\\\vcata\\\\Downloads\\\\dataset_ObstacleTrack\\\\images\\\\snowstorm2_00_04_14.087.webp', 'C:\\\\Users\\\\vcata\\\\Downloads\\\\dataset_ObstacleTrack\\\\images\\\\snowstorm2_00_04_46.303.webp', 'C:\\\\Users\\\\vcata\\\\Downloads\\\\dataset_ObstacleTrack\\\\images\\\\snowstorm2_00_04_49.172.webp', 'C:\\\\Users\\\\vcata\\\\Downloads\\\\dataset_ObstacleTrack\\\\images\\\\snowstorm2_00_04_52.192.webp', 'C:\\\\Users\\\\vcata\\\\Downloads\\\\dataset_ObstacleTrack\\\\images\\\\snowstorm2_00_05_47.380.webp', 'C:\\\\Users\\\\vcata\\\\Downloads\\\\dataset_ObstacleTrack\\\\images\\\\snowstorm2_00_05_53.503.webp', 'C:\\\\Users\\\\vcata\\\\Downloads\\\\dataset_ObstacleTrack\\\\images\\\\snowstorm2_00_05_55.972.webp', 'C:\\\\Users\\\\vcata\\\\Downloads\\\\dataset_ObstacleTrack\\\\images\\\\snowstorm2_00_06_00.260.webp', 'C:\\\\Users\\\\vcata\\\\Downloads\\\\dataset_ObstacleTrack\\\\images\\\\snowstorm2_00_06_46.423.webp', 'C:\\\\Users\\\\vcata\\\\Downloads\\\\dataset_ObstacleTrack\\\\images\\\\snowstorm2_00_06_49.910.webp', 'C:\\\\Users\\\\vcata\\\\Downloads\\\\dataset_ObstacleTrack\\\\images\\\\snowstorm2_00_06_52.545.webp', 'C:\\\\Users\\\\vcata\\\\Downloads\\\\dataset_ObstacleTrack\\\\images\\\\snowstorm2_00_06_54.030.webp', 'C:\\\\Users\\\\vcata\\\\Downloads\\\\dataset_ObstacleTrack\\\\images\\\\snowstorm2_00_07_27.397.webp', 'C:\\\\Users\\\\vcata\\\\Downloads\\\\dataset_ObstacleTrack\\\\images\\\\validation_1.webp', 'C:\\\\Users\\\\vcata\\\\Downloads\\\\dataset_ObstacleTrack\\\\images\\\\validation_10.webp', 'C:\\\\Users\\\\vcata\\\\Downloads\\\\dataset_ObstacleTrack\\\\images\\\\validation_11.webp', 'C:\\\\Users\\\\vcata\\\\Downloads\\\\dataset_ObstacleTrack\\\\images\\\\validation_12.webp', 'C:\\\\Users\\\\vcata\\\\Downloads\\\\dataset_ObstacleTrack\\\\images\\\\validation_13.webp', 'C:\\\\Users\\\\vcata\\\\Downloads\\\\dataset_ObstacleTrack\\\\images\\\\validation_14.webp', 'C:\\\\Users\\\\vcata\\\\Downloads\\\\dataset_ObstacleTrack\\\\images\\\\validation_15.webp', 'C:\\\\Users\\\\vcata\\\\Downloads\\\\dataset_ObstacleTrack\\\\images\\\\validation_16.webp', 'C:\\\\Users\\\\vcata\\\\Downloads\\\\dataset_ObstacleTrack\\\\images\\\\validation_17.webp', 'C:\\\\Users\\\\vcata\\\\Downloads\\\\dataset_ObstacleTrack\\\\images\\\\validation_18.webp', 'C:\\\\Users\\\\vcata\\\\Downloads\\\\dataset_ObstacleTrack\\\\images\\\\validation_2.webp', 'C:\\\\Users\\\\vcata\\\\Downloads\\\\dataset_ObstacleTrack\\\\images\\\\validation_20.webp', 'C:\\\\Users\\\\vcata\\\\Downloads\\\\dataset_ObstacleTrack\\\\images\\\\validation_3.webp', 'C:\\\\Users\\\\vcata\\\\Downloads\\\\dataset_ObstacleTrack\\\\images\\\\validation_30.webp', 'C:\\\\Users\\\\vcata\\\\Downloads\\\\dataset_ObstacleTrack\\\\images\\\\validation_31.webp', 'C:\\\\Users\\\\vcata\\\\Downloads\\\\dataset_ObstacleTrack\\\\images\\\\validation_32.webp', 'C:\\\\Users\\\\vcata\\\\Downloads\\\\dataset_ObstacleTrack\\\\images\\\\validation_33.webp', 'C:\\\\Users\\\\vcata\\\\Downloads\\\\dataset_ObstacleTrack\\\\images\\\\validation_34.webp', 'C:\\\\Users\\\\vcata\\\\Downloads\\\\dataset_ObstacleTrack\\\\images\\\\validation_35.webp', 'C:\\\\Users\\\\vcata\\\\Downloads\\\\dataset_ObstacleTrack\\\\images\\\\validation_36.webp', 'C:\\\\Users\\\\vcata\\\\Downloads\\\\dataset_ObstacleTrack\\\\images\\\\validation_37.webp', 'C:\\\\Users\\\\vcata\\\\Downloads\\\\dataset_ObstacleTrack\\\\images\\\\validation_38.webp', 'C:\\\\Users\\\\vcata\\\\Downloads\\\\dataset_ObstacleTrack\\\\images\\\\validation_39.webp', 'C:\\\\Users\\\\vcata\\\\Downloads\\\\dataset_ObstacleTrack\\\\images\\\\validation_4.webp', 'C:\\\\Users\\\\vcata\\\\Downloads\\\\dataset_ObstacleTrack\\\\images\\\\validation_40.webp', 'C:\\\\Users\\\\vcata\\\\Downloads\\\\dataset_ObstacleTrack\\\\images\\\\validation_5.webp', 'C:\\\\Users\\\\vcata\\\\Downloads\\\\dataset_ObstacleTrack\\\\images\\\\validation_6.webp', 'C:\\\\Users\\\\vcata\\\\Downloads\\\\dataset_ObstacleTrack\\\\images\\\\validation_7.webp', 'C:\\\\Users\\\\vcata\\\\Downloads\\\\dataset_ObstacleTrack\\\\images\\\\validation_8.webp', 'C:\\\\Users\\\\vcata\\\\Downloads\\\\dataset_ObstacleTrack\\\\images\\\\validation_9.webp']\n"
     ]
    }
   ],
   "execution_count": 26
  }
 ]
}
