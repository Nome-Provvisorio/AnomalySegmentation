{
 "metadata": {
  "kernelspec": {
   "language": "python",
   "display_name": "Python 3",
   "name": "python3"
  },
  "language_info": {
   "name": "python",
   "version": "3.10.12",
   "mimetype": "text/x-python",
   "codemirror_mode": {
    "name": "ipython",
    "version": 3
   },
   "pygments_lexer": "ipython3",
   "nbconvert_exporter": "python",
   "file_extension": ".py"
  },
  "kaggle": {
   "accelerator": "nvidiaTeslaT4",
   "dataSources": [
    {
     "sourceId": 109264,
     "sourceType": "datasetVersion",
     "datasetId": 56828
    },
    {
     "sourceId": 1050392,
     "sourceType": "datasetVersion",
     "datasetId": 580960
    },
    {
     "sourceId": 10264339,
     "sourceType": "datasetVersion",
     "datasetId": 6349994
    },
    {
     "sourceId": 205778,
     "sourceType": "modelInstanceVersion",
     "modelInstanceId": 175504,
     "modelId": 197855
    }
   ],
   "dockerImageVersionId": 30823,
   "isInternetEnabled": true,
   "language": "python",
   "sourceType": "notebook",
   "isGpuEnabled": true
  }
 },
 "nbformat_minor": 4,
 "nbformat": 4,
 "cells": [
  {
   "cell_type": "markdown",
   "source": "## Download Cityscapes",
   "metadata": {}
  },
  {
   "cell_type": "code",
   "source": "import kagglehub\n\n# Download latest version\npath = kagglehub.dataset_download(\"chrisviviers/cityscapes-leftimg8bit-trainvaltest\")\n\nprint(\"Path to dataset files:\", path)",
   "metadata": {
    "trusted": true,
    "execution": {
     "iopub.status.busy": "2024-12-21T15:41:26.783790Z",
     "iopub.execute_input": "2024-12-21T15:41:26.784131Z",
     "iopub.status.idle": "2024-12-21T15:41:27.764032Z",
     "shell.execute_reply.started": "2024-12-21T15:41:26.784099Z",
     "shell.execute_reply": "2024-12-21T15:41:27.763120Z"
    }
   },
   "outputs": [
    {
     "name": "stdout",
     "text": "Path to dataset files: /kaggle/input/cityscapes-leftimg8bit-trainvaltest\n",
     "output_type": "stream"
    }
   ],
   "execution_count": 1
  },
  {
   "cell_type": "markdown",
   "source": "## Download Tiny Imagenet",
   "metadata": {}
  },
  {
   "cell_type": "code",
   "source": "import kagglehub\n\n# Download latest version\npath = kagglehub.dataset_download(\"akash2sharma/tiny-imagenet\")\n\nprint(\"Path to dataset files:\", path)",
   "metadata": {
    "trusted": true,
    "execution": {
     "iopub.status.busy": "2024-12-21T10:59:57.207506Z",
     "iopub.execute_input": "2024-12-21T10:59:57.207808Z",
     "iopub.status.idle": "2024-12-21T10:59:57.707500Z",
     "shell.execute_reply.started": "2024-12-21T10:59:57.207785Z",
     "shell.execute_reply": "2024-12-21T10:59:57.706618Z"
    }
   },
   "outputs": [
    {
     "name": "stdout",
     "text": "Path to dataset files: /kaggle/input/tiny-imagenet\n",
     "output_type": "stream"
    }
   ],
   "execution_count": 3
  },
  {
   "cell_type": "markdown",
   "source": "## Git Clone",
   "metadata": {}
  },
  {
   "cell_type": "code",
   "source": "!git clone https://github.com/Nome-Provvisorio/AnomalySegmentation.git",
   "metadata": {
    "trusted": true,
    "execution": {
     "iopub.status.busy": "2024-12-21T16:47:51.122183Z",
     "iopub.execute_input": "2024-12-21T16:47:51.122455Z",
     "iopub.status.idle": "2024-12-21T16:47:54.327368Z",
     "shell.execute_reply.started": "2024-12-21T16:47:51.122434Z",
     "shell.execute_reply": "2024-12-21T16:47:54.326544Z"
    }
   },
   "outputs": [
    {
     "name": "stdout",
     "text": "Cloning into 'AnomalySegmentation'...\nremote: Enumerating objects: 96, done.\u001B[K\nremote: Counting objects: 100% (96/96), done.\u001B[K\nremote: Compressing objects: 100% (85/85), done.\u001B[K\nremote: Total 96 (delta 50), reused 29 (delta 9), pack-reused 0 (from 0)\u001B[K\nReceiving objects: 100% (96/96), 35.80 MiB | 23.51 MiB/s, done.\nResolving deltas: 100% (50/50), done.\n",
     "output_type": "stream"
    }
   ],
   "execution_count": 1
  },
  {
   "cell_type": "code",
   "source": "%cd \"/kaggle/working\"\n%ls",
   "metadata": {
    "trusted": true,
    "execution": {
     "iopub.status.busy": "2024-12-21T11:24:31.714330Z",
     "iopub.execute_input": "2024-12-21T11:24:31.714628Z",
     "iopub.status.idle": "2024-12-21T11:24:31.833363Z",
     "shell.execute_reply.started": "2024-12-21T11:24:31.714606Z",
     "shell.execute_reply": "2024-12-21T11:24:31.832609Z"
    }
   },
   "outputs": [
    {
     "name": "stdout",
     "text": "/kaggle/working\n\u001B[0m\u001B[01;34mAnomalySegmentation\u001B[0m/\n",
     "output_type": "stream"
    }
   ],
   "execution_count": 48
  },
  {
   "cell_type": "markdown",
   "source": "## Run Pretraining",
   "metadata": {}
  },
  {
   "metadata": {
    "trusted": true,
    "execution": {
     "iopub.status.busy": "2024-12-21T15:22:06.841245Z",
     "iopub.execute_input": "2024-12-21T15:22:06.841524Z",
     "iopub.status.idle": "2024-12-21T15:22:07.051585Z",
     "shell.execute_reply.started": "2024-12-21T15:22:06.841501Z",
     "shell.execute_reply": "2024-12-21T15:22:07.050428Z"
    }
   },
   "cell_type": "code",
   "outputs": [
    {
     "name": "stdout",
     "output_type": "stream",
     "text": []
    }
   ],
   "execution_count": 1,
   "source": [
    "%cd \"/kaggle/working\"\n",
    "!python3 \"AnomalySegmentation/imagenet/main.py\" \"/kaggle/input/tiny-imagenet/tiny-imagenet-200\""
   ]
  },
  {
   "metadata": {},
   "cell_type": "markdown",
   "source": "## Train"
  },
  {
   "cell_type": "code",
   "source": "!pip install visdom\n!pip install cityscapesscripts",
   "metadata": {
    "trusted": true,
    "execution": {
     "iopub.status.busy": "2024-12-21T16:48:05.223709Z",
     "iopub.execute_input": "2024-12-21T16:48:05.224011Z",
     "iopub.status.idle": "2024-12-21T16:48:23.499788Z",
     "shell.execute_reply.started": "2024-12-21T16:48:05.223988Z",
     "shell.execute_reply": "2024-12-21T16:48:23.498955Z"
    },
    "ExecuteTime": {
     "end_time": "2024-12-22T10:18:27.179270Z",
     "start_time": "2024-12-22T10:18:21.757598Z"
    }
   },
   "outputs": [
    {
     "name": "stdout",
     "output_type": "stream",
     "text": [
      "Requirement already satisfied: visdom in c:\\users\\vcata\\appdata\\local\\programs\\python\\python311\\lib\\site-packages (0.2.4)\n",
      "Requirement already satisfied: numpy>=1.8 in c:\\users\\vcata\\appdata\\local\\programs\\python\\python311\\lib\\site-packages (from visdom) (1.26.3)\n",
      "Requirement already satisfied: scipy in c:\\users\\vcata\\appdata\\local\\programs\\python\\python311\\lib\\site-packages (from visdom) (1.14.1)\n",
      "Requirement already satisfied: requests in c:\\users\\vcata\\appdata\\local\\programs\\python\\python311\\lib\\site-packages (from visdom) (2.32.3)\n",
      "Requirement already satisfied: tornado in c:\\users\\vcata\\appdata\\local\\programs\\python\\python311\\lib\\site-packages (from visdom) (6.4.2)\n",
      "Requirement already satisfied: six in c:\\users\\vcata\\appdata\\local\\programs\\python\\python311\\lib\\site-packages (from visdom) (1.16.0)\n",
      "Requirement already satisfied: jsonpatch in c:\\users\\vcata\\appdata\\local\\programs\\python\\python311\\lib\\site-packages (from visdom) (1.33)\n",
      "Requirement already satisfied: websocket-client in c:\\users\\vcata\\appdata\\local\\programs\\python\\python311\\lib\\site-packages (from visdom) (1.8.0)\n",
      "Requirement already satisfied: networkx in c:\\users\\vcata\\appdata\\local\\programs\\python\\python311\\lib\\site-packages (from visdom) (3.2.1)\n",
      "Requirement already satisfied: pillow in c:\\users\\vcata\\appdata\\local\\programs\\python\\python311\\lib\\site-packages (from visdom) (10.2.0)\n",
      "Requirement already satisfied: jsonpointer>=1.9 in c:\\users\\vcata\\appdata\\local\\programs\\python\\python311\\lib\\site-packages (from jsonpatch->visdom) (3.0.0)\n",
      "Requirement already satisfied: charset-normalizer<4,>=2 in c:\\users\\vcata\\appdata\\local\\programs\\python\\python311\\lib\\site-packages (from requests->visdom) (3.4.0)\n",
      "Requirement already satisfied: idna<4,>=2.5 in c:\\users\\vcata\\appdata\\local\\programs\\python\\python311\\lib\\site-packages (from requests->visdom) (3.10)\n",
      "Requirement already satisfied: urllib3<3,>=1.21.1 in c:\\users\\vcata\\appdata\\local\\programs\\python\\python311\\lib\\site-packages (from requests->visdom) (2.2.3)\n",
      "Requirement already satisfied: certifi>=2017.4.17 in c:\\users\\vcata\\appdata\\local\\programs\\python\\python311\\lib\\site-packages (from requests->visdom) (2024.8.30)\n"
     ]
    },
    {
     "name": "stderr",
     "output_type": "stream",
     "text": [
      "\n",
      "[notice] A new release of pip is available: 23.2.1 -> 24.3.1\n",
      "[notice] To update, run: python.exe -m pip install --upgrade pip\n"
     ]
    },
    {
     "name": "stdout",
     "output_type": "stream",
     "text": [
      "Requirement already satisfied: cityscapesscripts in c:\\users\\vcata\\appdata\\local\\programs\\python\\python311\\lib\\site-packages (2.2.4)"
     ]
    },
    {
     "name": "stderr",
     "output_type": "stream",
     "text": [
      "\n",
      "[notice] A new release of pip is available: 23.2.1 -> 24.3.1\n",
      "[notice] To update, run: python.exe -m pip install --upgrade pip\n"
     ]
    },
    {
     "name": "stdout",
     "output_type": "stream",
     "text": [
      "\n",
      "Requirement already satisfied: numpy in c:\\users\\vcata\\appdata\\local\\programs\\python\\python311\\lib\\site-packages (from cityscapesscripts) (1.26.3)\n",
      "Requirement already satisfied: matplotlib in c:\\users\\vcata\\appdata\\local\\programs\\python\\python311\\lib\\site-packages (from cityscapesscripts) (3.9.3)\n",
      "Requirement already satisfied: pillow in c:\\users\\vcata\\appdata\\local\\programs\\python\\python311\\lib\\site-packages (from cityscapesscripts) (10.2.0)\n",
      "Requirement already satisfied: appdirs in c:\\users\\vcata\\appdata\\local\\programs\\python\\python311\\lib\\site-packages (from cityscapesscripts) (1.4.4)\n",
      "Requirement already satisfied: pyquaternion in c:\\users\\vcata\\appdata\\local\\programs\\python\\python311\\lib\\site-packages (from cityscapesscripts) (0.9.9)\n",
      "Requirement already satisfied: coloredlogs in c:\\users\\vcata\\appdata\\local\\programs\\python\\python311\\lib\\site-packages (from cityscapesscripts) (15.0.1)\n",
      "Requirement already satisfied: tqdm in c:\\users\\vcata\\appdata\\local\\programs\\python\\python311\\lib\\site-packages (from cityscapesscripts) (4.67.0)\n",
      "Requirement already satisfied: typing in c:\\users\\vcata\\appdata\\local\\programs\\python\\python311\\lib\\site-packages (from cityscapesscripts) (3.7.4.3)\n",
      "Requirement already satisfied: requests in c:\\users\\vcata\\appdata\\local\\programs\\python\\python311\\lib\\site-packages (from cityscapesscripts) (2.32.3)\n",
      "Requirement already satisfied: humanfriendly>=9.1 in c:\\users\\vcata\\appdata\\local\\programs\\python\\python311\\lib\\site-packages (from coloredlogs->cityscapesscripts) (10.0)\n",
      "Requirement already satisfied: contourpy>=1.0.1 in c:\\users\\vcata\\appdata\\local\\programs\\python\\python311\\lib\\site-packages (from matplotlib->cityscapesscripts) (1.3.1)\n",
      "Requirement already satisfied: cycler>=0.10 in c:\\users\\vcata\\appdata\\local\\programs\\python\\python311\\lib\\site-packages (from matplotlib->cityscapesscripts) (0.12.1)\n",
      "Requirement already satisfied: fonttools>=4.22.0 in c:\\users\\vcata\\appdata\\local\\programs\\python\\python311\\lib\\site-packages (from matplotlib->cityscapesscripts) (4.55.3)\n",
      "Requirement already satisfied: kiwisolver>=1.3.1 in c:\\users\\vcata\\appdata\\local\\programs\\python\\python311\\lib\\site-packages (from matplotlib->cityscapesscripts) (1.4.7)\n",
      "Requirement already satisfied: packaging>=20.0 in c:\\users\\vcata\\appdata\\local\\programs\\python\\python311\\lib\\site-packages (from matplotlib->cityscapesscripts) (24.2)\n",
      "Requirement already satisfied: pyparsing>=2.3.1 in c:\\users\\vcata\\appdata\\local\\programs\\python\\python311\\lib\\site-packages (from matplotlib->cityscapesscripts) (3.2.0)\n",
      "Requirement already satisfied: python-dateutil>=2.7 in c:\\users\\vcata\\appdata\\local\\programs\\python\\python311\\lib\\site-packages (from matplotlib->cityscapesscripts) (2.9.0.post0)\n",
      "Requirement already satisfied: charset-normalizer<4,>=2 in c:\\users\\vcata\\appdata\\local\\programs\\python\\python311\\lib\\site-packages (from requests->cityscapesscripts) (3.4.0)\n",
      "Requirement already satisfied: idna<4,>=2.5 in c:\\users\\vcata\\appdata\\local\\programs\\python\\python311\\lib\\site-packages (from requests->cityscapesscripts) (3.10)\n",
      "Requirement already satisfied: urllib3<3,>=1.21.1 in c:\\users\\vcata\\appdata\\local\\programs\\python\\python311\\lib\\site-packages (from requests->cityscapesscripts) (2.2.3)\n",
      "Requirement already satisfied: certifi>=2017.4.17 in c:\\users\\vcata\\appdata\\local\\programs\\python\\python311\\lib\\site-packages (from requests->cityscapesscripts) (2024.8.30)\n",
      "Requirement already satisfied: colorama in c:\\users\\vcata\\appdata\\local\\programs\\python\\python311\\lib\\site-packages (from tqdm->cityscapesscripts) (0.4.6)\n",
      "Requirement already satisfied: pyreadline3 in c:\\users\\vcata\\appdata\\local\\programs\\python\\python311\\lib\\site-packages (from humanfriendly>=9.1->coloredlogs->cityscapesscripts) (3.5.4)\n",
      "Requirement already satisfied: six>=1.5 in c:\\users\\vcata\\appdata\\local\\programs\\python\\python311\\lib\\site-packages (from python-dateutil>=2.7->matplotlib->cityscapesscripts) (1.16.0)\n"
     ]
    }
   ],
   "execution_count": 1
  },
  {
   "cell_type": "code",
   "source": [
    "\n",
    "!python \"C:/Users/vcata/Desktop/Polito/AML/AnomalySegmentation/train/main.py\" --savedir erfnet_training1 --datadir \"C:/Users/vcata/Downloads/leftImg8bit_trainvaltest/leftImg8bit\" --num-epochs 10 --batch-size 1 --decoder --pretrainedEncoder \"C:/Users/vcata/Desktop/Polito/AML/AnomalySegmentation/train/model_best.pth.tar\""
   ],
   "metadata": {
    "trusted": true,
    "execution": {
     "iopub.status.busy": "2024-12-21T16:48:58.920287Z",
     "iopub.execute_input": "2024-12-21T16:48:58.920635Z",
     "iopub.status.idle": "2024-12-21T16:49:02.245445Z",
     "shell.execute_reply.started": "2024-12-21T16:48:58.920607Z",
     "shell.execute_reply": "2024-12-21T16:49:02.244327Z"
    },
    "ExecuteTime": {
     "end_time": "2024-12-22T11:04:11.127472Z",
     "start_time": "2024-12-22T10:55:02.673406Z"
    }
   },
   "outputs": [
    {
     "name": "stdout",
     "output_type": "stream",
     "text": [
      "^C\n"
     ]
    }
   ],
   "execution_count": 13
  },
  {
   "metadata": {
    "ExecuteTime": {
     "end_time": "2024-12-22T10:27:41.394607Z",
     "start_time": "2024-12-22T10:27:41.388876Z"
    }
   },
   "cell_type": "code",
   "source": [
    "# Funzione per convertire _labelIds in _labelTrainIds\n",
    "import os\n",
    "def convert_labelIds_to_trainIds(gtFine_path):\n",
    "    print(\"Inizio conversione da _labelIds a _labelTrainIds...\")\n",
    "\n",
    "    from cityscapesscripts.preparation.json2labelImg import json2labelImg\n",
    "\n",
    "    # Itera sui file nelle sottocartelle di gtFine\n",
    "    for city_dir in os.listdir(gtFine_path):\n",
    "        city_path = os.path.join(gtFine_path, city_dir)\n",
    "        if os.path.isdir(city_path):\n",
    "            for file in os.listdir(city_path):\n",
    "                if file.endswith(\"_labelIds.png\"):\n",
    "                    input_path = os.path.join(city_path, file)\n",
    "                    output_path = input_path.replace(\"_labelIds\", \"_labelTrainIds\")\n",
    "\n",
    "                    # Conversione usando json2labelImg\n",
    "                    json2labelImg(input_path, output_path, \"trainIds\")\n",
    "                    print(f\"Convertito: {input_path} -> {output_path}\")\n",
    "\n",
    "base_dir = \"C:/Users/vcata/Downloads/leftImg8bit_trainvaltest/leftImg8bit\"\n",
    "# Percorsi delle directory\n",
    "leftImg8bit_path = os.path.join(base_dir, \"leftImg8bit\")\n",
    "gtFine_path = os.path.join(base_dir, \"gtFine\")\n",
    "\n",
    "# Conversione delle annotazioni\n",
    "convert_labelIds_to_trainIds(gtFine_path)"
   ],
   "outputs": [
    {
     "name": "stdout",
     "output_type": "stream",
     "text": [
      "Inizio conversione da _labelIds a _labelTrainIds...\n"
     ]
    }
   ],
   "execution_count": 4
  },
  {
   "metadata": {
    "ExecuteTime": {
     "end_time": "2024-12-22T10:42:44.745340Z",
     "start_time": "2024-12-22T10:40:39.379512Z"
    }
   },
   "cell_type": "code",
   "source": [
    "\n",
    "# python imports\n",
    "from __future__ import print_function, absolute_import, division\n",
    "import os, glob, sys\n",
    "\n",
    "# cityscapes imports\n",
    "from cityscapesscripts.helpers.csHelpers import printError\n",
    "from cityscapesscripts.preparation.json2labelImg import json2labelImg\n",
    "\n",
    "# The main method\n",
    "def main():\n",
    "    # Where to look for Cityscapes\n",
    "\n",
    "    cityscapesPath = \"C:/Users/vcata/Downloads/leftImg8bit_trainvaltest/leftImg8bit\"\n",
    "    # how to search for all ground truth\n",
    "    searchFine   = os.path.join( cityscapesPath , \"gtFine\"   , \"*\" , \"*\" , \"*_gt*_polygons.json\" )\n",
    "    searchCoarse = os.path.join( cityscapesPath , \"gtCoarse\" , \"*\" , \"*\" , \"*_gt*_polygons.json\" )\n",
    "\n",
    "    # search files\n",
    "    filesFine = glob.glob( searchFine )\n",
    "    filesFine.sort()\n",
    "    filesCoarse = glob.glob( searchCoarse )\n",
    "    filesCoarse.sort()\n",
    "\n",
    "    # concatenate fine and coarse\n",
    "    files = filesFine + filesCoarse\n",
    "    # files = filesFine # use this line if fine is enough for now.\n",
    "\n",
    "    # quit if we did not find anything\n",
    "    if not files:\n",
    "        printError( \"Did not find any files. Please consult the README.\" )\n",
    "\n",
    "    # a bit verbose\n",
    "    print(\"Processing {} annotation files\".format(len(files)))\n",
    "\n",
    "    # iterate through files\n",
    "    progress = 0\n",
    "    print(\"Progress: {:>3} %\".format( progress * 100 / len(files) ), end=' ')\n",
    "    for f in files:\n",
    "        # create the output filename\n",
    "        dst = f.replace( \"_polygons.json\" , \"_labelTrainIds.png\" )\n",
    "\n",
    "        # do the conversion\n",
    "        try:\n",
    "            json2labelImg( f , dst , \"trainIds\" )\n",
    "        except:\n",
    "            print(\"Failed to convert: {}\".format(f))\n",
    "            raise\n",
    "\n",
    "        # status\n",
    "        progress += 1\n",
    "        print(\"\\rProgress: {:>3} %\".format( progress * 100 / len(files) ), end=' ')\n",
    "        sys.stdout.flush()\n",
    "\n",
    "\n",
    "# call the main\n",
    "if __name__ == \"__main__\":\n",
    "    main()"
   ],
   "outputs": [
    {
     "name": "stdout",
     "output_type": "stream",
     "text": [
      "Processing 5000 annotation files\n",
      "Progress: 100.0 %                                                                                                                                                                                                                                                                                                                                                                                                                                                                                                                                                                                                                                                                                                                                                                                                                                                                                                                                                                                                                                                                                                                                                                                                                                                                                                                                                                                                                                                                                                                                                                                                                                                                                                                                                                                                                                                                                                                                                                                                                                                                                                                                                                                                                                                                                                                                                                                                                                                                                                                                                                                                                                                                                                                                                                                                                                                                                                                                                                                                                   "
     ]
    }
   ],
   "execution_count": 6
  },
  {
   "metadata": {
    "ExecuteTime": {
     "end_time": "2024-12-22T13:48:35.568861Z",
     "start_time": "2024-12-22T13:48:28.686487Z"
    }
   },
   "cell_type": "code",
   "source": [
    "import torch\n",
    "print(torch.__file__)"
   ],
   "outputs": [
    {
     "name": "stdout",
     "output_type": "stream",
     "text": [
      "C:\\Users\\vcata\\AppData\\Local\\Programs\\Python\\Python311\\Lib\\site-packages\\torch\\__init__.py\n"
     ]
    }
   ],
   "execution_count": 1
  }
 ]
}
